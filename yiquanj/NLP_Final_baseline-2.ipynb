{
  "nbformat": 4,
  "nbformat_minor": 0,
  "metadata": {
    "colab": {
      "name": "NLP-Final-baseline.ipynb",
      "version": "0.3.2",
      "provenance": [],
      "collapsed_sections": []
    },
    "kernelspec": {
      "name": "python3",
      "display_name": "Python 3"
    },
    "accelerator": "GPU"
  },
  "cells": [
    {
      "cell_type": "code",
      "metadata": {
        "id": "WjNMvDqYqle0",
        "colab_type": "code",
        "colab": {}
      },
      "source": [
        "OUTPUTPath = './output/'\n",
        "!mkdir ./output"
      ],
      "execution_count": 0,
      "outputs": []
    },
    {
      "cell_type": "code",
      "metadata": {
        "id": "-O2CzZzctzWe",
        "colab_type": "code",
        "outputId": "ebc82450-c968-4bbb-df6f-afba4228475c",
        "colab": {
          "base_uri": "https://localhost:8080/",
          "height": 749
        }
      },
      "source": [
        "# Save model to your Drive\n",
        "from google.colab import drive\n",
        "drive.mount('/content/gdrive')"
      ],
      "execution_count": 0,
      "outputs": [
        {
          "output_type": "stream",
          "text": [
            "Go to this URL in a browser: https://accounts.google.com/o/oauth2/auth?client_id=947318989803-6bn6qk8qdgf4n4g3pfee6491hc0brc4i.apps.googleusercontent.com&redirect_uri=urn%3Aietf%3Awg%3Aoauth%3A2.0%3Aoob&scope=email%20https%3A%2F%2Fwww.googleapis.com%2Fauth%2Fdocs.test%20https%3A%2F%2Fwww.googleapis.com%2Fauth%2Fdrive%20https%3A%2F%2Fwww.googleapis.com%2Fauth%2Fdrive.photos.readonly%20https%3A%2F%2Fwww.googleapis.com%2Fauth%2Fpeopleapi.readonly&response_type=code\n",
            "\n",
            "Enter your authorization code:\n",
            "··········\n",
            "Mounted at /content/gdrive\n"
          ],
          "name": "stdout"
        }
      ]
    },
    {
      "cell_type": "code",
      "metadata": {
        "id": "bUcb8XvMs3vn",
        "colab_type": "code",
        "outputId": "74b78840-733d-4826-e0f5-678ce1cc4f40",
        "colab": {
          "base_uri": "https://localhost:8080/",
          "height": 224
        }
      },
      "source": [
        "import os\n",
        "import pandas as pd\n",
        "DATA_SET_DIR = './gdrive/My Drive/NLP/Final-Project/data/'\n",
        "TRAINING_DATA_PATH = DATA_SET_DIR+'olid-training-clean.csv'\n",
        "TEST_PATH_DICT = {}\n",
        "TEST_A_DATA_PATH = DATA_SET_DIR+'testset-levela-clean.tsv'\n",
        "TEST_B_DATA_PATH = DATA_SET_DIR+'testset-levelb-clean.tsv'\n",
        "TEST_C_DATA_PATH = DATA_SET_DIR+'testset-levelc-clean.tsv'\n",
        "TEST_PATH_DICT['subtask_a'] = TEST_A_DATA_PATH\n",
        "TEST_PATH_DICT['subtask_b'] = TEST_B_DATA_PATH\n",
        "TEST_PATH_DICT['subtask_c'] = TEST_C_DATA_PATH\n",
        "\n",
        "data={}\n",
        "data['train'] = {}\n",
        "data['validation'] = {}\n",
        "data['test'] = {}\n",
        "task_list = ['subtask_a','subtask_b','subtask_c']\n",
        "train = pd.read_csv(TRAINING_DATA_PATH,sep='\\t', index_col='id')\n",
        "for subtask in task_list:\n",
        "    data['test'][subtask] = pd.read_csv(TEST_PATH_DICT[subtask],sep='\\t', index_col='id')\n",
        "train.head(3)"
      ],
      "execution_count": 0,
      "outputs": [
        {
          "output_type": "execute_result",
          "data": {
            "text/html": [
              "<div>\n",
              "<style scoped>\n",
              "    .dataframe tbody tr th:only-of-type {\n",
              "        vertical-align: middle;\n",
              "    }\n",
              "\n",
              "    .dataframe tbody tr th {\n",
              "        vertical-align: top;\n",
              "    }\n",
              "\n",
              "    .dataframe thead th {\n",
              "        text-align: right;\n",
              "    }\n",
              "</style>\n",
              "<table border=\"1\" class=\"dataframe\">\n",
              "  <thead>\n",
              "    <tr style=\"text-align: right;\">\n",
              "      <th></th>\n",
              "      <th>tweet_exp</th>\n",
              "      <th>subtask_a</th>\n",
              "      <th>subtask_b</th>\n",
              "      <th>subtask_c</th>\n",
              "    </tr>\n",
              "    <tr>\n",
              "      <th>id</th>\n",
              "      <th></th>\n",
              "      <th></th>\n",
              "      <th></th>\n",
              "      <th></th>\n",
              "    </tr>\n",
              "  </thead>\n",
              "  <tbody>\n",
              "    <tr>\n",
              "      <th>86426</th>\n",
              "      <td>@USER She should ask a few native Americans wh...</td>\n",
              "      <td>OFF</td>\n",
              "      <td>UNT</td>\n",
              "      <td>NaN</td>\n",
              "    </tr>\n",
              "    <tr>\n",
              "      <th>90194</th>\n",
              "      <td>@USER @USER Go home you are drunk!!! @USER #MA...</td>\n",
              "      <td>OFF</td>\n",
              "      <td>TIN</td>\n",
              "      <td>IND</td>\n",
              "    </tr>\n",
              "    <tr>\n",
              "      <th>16820</th>\n",
              "      <td>Amazon is investigating Chinese employees who ...</td>\n",
              "      <td>NOT</td>\n",
              "      <td>NaN</td>\n",
              "      <td>NaN</td>\n",
              "    </tr>\n",
              "  </tbody>\n",
              "</table>\n",
              "</div>"
            ],
            "text/plain": [
              "                                               tweet_exp  ... subtask_c\n",
              "id                                                        ...          \n",
              "86426  @USER She should ask a few native Americans wh...  ...       NaN\n",
              "90194  @USER @USER Go home you are drunk!!! @USER #MA...  ...       IND\n",
              "16820  Amazon is investigating Chinese employees who ...  ...       NaN\n",
              "\n",
              "[3 rows x 4 columns]"
            ]
          },
          "metadata": {
            "tags": []
          },
          "execution_count": 76
        }
      ]
    },
    {
      "cell_type": "code",
      "metadata": {
        "id": "QuXhTPyLuAS-",
        "colab_type": "code",
        "outputId": "1df2640a-b41f-4a5f-9b21-d5c11c35955f",
        "colab": {
          "base_uri": "https://localhost:8080/",
          "height": 289
        }
      },
      "source": [
        "print(train.isna().any())\n",
        "print('-'*10)\n",
        "print(train.subtask_a.value_counts())\n",
        "print(train.subtask_b.value_counts())\n",
        "print(train.subtask_c.value_counts())"
      ],
      "execution_count": 0,
      "outputs": [
        {
          "output_type": "stream",
          "text": [
            "tweet_exp    False\n",
            "subtask_a    False\n",
            "subtask_b     True\n",
            "subtask_c     True\n",
            "dtype: bool\n",
            "----------\n",
            "NOT    8840\n",
            "OFF    4400\n",
            "Name: subtask_a, dtype: int64\n",
            "TIN    3876\n",
            "UNT     524\n",
            "Name: subtask_b, dtype: int64\n",
            "IND    2407\n",
            "GRP    1074\n",
            "OTH     395\n",
            "Name: subtask_c, dtype: int64\n"
          ],
          "name": "stdout"
        }
      ]
    },
    {
      "cell_type": "code",
      "metadata": {
        "id": "BIaYF1BJuDic",
        "colab_type": "code",
        "outputId": "e30bae7e-4060-4ab3-b010-8185bfe5f033",
        "colab": {
          "base_uri": "https://localhost:8080/",
          "height": 134
        }
      },
      "source": [
        "import re, string\n",
        "def _run_split_on_punc(text):\n",
        "    \"\"\"Splits punctuation on a piece of text.\"\"\"\n",
        "    chars = list(text)\n",
        "    i = 0\n",
        "    start_new_word = True\n",
        "    output = []\n",
        "    def _is_punctuation(char):\n",
        "        # print('[%s]+' % re.escape(string.punctuation))\n",
        "        if re.match(r'[\\!\\\"\\$\\%\\&\\(\\)\\*\\+\\,\\-\\.\\/\\:\\;\\<\\=\\>\\?\\[\\\\\\]\\^_\\`\\{\\|\\}\\~]+',char):\n",
        "            return True\n",
        "        else:\n",
        "            return False\n",
        "    while i < len(chars):\n",
        "        char = chars[i]\n",
        "        if _is_punctuation(char):\n",
        "            output.append([char])\n",
        "            start_new_word = True\n",
        "        else:\n",
        "            if start_new_word:\n",
        "                output.append([])\n",
        "            start_new_word = False\n",
        "            output[-1].append(char)\n",
        "        i += 1\n",
        "    text_list = [\"\".join(x) for x in output]\n",
        "    text = ' '.join(text_list)\n",
        "    text = text.split(' ')\n",
        "    return ' '.join(text)\n",
        "print(_run_split_on_punc(\"@USER @USER @USER @USER LOL!!!   Throwing the BULLSHIT Flag on such nonsense!!  #PutUpOrShutUp\"))"
      ],
      "execution_count": 0,
      "outputs": [
        {
          "output_type": "stream",
          "text": [
            "@USER @USER @USER @USER LOL ! ! !    Throwing the BULLSHIT Flag on such nonsense ! !   #PutUpOrShutUp\n"
          ],
          "name": "stdout"
        }
      ]
    },
    {
      "cell_type": "code",
      "metadata": {
        "id": "Rum4FsOHuIJH",
        "colab_type": "code",
        "colab": {}
      },
      "source": [
        "train.tweet_exp = train.tweet_exp.apply(_run_split_on_punc)\n",
        "for subtask in task_list:\n",
        "    data['test'][subtask].tweet_exp = data['test'][subtask].tweet_exp.apply(_run_split_on_punc)"
      ],
      "execution_count": 0,
      "outputs": []
    },
    {
      "cell_type": "code",
      "metadata": {
        "id": "quvIzipPmqQp",
        "colab_type": "code",
        "outputId": "5c9b5a67-c7c8-4c53-c005-5de334d231a4",
        "colab": {
          "base_uri": "https://localhost:8080/",
          "height": 340
        }
      },
      "source": [
        "classes_dict = {}\n",
        "classes_dict['subtask_a'] = {'NOT' : 0 ,'OFF' : 1}\n",
        "classes_dict['subtask_b'] = {'UNT' : 0 ,'TIN' : 1}\n",
        "classes_dict['subtask_c'] = {'IND' : 0 ,'OTH' : 1, 'GRP' : 2}\n",
        "for subtask in task_list:\n",
        "    data['train'][subtask]=pd.DataFrame()\n",
        "    for label in classes_dict[subtask]:\n",
        "        data_label = train[train[subtask]==label]\n",
        "        data['train'][subtask] = data['train'][subtask].append(train.loc[data_label.index])\n",
        "    print(subtask,\":\")\n",
        "    print(data['train'][subtask][subtask].value_counts())\n",
        "    print(len(data['train'][subtask]))\n",
        "    print('-'*10)"
      ],
      "execution_count": 0,
      "outputs": [
        {
          "output_type": "stream",
          "text": [
            "subtask_a :\n",
            "NOT    8840\n",
            "OFF    4400\n",
            "Name: subtask_a, dtype: int64\n",
            "13240\n",
            "----------\n",
            "subtask_b :\n",
            "TIN    3876\n",
            "UNT     524\n",
            "Name: subtask_b, dtype: int64\n",
            "4400\n",
            "----------\n",
            "subtask_c :\n",
            "IND    2407\n",
            "GRP    1074\n",
            "OTH     395\n",
            "Name: subtask_c, dtype: int64\n",
            "3876\n",
            "----------\n"
          ],
          "name": "stdout"
        }
      ]
    },
    {
      "cell_type": "code",
      "metadata": {
        "id": "R59KhvvZuK1I",
        "colab_type": "code",
        "outputId": "b7cbe773-01ed-49fa-f6e4-169bf232f46a",
        "colab": {
          "base_uri": "https://localhost:8080/",
          "height": 269
        }
      },
      "source": [
        "import numpy as np\n",
        "corpus_train = train.tweet_exp\n",
        "corpus = pd.concat([train.tweet_exp, data['test']['subtask_a'].tweet_exp,data['test']['subtask_b'].tweet_exp,data['test']['subtask_c'].tweet_exp])\n",
        "print(train.shape,corpus.shape)\n",
        "print(data['test']['subtask_a'].shape,data['test']['subtask_b'].shape,data['test']['subtask_c'].shape)\n",
        "pd.DataFrame(corpus.iloc[:5],columns=['tweet_exp'])"
      ],
      "execution_count": 0,
      "outputs": [
        {
          "output_type": "stream",
          "text": [
            "(13240, 4) (14553,)\n",
            "(860, 1) (240, 1) (213, 1)\n"
          ],
          "name": "stdout"
        },
        {
          "output_type": "execute_result",
          "data": {
            "text/html": [
              "<div>\n",
              "<style scoped>\n",
              "    .dataframe tbody tr th:only-of-type {\n",
              "        vertical-align: middle;\n",
              "    }\n",
              "\n",
              "    .dataframe tbody tr th {\n",
              "        vertical-align: top;\n",
              "    }\n",
              "\n",
              "    .dataframe thead th {\n",
              "        text-align: right;\n",
              "    }\n",
              "</style>\n",
              "<table border=\"1\" class=\"dataframe\">\n",
              "  <thead>\n",
              "    <tr style=\"text-align: right;\">\n",
              "      <th></th>\n",
              "      <th>tweet_exp</th>\n",
              "    </tr>\n",
              "    <tr>\n",
              "      <th>id</th>\n",
              "      <th></th>\n",
              "    </tr>\n",
              "  </thead>\n",
              "  <tbody>\n",
              "    <tr>\n",
              "      <th>86426</th>\n",
              "      <td>@USER She should ask a few native Americans wh...</td>\n",
              "    </tr>\n",
              "    <tr>\n",
              "      <th>90194</th>\n",
              "      <td>@USER @USER Go home you are drunk ! ! !  @USER...</td>\n",
              "    </tr>\n",
              "    <tr>\n",
              "      <th>16820</th>\n",
              "      <td>Amazon is investigating Chinese employees who ...</td>\n",
              "    </tr>\n",
              "    <tr>\n",
              "      <th>62688</th>\n",
              "      <td>@USER Someone should'veTaken \"  this piece of ...</td>\n",
              "    </tr>\n",
              "    <tr>\n",
              "      <th>43605</th>\n",
              "      <td>@USER @USER Obama wanted liberals  &amp; amp ;  il...</td>\n",
              "    </tr>\n",
              "  </tbody>\n",
              "</table>\n",
              "</div>"
            ],
            "text/plain": [
              "                                               tweet_exp\n",
              "id                                                      \n",
              "86426  @USER She should ask a few native Americans wh...\n",
              "90194  @USER @USER Go home you are drunk ! ! !  @USER...\n",
              "16820  Amazon is investigating Chinese employees who ...\n",
              "62688  @USER Someone should'veTaken \"  this piece of ...\n",
              "43605  @USER @USER Obama wanted liberals  & amp ;  il..."
            ]
          },
          "metadata": {
            "tags": []
          },
          "execution_count": 81
        }
      ]
    },
    {
      "cell_type": "code",
      "metadata": {
        "id": "W7yAr3QMuRmN",
        "colab_type": "code",
        "outputId": "5a0d04fe-22b5-4002-ad76-cb988e530168",
        "colab": {
          "base_uri": "https://localhost:8080/",
          "height": 171
        }
      },
      "source": [
        "from keras.preprocessing.text import Tokenizer\n",
        "from keras.preprocessing.sequence import pad_sequences\n",
        "MAX_NB_WORDS=10000\n",
        "tokenizer = Tokenizer(nb_words=None,filters='')\n",
        "tokenizer.fit_on_texts(corpus)\n",
        "X = tokenizer.texts_to_sequences(corpus_train)"
      ],
      "execution_count": 0,
      "outputs": [
        {
          "output_type": "stream",
          "text": [
            "/usr/local/lib/python3.6/dist-packages/keras_preprocessing/text.py:178: UserWarning: The `nb_words` argument in `Tokenizer` has been renamed `num_words`.\n",
            "  warnings.warn('The `nb_words` argument in `Tokenizer` '\n"
          ],
          "name": "stderr"
        }
      ]
    },
    {
      "cell_type": "code",
      "metadata": {
        "id": "ndpLrfW-ualu",
        "colab_type": "code",
        "outputId": "3a634be2-b360-4294-91a7-700a969f8dd3",
        "colab": {
          "base_uri": "https://localhost:8080/",
          "height": 253
        }
      },
      "source": [
        "for seq in X[:3]:\n",
        "    print(seq)\n",
        "    print([tokenizer.index_word[idx] for idx in seq])\n",
        "MAX_SEQUENCE_LENGTH = max([len(X[i]) for i in range(len(X))])\n",
        "print('MAX_SEQUENCE_LENGTH:',MAX_SEQUENCE_LENGTH)\n",
        "word_index = tokenizer.word_index\n",
        "print('Found %s unique tokens.' % len(word_index))"
      ],
      "execution_count": 0,
      "outputs": [
        {
          "output_type": "stream",
          "text": [
            "[1, 19, 87, 374, 7, 468, 2899, 311, 39, 72, 138, 27, 24, 4, 2]\n",
            "['@user', 'she', 'should', 'ask', 'a', 'few', 'native', 'americans', 'what', 'their', 'take', 'on', 'this', 'is', '.']\n",
            "[1, 1, 102, 338, 6, 10, 1008, 9, 9, 9, 1, 56, 1053, 20]\n",
            "['@user', '@user', 'go', 'home', 'you', 'are', 'drunk', '!', '!', '!', '@user', '#maga', '#trump2020', 'url']\n",
            "[2900, 4, 7358, 2141, 2649, 51, 10, 1737, 5648, 1574, 5, 1738, 29, 141, 10257, 291, 21, 66, 2901, 17, 3, 2902, 5649, 2, 20, 10258, 56, 423, 4680, 478]\n",
            "['amazon', 'is', 'investigating', 'chinese', 'employees', 'who', 'are', 'selling', 'internal', 'data', 'to', 'third', '-', 'party', 'sellers', 'looking', 'for', 'an', 'edge', 'in', 'the', 'competitive', 'marketplace', '.', 'url', '#amazon', '#maga', '#kag', '#china', '#tcot']\n",
            "MAX_SEQUENCE_LENGTH: 113\n",
            "Found 22043 unique tokens.\n"
          ],
          "name": "stdout"
        }
      ]
    },
    {
      "cell_type": "code",
      "metadata": {
        "id": "u1GBarY7ufrt",
        "colab_type": "code",
        "outputId": "c14ef6e9-e9eb-4761-f6a1-5d33084b483d",
        "colab": {
          "base_uri": "https://localhost:8080/",
          "height": 68
        }
      },
      "source": [
        "import keras\n",
        "from keras.preprocessing.sequence import pad_sequences\n",
        "def text2id(tokenizer,texts_pd,max_seq_length=MAX_SEQUENCE_LENGTH):\n",
        "  x_training = tokenizer.texts_to_sequences(texts_pd)\n",
        "  x_training = keras.preprocessing.sequence.pad_sequences(x_training,maxlen=max_seq_length)\n",
        "  for seq in x_training:\n",
        "      assert len(seq) == max_seq_length\n",
        "  print(\"all sequence length are \",max_seq_length)\n",
        "  return x_training\n",
        "for subtask in task_list:\n",
        "  data['train'][subtask+'_token_id'] = text2id(tokenizer, data['train'][subtask].tweet_exp)"
      ],
      "execution_count": 0,
      "outputs": [
        {
          "output_type": "stream",
          "text": [
            "all sequence length are  113\n",
            "all sequence length are  113\n",
            "all sequence length are  113\n"
          ],
          "name": "stdout"
        }
      ]
    },
    {
      "cell_type": "code",
      "metadata": {
        "id": "7HC4lrvluiVs",
        "colab_type": "code",
        "outputId": "977447b4-a392-41bf-ce4e-1830391f3c09",
        "colab": {
          "base_uri": "https://localhost:8080/",
          "height": 238
        }
      },
      "source": [
        "# 將分類標籤對應到剛定義的數字\n",
        "for subtask in task_list:\n",
        "  data['train'][subtask+'_y'] = data['train'][subtask][subtask].apply(lambda x: classes_dict[subtask][x])\n",
        "  print(data['train'][subtask+'_y'].value_counts())\n",
        "  data['train'][subtask+'_y'] = np.asarray(data['train'][subtask+'_y']).astype('float32')\n",
        "  print(data['train'][subtask+'_y'][:5])"
      ],
      "execution_count": 0,
      "outputs": [
        {
          "output_type": "stream",
          "text": [
            "0    8840\n",
            "1    4400\n",
            "Name: subtask_a, dtype: int64\n",
            "[0. 0. 0. 0. 0.]\n",
            "1    3876\n",
            "0     524\n",
            "Name: subtask_b, dtype: int64\n",
            "[0. 0. 0. 0. 0.]\n",
            "0    2407\n",
            "2    1074\n",
            "1     395\n",
            "Name: subtask_c, dtype: int64\n",
            "[0. 0. 0. 0. 0.]\n"
          ],
          "name": "stdout"
        }
      ]
    },
    {
      "cell_type": "code",
      "metadata": {
        "id": "tlG8kXsUvnL3",
        "colab_type": "code",
        "outputId": "88d62661-b4bc-4ef0-f986-31d34e3bd450",
        "colab": {
          "base_uri": "https://localhost:8080/",
          "height": 323
        }
      },
      "source": [
        "for key in data.keys():\n",
        "  print(key)\n",
        "  print('*'*10)\n",
        "  for sub_key in data[key].keys():\n",
        "    print(sub_key)"
      ],
      "execution_count": 0,
      "outputs": [
        {
          "output_type": "stream",
          "text": [
            "train\n",
            "**********\n",
            "subtask_a\n",
            "subtask_b\n",
            "subtask_c\n",
            "subtask_a_token_id\n",
            "subtask_b_token_id\n",
            "subtask_c_token_id\n",
            "subtask_a_y\n",
            "subtask_b_y\n",
            "subtask_c_y\n",
            "validation\n",
            "**********\n",
            "test\n",
            "**********\n",
            "subtask_a\n",
            "subtask_b\n",
            "subtask_c\n"
          ],
          "name": "stdout"
        }
      ]
    },
    {
      "cell_type": "code",
      "metadata": {
        "id": "DJ2bYB1humkU",
        "colab_type": "code",
        "outputId": "0f91f04d-a89c-4f5e-800b-b04452679363",
        "colab": {
          "base_uri": "https://localhost:8080/",
          "height": 425
        }
      },
      "source": [
        "from sklearn.model_selection import train_test_split\n",
        "NUM_LSTM_UNITS = 128\n",
        "# y_train = keras.utils.to_categorical(y_train)\n",
        "\n",
        "VALIDATION_RATIO = 0.1\n",
        "# 小彩蛋\n",
        "RANDOM_STATE = 9527\n",
        "for subtask in task_list:\n",
        "  if subtask == 'subtask_c':\n",
        "    data['train'][subtask+'_y'] = keras.utils.to_categorical(data['train'][subtask+'_y'])\n",
        "  data['train'][subtask+'_x_train'], data['validation'][subtask+'_x_val'], \\\n",
        "  data['train'][subtask+'_y_train'], data['validation'][subtask+'_y_val'] =train_test_split(data['train'][subtask+'_token_id'],data['train'][subtask+'_y'],test_size=VALIDATION_RATIO,random_state=RANDOM_STATE)\n",
        "  print(\"Training Set\",'----',subtask)\n",
        "  print(\"-\" * 10)\n",
        "  print(\"x_train: \", data['train'][subtask+'_x_train'].shape)\n",
        "  print(\"y_train : \", data['train'][subtask+'_y_train'].shape)\n",
        "\n",
        "  print(\"-\" * 10)\n",
        "  print(\"x_val:   \", data['validation'][subtask+'_x_val'].shape)\n",
        "  print(\"y_val :   \", data['validation'][subtask+'_y_val'].shape)\n",
        "  print(\"#\" * 10)"
      ],
      "execution_count": 0,
      "outputs": [
        {
          "output_type": "stream",
          "text": [
            "Training Set ---- subtask_a\n",
            "----------\n",
            "x_train:  (11916, 113)\n",
            "y_train :  (11916,)\n",
            "----------\n",
            "x_val:    (1324, 113)\n",
            "y_val :    (1324,)\n",
            "##########\n",
            "Training Set ---- subtask_b\n",
            "----------\n",
            "x_train:  (3960, 113)\n",
            "y_train :  (3960,)\n",
            "----------\n",
            "x_val:    (440, 113)\n",
            "y_val :    (440,)\n",
            "##########\n",
            "Training Set ---- subtask_c\n",
            "----------\n",
            "x_train:  (3488, 113)\n",
            "y_train :  (3488, 3)\n",
            "----------\n",
            "x_val:    (388, 113)\n",
            "y_val :    (388, 3)\n",
            "##########\n"
          ],
          "name": "stdout"
        }
      ]
    },
    {
      "cell_type": "code",
      "metadata": {
        "id": "yrlQ-iDEx_LG",
        "colab_type": "code",
        "outputId": "a4be995b-36bc-45c8-878b-0da13a5219cf",
        "colab": {
          "base_uri": "https://localhost:8080/",
          "height": 561
        }
      },
      "source": [
        "for key in data.keys():\n",
        "  print(key,' ---------->')\n",
        "  for sub_key in data[key].keys():\n",
        "    print(sub_key)\n",
        "  print('*'*10)"
      ],
      "execution_count": 0,
      "outputs": [
        {
          "output_type": "stream",
          "text": [
            "train  ---------->\n",
            "subtask_a\n",
            "subtask_b\n",
            "subtask_c\n",
            "subtask_a_token_id\n",
            "subtask_b_token_id\n",
            "subtask_c_token_id\n",
            "subtask_a_y\n",
            "subtask_b_y\n",
            "subtask_c_y\n",
            "subtask_a_x_train\n",
            "subtask_a_y_train\n",
            "subtask_b_x_train\n",
            "subtask_b_y_train\n",
            "subtask_c_x_train\n",
            "subtask_c_y_train\n",
            "**********\n",
            "validation  ---------->\n",
            "subtask_a_x_val\n",
            "subtask_a_y_val\n",
            "subtask_b_x_val\n",
            "subtask_b_y_val\n",
            "subtask_c_x_val\n",
            "subtask_c_y_val\n",
            "**********\n",
            "test  ---------->\n",
            "subtask_a\n",
            "subtask_b\n",
            "subtask_c\n",
            "subtask_a_x_test\n",
            "subtask_b_x_test\n",
            "**********\n"
          ],
          "name": "stdout"
        }
      ]
    },
    {
      "cell_type": "code",
      "metadata": {
        "id": "959Ur_Zxurh6",
        "colab_type": "code",
        "outputId": "964b4e94-de05-44ba-af6a-eed2b03eb716",
        "colab": {
          "base_uri": "https://localhost:8080/",
          "height": 34
        }
      },
      "source": [
        "GLOVE_DIR='./gdrive/My Drive/NLP/Final-Project/WordEmb'\n",
        "embeddings_index = {}\n",
        "f = open(os.path.join(GLOVE_DIR, 'glove.twitter.27B.100d.txt'))\n",
        "for line in f:\n",
        "    values = line.split()\n",
        "    word = values[0]\n",
        "    coefs = np.asarray(values[1:], dtype='float32')\n",
        "    embeddings_index[word] = coefs\n",
        "f.close()\n",
        "\n",
        "print('Found %s word vectors.' % len(embeddings_index))"
      ],
      "execution_count": 0,
      "outputs": [
        {
          "output_type": "stream",
          "text": [
            "Found 1193514 word vectors.\n"
          ],
          "name": "stdout"
        }
      ]
    },
    {
      "cell_type": "code",
      "metadata": {
        "id": "z3tvlwqDu1uY",
        "colab_type": "code",
        "outputId": "c9bf86b3-4061-4f0b-829c-9765f4c3ec35",
        "colab": {
          "base_uri": "https://localhost:8080/",
          "height": 34
        }
      },
      "source": [
        "EMBEDDING_DIM = 100\n",
        "embedding_matrix = np.zeros((len(word_index) + 1, EMBEDDING_DIM))\n",
        "null_words = open('./output/null-word.txt', 'w', encoding='utf-8')\n",
        "for word, i in word_index.items():\n",
        "    embedding_vector = embeddings_index.get(word)\n",
        "    if embedding_vector is not None:\n",
        "        # words not found in embedding index will be all-zeros.\n",
        "        embedding_matrix[i] = embedding_vector\n",
        "    else:\n",
        "        null_words.write(word + '\\n')\n",
        "print('###[EMB] Null word embeddings: %d' % np.sum(np.sum(embedding_matrix, axis=1) == 0))"
      ],
      "execution_count": 0,
      "outputs": [
        {
          "output_type": "stream",
          "text": [
            "###[EMB] Null word embeddings: 5696\n"
          ],
          "name": "stdout"
        }
      ]
    },
    {
      "cell_type": "code",
      "metadata": {
        "id": "5MFt_nW_u8or",
        "colab_type": "code",
        "colab": {}
      },
      "source": [
        "from keras.optimizers import Adam\n",
        "import pickle\n",
        "from keras.models import *\n",
        "from keras.layers import *\n",
        "from keras.callbacks import ModelCheckpoint"
      ],
      "execution_count": 0,
      "outputs": []
    },
    {
      "cell_type": "code",
      "metadata": {
        "id": "nkXCAGBru-MP",
        "colab_type": "code",
        "colab": {}
      },
      "source": [
        "def CNN_binary_class(IsBinaryClass=True):\n",
        "  input_data = Input(shape=(MAX_SEQUENCE_LENGTH,),dtype='int32')\n",
        "  emb_x = Embedding(len(word_index) + 1,\n",
        "                              EMBEDDING_DIM,\n",
        "                              weights=[embedding_matrix],\n",
        "                              input_length=MAX_SEQUENCE_LENGTH,\n",
        "                              trainable=True)(input_data)\n",
        "  conv1_x = Conv1D(64, 2, activation='relu')(emb_x)\n",
        "  x_1 =GlobalMaxPooling1D()(conv1_x)\n",
        "  conv2_x = Conv1D(64, 3, activation='relu')(emb_x)\n",
        "  x_2 = GlobalMaxPooling1D()(conv2_x)\n",
        "  conv3_x = Conv1D(64, 5, activation='relu')(emb_x)\n",
        "  x_3 = GlobalMaxPooling1D()(conv3_x)\n",
        "\n",
        "  merged = concatenate([x_1, x_2,x_3],axis=-1)\n",
        "  merged=BatchNormalization()(merged)\n",
        "  merged = Dense(units=300,kernel_initializer='random_normal')(merged)\n",
        "  merged=PReLU()(merged)\n",
        "  merged=BatchNormalization()(merged)\n",
        "  if IsBinaryClass:\n",
        "    predictions = Dense(1, activation='sigmoid', kernel_initializer='random_normal')(merged)\n",
        "  else:\n",
        "    predictions = Dense(3, activation='softmax', kernel_initializer='random_normal')(merged)\n",
        "\n",
        "  model = Model(\n",
        "      inputs=input_data,\n",
        "      outputs=predictions)\n",
        "  return model"
      ],
      "execution_count": 0,
      "outputs": []
    },
    {
      "cell_type": "code",
      "metadata": {
        "id": "7X9M7HFhvBbF",
        "colab_type": "code",
        "colab": {}
      },
      "source": [
        "from keras.callbacks import Callback\n",
        "from sklearn.metrics import confusion_matrix, f1_score, precision_score, recall_score\n",
        "class Metrics(Callback):\n",
        "    def __init__(self, filepath,validation_data=(),IsBinaryClass=True):\n",
        "        self.file_path = filepath\n",
        "        self.X_val, self.y_val = validation_data\n",
        "        if not IsBinaryClass:\n",
        "          self.y_val = np.argmax(self.y_val,axis=1)\n",
        "        self.IsBinaryClass_ = IsBinaryClass\n",
        "    def on_train_begin(self, logs={}):\n",
        "        self.val_f1s = []\n",
        "        self.best_val_f1 = 0\n",
        "        self.val_recalls = []\n",
        "        self.val_precisions = []\n",
        "\n",
        "    def on_epoch_end(self, epoch, logs={}):\n",
        "        if self.IsBinaryClass_:\n",
        "          val_predict = (np.asarray(self.model.predict(self.X_val))).round().astype('int').reshape(-1)\n",
        "        else:\n",
        "          val_predict = np.argmax(self.model.predict(self.X_val),axis=1)\n",
        "        val_targ = self.y_val\n",
        "        _val_f1 = f1_score(val_targ, val_predict,average='macro')\n",
        "#         _val_recall = recall_score(val_targ, val_predict)\n",
        "#         _val_precision = precision_score(val_targ, val_predict)\n",
        "        self.val_f1s.append(_val_f1)\n",
        "#         self.val_recalls.append(_val_recall)\n",
        "#         self.val_precisions.append(_val_precision)\n",
        "#         print(' — val_f1: %f — val_precision: %f — val_recall %f' %(_val_f1, _val_precision, _val_recall))\n",
        "        print(' — val_f1: %f' %(_val_f1))\n",
        "        print(\"max f1; \",max(self.val_f1s))\n",
        "        if _val_f1 > self.best_val_f1:\n",
        "            self.model.save(self.file_path, overwrite=True)\n",
        "            self.best_val_f1 = _val_f1\n",
        "            print(\"best f1: {}\".format(self.best_val_f1))\n",
        "        else:\n",
        "            print(\"val f1: {}, but not the best f1\".format(_val_f1))\n",
        "        return"
      ],
      "execution_count": 0,
      "outputs": []
    },
    {
      "cell_type": "markdown",
      "metadata": {
        "id": "8pVS8IQjY8L4",
        "colab_type": "text"
      },
      "source": [
        "TARGET_TASK = 'subtask_a'  ----->  train subtask a"
      ]
    },
    {
      "cell_type": "code",
      "metadata": {
        "id": "iUJalxyV-ONA",
        "colab_type": "code",
        "outputId": "a04e8ec2-7a73-4edb-fa07-8e326e7e83b2",
        "colab": {
          "base_uri": "https://localhost:8080/",
          "height": 766
        }
      },
      "source": [
        "TARGET_TASK = 'subtask_c'\n",
        "# data['validation'][TARGET_TASK+'_y_val'] = np.argmax(data['validation'][TARGET_TASK+'_y_val'],axis=1)\n",
        "if TARGET_TASK == 'subtask_c':\n",
        "  Is_Binary_Class = False\n",
        "MODEL_SAVE_PATH='./output/CNN_Train_'+TARGET_TASK+'.hdf5' \n",
        "metrics = Metrics(MODEL_SAVE_PATH,\n",
        "                  validation_data=(data['validation'][TARGET_TASK+'_x_val'],data['validation'][TARGET_TASK+'_y_val']),\n",
        "                  IsBinaryClass=Is_Binary_Class)\n",
        "\n",
        "model=CNN_binary_class(IsBinaryClass=Is_Binary_Class)\n",
        "model.summary()\n",
        "model.compile(loss='binary_crossentropy',\n",
        "          optimizer= \"adam\",\n",
        "          metrics=['accuracy'])"
      ],
      "execution_count": 0,
      "outputs": [
        {
          "output_type": "stream",
          "text": [
            "__________________________________________________________________________________________________\n",
            "Layer (type)                    Output Shape         Param #     Connected to                     \n",
            "==================================================================================================\n",
            "input_13 (InputLayer)           (None, 113)          0                                            \n",
            "__________________________________________________________________________________________________\n",
            "embedding_13 (Embedding)        (None, 113, 100)     2204400     input_13[0][0]                   \n",
            "__________________________________________________________________________________________________\n",
            "conv1d_37 (Conv1D)              (None, 112, 64)      12864       embedding_13[0][0]               \n",
            "__________________________________________________________________________________________________\n",
            "conv1d_38 (Conv1D)              (None, 111, 64)      19264       embedding_13[0][0]               \n",
            "__________________________________________________________________________________________________\n",
            "conv1d_39 (Conv1D)              (None, 109, 64)      32064       embedding_13[0][0]               \n",
            "__________________________________________________________________________________________________\n",
            "global_max_pooling1d_37 (Global (None, 64)           0           conv1d_37[0][0]                  \n",
            "__________________________________________________________________________________________________\n",
            "global_max_pooling1d_38 (Global (None, 64)           0           conv1d_38[0][0]                  \n",
            "__________________________________________________________________________________________________\n",
            "global_max_pooling1d_39 (Global (None, 64)           0           conv1d_39[0][0]                  \n",
            "__________________________________________________________________________________________________\n",
            "concatenate_13 (Concatenate)    (None, 192)          0           global_max_pooling1d_37[0][0]    \n",
            "                                                                 global_max_pooling1d_38[0][0]    \n",
            "                                                                 global_max_pooling1d_39[0][0]    \n",
            "__________________________________________________________________________________________________\n",
            "batch_normalization_25 (BatchNo (None, 192)          768         concatenate_13[0][0]             \n",
            "__________________________________________________________________________________________________\n",
            "dense_25 (Dense)                (None, 300)          57900       batch_normalization_25[0][0]     \n",
            "__________________________________________________________________________________________________\n",
            "p_re_lu_13 (PReLU)              (None, 300)          300         dense_25[0][0]                   \n",
            "__________________________________________________________________________________________________\n",
            "batch_normalization_26 (BatchNo (None, 300)          1200        p_re_lu_13[0][0]                 \n",
            "__________________________________________________________________________________________________\n",
            "dense_26 (Dense)                (None, 3)            903         batch_normalization_26[0][0]     \n",
            "==================================================================================================\n",
            "Total params: 2,329,663\n",
            "Trainable params: 2,328,679\n",
            "Non-trainable params: 984\n",
            "__________________________________________________________________________________________________\n"
          ],
          "name": "stdout"
        }
      ]
    },
    {
      "cell_type": "code",
      "metadata": {
        "id": "i4JVVcNsvK8R",
        "colab_type": "code",
        "outputId": "096b3116-66a5-44f0-ddc6-759cda6c4d89",
        "colab": {
          "base_uri": "https://localhost:8080/",
          "height": 4304
        }
      },
      "source": [
        "BATCH_SIZE = 512\n",
        "NUM_EPOCHS = 50\n",
        "history = model.fit(\n",
        "    x=data['train'][TARGET_TASK+'_x_train'],\n",
        "    y=data['train'][TARGET_TASK+'_y_train'],\n",
        "    batch_size=BATCH_SIZE,\n",
        "    epochs=NUM_EPOCHS,\n",
        "    callbacks=[metrics],\n",
        "    # 每個 epoch 完後計算驗證資料集\n",
        "    # 上的 Loss 以及準確度\n",
        "    validation_data=(data['validation'][TARGET_TASK+'_x_val'],data['validation'][TARGET_TASK+'_y_val']),\n",
        "    # 每個 epoch 隨機調整訓練資料集\n",
        "    # 裡頭的數據以讓訓練過程更穩定\n",
        "    shuffle=True,\n",
        ")"
      ],
      "execution_count": 0,
      "outputs": [
        {
          "output_type": "stream",
          "text": [
            "Train on 3488 samples, validate on 388 samples\n",
            "Epoch 1/50\n",
            "3488/3488 [==============================] - 3s 971us/step - loss: 0.6663 - acc: 0.6706 - val_loss: 0.5510 - val_acc: 0.7337\n",
            " — val_f1: 0.430729\n",
            "max f1;  0.43072931146325644\n",
            "best f1: 0.43072931146325644\n",
            "Epoch 2/50\n",
            "3488/3488 [==============================] - 0s 59us/step - loss: 0.4628 - acc: 0.8063 - val_loss: 0.5689 - val_acc: 0.7363\n",
            " — val_f1: 0.417058\n",
            "max f1;  0.43072931146325644\n",
            "val f1: 0.41705839075811957, but not the best f1\n",
            "Epoch 3/50\n",
            "3488/3488 [==============================] - 0s 44us/step - loss: 0.3705 - acc: 0.8609 - val_loss: 0.5015 - val_acc: 0.7689\n",
            " — val_f1: 0.504536\n",
            "max f1;  0.5045361468551887\n",
            "best f1: 0.5045361468551887\n",
            "Epoch 4/50\n",
            "3488/3488 [==============================] - 0s 40us/step - loss: 0.2951 - acc: 0.9099 - val_loss: 0.4933 - val_acc: 0.7792\n",
            " — val_f1: 0.463305\n",
            "max f1;  0.5045361468551887\n",
            "val f1: 0.46330519520323515, but not the best f1\n",
            "Epoch 5/50\n",
            "3488/3488 [==============================] - 0s 37us/step - loss: 0.2212 - acc: 0.9404 - val_loss: 0.4939 - val_acc: 0.7861\n",
            " — val_f1: 0.491183\n",
            "max f1;  0.5045361468551887\n",
            "val f1: 0.49118292514518935, but not the best f1\n",
            "Epoch 6/50\n",
            "3488/3488 [==============================] - 0s 40us/step - loss: 0.1570 - acc: 0.9697 - val_loss: 0.5074 - val_acc: 0.7844\n",
            " — val_f1: 0.500365\n",
            "max f1;  0.5045361468551887\n",
            "val f1: 0.5003654970760234, but not the best f1\n",
            "Epoch 7/50\n",
            "3488/3488 [==============================] - 0s 37us/step - loss: 0.1037 - acc: 0.9847 - val_loss: 0.5195 - val_acc: 0.7921\n",
            " — val_f1: 0.502492\n",
            "max f1;  0.5045361468551887\n",
            "val f1: 0.5024924558431544, but not the best f1\n",
            "Epoch 8/50\n",
            "3488/3488 [==============================] - 0s 38us/step - loss: 0.0658 - acc: 0.9939 - val_loss: 0.5514 - val_acc: 0.7852\n",
            " — val_f1: 0.489571\n",
            "max f1;  0.5045361468551887\n",
            "val f1: 0.4895712438884514, but not the best f1\n",
            "Epoch 9/50\n",
            "3488/3488 [==============================] - 0s 38us/step - loss: 0.0405 - acc: 0.9960 - val_loss: 0.5827 - val_acc: 0.7818\n",
            " — val_f1: 0.478800\n",
            "max f1;  0.5045361468551887\n",
            "val f1: 0.4788001010398412, but not the best f1\n",
            "Epoch 10/50\n",
            "3488/3488 [==============================] - 0s 38us/step - loss: 0.0255 - acc: 0.9984 - val_loss: 0.6110 - val_acc: 0.7818\n",
            " — val_f1: 0.477724\n",
            "max f1;  0.5045361468551887\n",
            "val f1: 0.47772397788155746, but not the best f1\n",
            "Epoch 11/50\n",
            "3488/3488 [==============================] - 0s 39us/step - loss: 0.0161 - acc: 0.9995 - val_loss: 0.6360 - val_acc: 0.7852\n",
            " — val_f1: 0.471859\n",
            "max f1;  0.5045361468551887\n",
            "val f1: 0.47185857620640226, but not the best f1\n",
            "Epoch 12/50\n",
            "3488/3488 [==============================] - 0s 38us/step - loss: 0.0113 - acc: 0.9996 - val_loss: 0.6682 - val_acc: 0.7869\n",
            " — val_f1: 0.476914\n",
            "max f1;  0.5045361468551887\n",
            "val f1: 0.47691377347751857, but not the best f1\n",
            "Epoch 13/50\n",
            "3488/3488 [==============================] - 0s 39us/step - loss: 0.0082 - acc: 0.9998 - val_loss: 0.6923 - val_acc: 0.7912\n",
            " — val_f1: 0.492939\n",
            "max f1;  0.5045361468551887\n",
            "val f1: 0.4929388530326255, but not the best f1\n",
            "Epoch 14/50\n",
            "3488/3488 [==============================] - 0s 38us/step - loss: 0.0067 - acc: 0.9996 - val_loss: 0.7086 - val_acc: 0.7878\n",
            " — val_f1: 0.490237\n",
            "max f1;  0.5045361468551887\n",
            "val f1: 0.49023711648487267, but not the best f1\n",
            "Epoch 15/50\n",
            "3488/3488 [==============================] - 0s 38us/step - loss: 0.0053 - acc: 0.9996 - val_loss: 0.7311 - val_acc: 0.7887\n",
            " — val_f1: 0.487865\n",
            "max f1;  0.5045361468551887\n",
            "val f1: 0.48786482334869435, but not the best f1\n",
            "Epoch 16/50\n",
            "3488/3488 [==============================] - 0s 38us/step - loss: 0.0044 - acc: 0.9998 - val_loss: 0.7475 - val_acc: 0.7878\n",
            " — val_f1: 0.486158\n",
            "max f1;  0.5045361468551887\n",
            "val f1: 0.48615835630053644, but not the best f1\n",
            "Epoch 17/50\n",
            "3488/3488 [==============================] - 0s 38us/step - loss: 0.0040 - acc: 0.9996 - val_loss: 0.7529 - val_acc: 0.7826\n",
            " — val_f1: 0.494845\n",
            "max f1;  0.5045361468551887\n",
            "val f1: 0.4948453535694222, but not the best f1\n",
            "Epoch 18/50\n",
            "3488/3488 [==============================] - 0s 39us/step - loss: 0.0033 - acc: 0.9997 - val_loss: 0.7666 - val_acc: 0.7818\n",
            " — val_f1: 0.494893\n",
            "max f1;  0.5045361468551887\n",
            "val f1: 0.49489261077952307, but not the best f1\n",
            "Epoch 19/50\n",
            "3488/3488 [==============================] - 0s 38us/step - loss: 0.0028 - acc: 0.9998 - val_loss: 0.7816 - val_acc: 0.7844\n",
            " — val_f1: 0.484949\n",
            "max f1;  0.5045361468551887\n",
            "val f1: 0.4849489515329403, but not the best f1\n",
            "Epoch 20/50\n",
            "3488/3488 [==============================] - 0s 38us/step - loss: 0.0029 - acc: 0.9998 - val_loss: 0.7914 - val_acc: 0.7818\n",
            " — val_f1: 0.490870\n",
            "max f1;  0.5045361468551887\n",
            "val f1: 0.4908700322234157, but not the best f1\n",
            "Epoch 21/50\n",
            "3488/3488 [==============================] - 0s 38us/step - loss: 0.0022 - acc: 0.9998 - val_loss: 0.8013 - val_acc: 0.7809\n",
            " — val_f1: 0.482553\n",
            "max f1;  0.5045361468551887\n",
            "val f1: 0.4825533758161707, but not the best f1\n",
            "Epoch 22/50\n",
            "3488/3488 [==============================] - 0s 38us/step - loss: 0.0029 - acc: 0.9998 - val_loss: 0.8043 - val_acc: 0.7792\n",
            " — val_f1: 0.491865\n",
            "max f1;  0.5045361468551887\n",
            "val f1: 0.4918647991665703, but not the best f1\n",
            "Epoch 23/50\n",
            "3488/3488 [==============================] - 0s 38us/step - loss: 0.0024 - acc: 0.9998 - val_loss: 0.8132 - val_acc: 0.7775\n",
            " — val_f1: 0.508659\n",
            "max f1;  0.5086589238809113\n",
            "best f1: 0.5086589238809113\n",
            "Epoch 24/50\n",
            "3488/3488 [==============================] - 0s 40us/step - loss: 0.0019 - acc: 0.9999 - val_loss: 0.8264 - val_acc: 0.7801\n",
            " — val_f1: 0.489336\n",
            "max f1;  0.5086589238809113\n",
            "val f1: 0.48933597852724936, but not the best f1\n",
            "Epoch 25/50\n",
            "3488/3488 [==============================] - 0s 39us/step - loss: 0.0021 - acc: 0.9997 - val_loss: 0.8372 - val_acc: 0.7809\n",
            " — val_f1: 0.490021\n",
            "max f1;  0.5086589238809113\n",
            "val f1: 0.49002140376803444, but not the best f1\n",
            "Epoch 26/50\n",
            "3488/3488 [==============================] - 0s 38us/step - loss: 0.0018 - acc: 0.9997 - val_loss: 0.8405 - val_acc: 0.7775\n",
            " — val_f1: 0.504208\n",
            "max f1;  0.5086589238809113\n",
            "val f1: 0.5042081927586252, but not the best f1\n",
            "Epoch 27/50\n",
            "3488/3488 [==============================] - 0s 39us/step - loss: 0.0015 - acc: 1.0000 - val_loss: 0.8466 - val_acc: 0.7766\n",
            " — val_f1: 0.506636\n",
            "max f1;  0.5086589238809113\n",
            "val f1: 0.5066358024691359, but not the best f1\n",
            "Epoch 28/50\n",
            "3488/3488 [==============================] - 0s 38us/step - loss: 0.0017 - acc: 0.9998 - val_loss: 0.8530 - val_acc: 0.7749\n",
            " — val_f1: 0.503142\n",
            "max f1;  0.5086589238809113\n",
            "val f1: 0.5031420552003742, but not the best f1\n",
            "Epoch 29/50\n",
            "3488/3488 [==============================] - 0s 39us/step - loss: 0.0016 - acc: 0.9998 - val_loss: 0.8604 - val_acc: 0.7758\n",
            " — val_f1: 0.506817\n",
            "max f1;  0.5086589238809113\n",
            "val f1: 0.5068171160840594, but not the best f1\n",
            "Epoch 30/50\n",
            "3488/3488 [==============================] - 0s 37us/step - loss: 0.0014 - acc: 0.9998 - val_loss: 0.8635 - val_acc: 0.7792\n",
            " — val_f1: 0.505674\n",
            "max f1;  0.5086589238809113\n",
            "val f1: 0.5056744160072539, but not the best f1\n",
            "Epoch 31/50\n",
            "3488/3488 [==============================] - 0s 39us/step - loss: 0.0015 - acc: 0.9996 - val_loss: 0.8699 - val_acc: 0.7775\n",
            " — val_f1: 0.502889\n",
            "max f1;  0.5086589238809113\n",
            "val f1: 0.5028891485398074, but not the best f1\n",
            "Epoch 32/50\n",
            "3488/3488 [==============================] - 0s 37us/step - loss: 0.0015 - acc: 0.9996 - val_loss: 0.8781 - val_acc: 0.7775\n",
            " — val_f1: 0.503957\n",
            "max f1;  0.5086589238809113\n",
            "val f1: 0.5039572383247606, but not the best f1\n",
            "Epoch 33/50\n",
            "3488/3488 [==============================] - 0s 39us/step - loss: 0.0011 - acc: 0.9998 - val_loss: 0.8818 - val_acc: 0.7749\n",
            " — val_f1: 0.504294\n",
            "max f1;  0.5086589238809113\n",
            "val f1: 0.5042941537574265, but not the best f1\n",
            "Epoch 34/50\n",
            "3488/3488 [==============================] - 0s 38us/step - loss: 0.0016 - acc: 0.9998 - val_loss: 0.8839 - val_acc: 0.7749\n",
            " — val_f1: 0.500772\n",
            "max f1;  0.5086589238809113\n",
            "val f1: 0.5007716049382717, but not the best f1\n",
            "Epoch 35/50\n",
            "3488/3488 [==============================] - 0s 38us/step - loss: 0.0012 - acc: 0.9998 - val_loss: 0.8928 - val_acc: 0.7766\n",
            " — val_f1: 0.501844\n",
            "max f1;  0.5086589238809113\n",
            "val f1: 0.5018437990052239, but not the best f1\n",
            "Epoch 36/50\n",
            "3488/3488 [==============================] - 0s 38us/step - loss: 0.0011 - acc: 0.9998 - val_loss: 0.9046 - val_acc: 0.7758\n",
            " — val_f1: 0.504773\n",
            "max f1;  0.5086589238809113\n",
            "val f1: 0.5047733866541205, but not the best f1\n",
            "Epoch 37/50\n",
            "3488/3488 [==============================] - 0s 38us/step - loss: 0.0013 - acc: 0.9998 - val_loss: 0.9101 - val_acc: 0.7732\n",
            " — val_f1: 0.502027\n",
            "max f1;  0.5086589238809113\n",
            "val f1: 0.5020274024423402, but not the best f1\n",
            "Epoch 38/50\n",
            "3488/3488 [==============================] - 0s 40us/step - loss: 0.0012 - acc: 0.9998 - val_loss: 0.9085 - val_acc: 0.7723\n",
            " — val_f1: 0.499997\n",
            "max f1;  0.5086589238809113\n",
            "val f1: 0.499997401112324, but not the best f1\n",
            "Epoch 39/50\n",
            "3488/3488 [==============================] - 0s 38us/step - loss: 8.3222e-04 - acc: 0.9999 - val_loss: 0.9099 - val_acc: 0.7749\n",
            " — val_f1: 0.503631\n",
            "max f1;  0.5086589238809113\n",
            "val f1: 0.5036307810569415, but not the best f1\n",
            "Epoch 40/50\n",
            "3488/3488 [==============================] - 0s 39us/step - loss: 0.0015 - acc: 0.9998 - val_loss: 0.9181 - val_acc: 0.7766\n",
            " — val_f1: 0.503549\n",
            "max f1;  0.5086589238809113\n",
            "val f1: 0.5035493827160494, but not the best f1\n",
            "Epoch 41/50\n",
            "3488/3488 [==============================] - 0s 38us/step - loss: 6.6810e-04 - acc: 1.0000 - val_loss: 0.9208 - val_acc: 0.7741\n",
            " — val_f1: 0.497100\n",
            "max f1;  0.5086589238809113\n",
            "val f1: 0.4970998703585232, but not the best f1\n",
            "Epoch 42/50\n",
            "3488/3488 [==============================] - 0s 38us/step - loss: 0.0013 - acc: 0.9998 - val_loss: 0.9198 - val_acc: 0.7758\n",
            " — val_f1: 0.499997\n",
            "max f1;  0.5086589238809113\n",
            "val f1: 0.499997401112324, but not the best f1\n",
            "Epoch 43/50\n",
            "3488/3488 [==============================] - 0s 38us/step - loss: 9.1921e-04 - acc: 0.9998 - val_loss: 0.9255 - val_acc: 0.7723\n",
            " — val_f1: 0.504534\n",
            "max f1;  0.5086589238809113\n",
            "val f1: 0.504533729967923, but not the best f1\n",
            "Epoch 44/50\n",
            "3488/3488 [==============================] - 0s 39us/step - loss: 0.0012 - acc: 0.9998 - val_loss: 0.9287 - val_acc: 0.7732\n",
            " — val_f1: 0.500707\n",
            "max f1;  0.5086589238809113\n",
            "val f1: 0.5007070054550674, but not the best f1\n",
            "Epoch 45/50\n",
            "3488/3488 [==============================] - 0s 38us/step - loss: 7.8608e-04 - acc: 0.9998 - val_loss: 0.9388 - val_acc: 0.7723\n",
            " — val_f1: 0.495988\n",
            "max f1;  0.5086589238809113\n",
            "val f1: 0.49598765432098774, but not the best f1\n",
            "Epoch 46/50\n",
            "3488/3488 [==============================] - 0s 38us/step - loss: 0.0010 - acc: 0.9998 - val_loss: 0.9431 - val_acc: 0.7723\n",
            " — val_f1: 0.493083\n",
            "max f1;  0.5086589238809113\n",
            "val f1: 0.4930828794573395, but not the best f1\n",
            "Epoch 47/50\n",
            "3488/3488 [==============================] - 0s 39us/step - loss: 6.3144e-04 - acc: 0.9999 - val_loss: 0.9442 - val_acc: 0.7698\n",
            " — val_f1: 0.502138\n",
            "max f1;  0.5086589238809113\n",
            "val f1: 0.5021377967114402, but not the best f1\n",
            "Epoch 48/50\n",
            "3488/3488 [==============================] - 0s 38us/step - loss: 0.0013 - acc: 0.9998 - val_loss: 0.9453 - val_acc: 0.7706\n",
            " — val_f1: 0.496687\n",
            "max f1;  0.5086589238809113\n",
            "val f1: 0.4966873412487447, but not the best f1\n",
            "Epoch 49/50\n",
            "3488/3488 [==============================] - 0s 38us/step - loss: 0.0011 - acc: 0.9996 - val_loss: 0.9457 - val_acc: 0.7749\n",
            " — val_f1: 0.479856\n",
            "max f1;  0.5086589238809113\n",
            "val f1: 0.4798556473036346, but not the best f1\n",
            "Epoch 50/50\n",
            "3488/3488 [==============================] - 0s 39us/step - loss: 0.0014 - acc: 0.9998 - val_loss: 0.9398 - val_acc: 0.7758\n",
            " — val_f1: 0.496840\n",
            "max f1;  0.5086589238809113\n",
            "val f1: 0.49684016707179196, but not the best f1\n"
          ],
          "name": "stdout"
        }
      ]
    },
    {
      "cell_type": "code",
      "metadata": {
        "id": "jk5y1kcP7WoL",
        "colab_type": "code",
        "colab": {}
      },
      "source": [
        "file_his = open('./output/CNNV5_train_hist_'+TARGET_TASK+'.pickle', 'wb')\n",
        "pickle.dump(history.history, file_his)\n",
        "file_his.close()"
      ],
      "execution_count": 0,
      "outputs": []
    },
    {
      "cell_type": "code",
      "metadata": {
        "id": "9W7GnTgBvRCi",
        "colab_type": "code",
        "outputId": "0f31ceeb-2557-45d9-f473-9c48d7588cf1",
        "colab": {
          "base_uri": "https://localhost:8080/",
          "height": 34
        }
      },
      "source": [
        "data['test'][TARGET_TASK+'_x_test'] = text2id(tokenizer, data['test'][TARGET_TASK].tweet_exp)"
      ],
      "execution_count": 0,
      "outputs": [
        {
          "output_type": "stream",
          "text": [
            "all sequence length are  113\n"
          ],
          "name": "stdout"
        }
      ]
    },
    {
      "cell_type": "code",
      "metadata": {
        "id": "TsLt1LJIxKQ0",
        "colab_type": "code",
        "outputId": "194b5ff6-5ce3-4ed1-b4d9-d570bc40facf",
        "colab": {
          "base_uri": "https://localhost:8080/",
          "height": 34
        }
      },
      "source": [
        "from keras.models import load_model\n",
        "if os.path.exists(MODEL_SAVE_PATH):\n",
        "      model=load_model(MODEL_SAVE_PATH)\n",
        "    # 若成功加载前面保存的参数，输出下列信息\n",
        "      print(\"checkpoint_loaded\")\n",
        "predictions = model.predict(data['test'][TARGET_TASK+'_x_test'])"
      ],
      "execution_count": 0,
      "outputs": [
        {
          "output_type": "stream",
          "text": [
            "checkpoint_loaded\n"
          ],
          "name": "stdout"
        }
      ]
    },
    {
      "cell_type": "code",
      "metadata": {
        "id": "LIIIkwP8xWTt",
        "colab_type": "code",
        "outputId": "5e547ff0-f582-4675-e67a-5bb16e225c11",
        "colab": {
          "base_uri": "https://localhost:8080/",
          "height": 34
        }
      },
      "source": [
        "predictions = np.argmax(predictions,axis=1)\n",
        "predictions[:5]"
      ],
      "execution_count": 0,
      "outputs": [
        {
          "output_type": "execute_result",
          "data": {
            "text/plain": [
              "array([2, 0, 0, 0, 0])"
            ]
          },
          "metadata": {
            "tags": []
          },
          "execution_count": 100
        }
      ]
    },
    {
      "cell_type": "code",
      "metadata": {
        "id": "Gm3xO2YrIFxt",
        "colab_type": "code",
        "outputId": "0a9adf1c-1e43-44c6-a4c1-6920deb14bb2",
        "colab": {
          "base_uri": "https://localhost:8080/",
          "height": 34
        }
      },
      "source": [
        "#binary classification\n",
        "predictions=predictions.round().astype('int').reshape(-1)\n",
        "predictions[:5]"
      ],
      "execution_count": 0,
      "outputs": [
        {
          "output_type": "execute_result",
          "data": {
            "text/plain": [
              "array([1, 0, 1, 1, 0])"
            ]
          },
          "metadata": {
            "tags": []
          },
          "execution_count": 55
        }
      ]
    },
    {
      "cell_type": "code",
      "metadata": {
        "id": "vWAWcDSP2lPc",
        "colab_type": "code",
        "outputId": "98065129-2394-4704-c05a-696fd5e56dc5",
        "colab": {
          "base_uri": "https://localhost:8080/",
          "height": 142
        }
      },
      "source": [
        "TEST_A_LABEL_PATH = DATA_SET_DIR+'labels-levela.csv'\n",
        "TEST_B_LABEL_PATH = DATA_SET_DIR+'labels-levelb.csv'\n",
        "TEST_C_LABEL_PATH = DATA_SET_DIR+'labels-levelc.csv'\n",
        "TEST_LABEL_PATH_DICT = {}\n",
        "TEST_LABEL_PATH_DICT['subtask_a'] = TEST_A_LABEL_PATH\n",
        "TEST_LABEL_PATH_DICT['subtask_b'] = TEST_B_LABEL_PATH\n",
        "TEST_LABEL_PATH_DICT['subtask_c'] = TEST_C_LABEL_PATH\n",
        "\n",
        "true_label = pd.read_csv(TEST_LABEL_PATH_DICT[TARGET_TASK],sep=',',header=None)\n",
        "true_label.head(3)"
      ],
      "execution_count": 0,
      "outputs": [
        {
          "output_type": "execute_result",
          "data": {
            "text/html": [
              "<div>\n",
              "<style scoped>\n",
              "    .dataframe tbody tr th:only-of-type {\n",
              "        vertical-align: middle;\n",
              "    }\n",
              "\n",
              "    .dataframe tbody tr th {\n",
              "        vertical-align: top;\n",
              "    }\n",
              "\n",
              "    .dataframe thead th {\n",
              "        text-align: right;\n",
              "    }\n",
              "</style>\n",
              "<table border=\"1\" class=\"dataframe\">\n",
              "  <thead>\n",
              "    <tr style=\"text-align: right;\">\n",
              "      <th></th>\n",
              "      <th>0</th>\n",
              "      <th>1</th>\n",
              "    </tr>\n",
              "  </thead>\n",
              "  <tbody>\n",
              "    <tr>\n",
              "      <th>0</th>\n",
              "      <td>15923</td>\n",
              "      <td>OTH</td>\n",
              "    </tr>\n",
              "    <tr>\n",
              "      <th>1</th>\n",
              "      <td>60133</td>\n",
              "      <td>GRP</td>\n",
              "    </tr>\n",
              "    <tr>\n",
              "      <th>2</th>\n",
              "      <td>83681</td>\n",
              "      <td>IND</td>\n",
              "    </tr>\n",
              "  </tbody>\n",
              "</table>\n",
              "</div>"
            ],
            "text/plain": [
              "       0    1\n",
              "0  15923  OTH\n",
              "1  60133  GRP\n",
              "2  83681  IND"
            ]
          },
          "metadata": {
            "tags": []
          },
          "execution_count": 101
        }
      ]
    },
    {
      "cell_type": "code",
      "metadata": {
        "id": "klJx224b5zOp",
        "colab_type": "code",
        "outputId": "723b33a7-3cb5-42a4-c9b8-bc913830d6a4",
        "colab": {
          "base_uri": "https://localhost:8080/",
          "height": 34
        }
      },
      "source": [
        "y_test = true_label[1].apply(lambda x: classes_dict[TARGET_TASK][x])\n",
        "y_test = np.asarray(y_test).astype('int')\n",
        "y_test[:5]"
      ],
      "execution_count": 0,
      "outputs": [
        {
          "output_type": "execute_result",
          "data": {
            "text/plain": [
              "array([1, 2, 0, 1, 0])"
            ]
          },
          "metadata": {
            "tags": []
          },
          "execution_count": 102
        }
      ]
    },
    {
      "cell_type": "code",
      "metadata": {
        "id": "LFi4R08y56v3",
        "colab_type": "code",
        "outputId": "cd0c1210-0fc1-449f-de2b-63059ea33ec2",
        "colab": {
          "base_uri": "https://localhost:8080/",
          "height": 34
        }
      },
      "source": [
        "testing_f1 = f1_score(y_test, predictions,average='macro')\n",
        "print('testing data f1-score:',testing_f1)"
      ],
      "execution_count": 0,
      "outputs": [
        {
          "output_type": "stream",
          "text": [
            "testing data f1-score: 0.48019058963668854\n"
          ],
          "name": "stdout"
        }
      ]
    },
    {
      "cell_type": "code",
      "metadata": {
        "id": "y2rGkHZQ7eGi",
        "colab_type": "code",
        "outputId": "38f5e0bd-230d-457e-841c-edb689dd025f",
        "colab": {
          "base_uri": "https://localhost:8080/",
          "height": 165
        }
      },
      "source": [
        "!zip cnn_outpu_combTask_3 output/*"
      ],
      "execution_count": 0,
      "outputs": [
        {
          "output_type": "stream",
          "text": [
            "  adding: output/CNN_noTrain.hdf5 (deflated 44%)\n",
            "  adding: output/CNN_Train.hdf5 (deflated 17%)\n",
            "  adding: output/CNN_Train_subtask_b.hdf5 (deflated 44%)\n",
            "  adding: output/CNN_Train_subtask_c.hdf5 (deflated 47%)\n",
            "  adding: output/CNNV5_train_hist_subtask_b.pickle (deflated 54%)\n",
            "  adding: output/CNNV5_train_hist_subtask_c.pickle (deflated 56%)\n",
            "  adding: output/null-word.txt (deflated 51%)\n"
          ],
          "name": "stdout"
        }
      ]
    },
    {
      "cell_type": "code",
      "metadata": {
        "id": "OtusFN2IRtc-",
        "colab_type": "code",
        "colab": {}
      },
      "source": [
        "!mv cnn_outpu_combTask_3.zip './gdrive/My Drive/NLP/Final-Project/output/'"
      ],
      "execution_count": 0,
      "outputs": []
    },
    {
      "cell_type": "code",
      "metadata": {
        "id": "dmsBEwPRWg-n",
        "colab_type": "code",
        "colab": {}
      },
      "source": [
        ""
      ],
      "execution_count": 0,
      "outputs": []
    },
    {
      "cell_type": "code",
      "metadata": {
        "id": "8kMxKCK-SDCL",
        "colab_type": "code",
        "colab": {}
      },
      "source": [
        ""
      ],
      "execution_count": 0,
      "outputs": []
    }
  ]
}