{
  "nbformat": 4,
  "nbformat_minor": 0,
  "metadata": {
    "colab": {
      "name": "NLP-Final-baseline.ipynb",
      "version": "0.3.2",
      "provenance": [],
      "collapsed_sections": []
    },
    "kernelspec": {
      "name": "python3",
      "display_name": "Python 3"
    },
    "accelerator": "GPU"
  },
  "cells": [
    {
      "cell_type": "code",
      "metadata": {
        "id": "WjNMvDqYqle0",
        "colab_type": "code",
        "colab": {}
      },
      "source": [
        "OUTPUTPath = './output/'\n",
        "!mkdir ./output"
      ],
      "execution_count": 0,
      "outputs": []
    },
    {
      "cell_type": "code",
      "metadata": {
        "id": "-O2CzZzctzWe",
        "colab_type": "code",
        "outputId": "cb529355-6655-4c4a-931a-d900fdcee0a6",
        "colab": {
          "base_uri": "https://localhost:8080/",
          "height": 309
        }
      },
      "source": [
        "# Save model to your Drive\n",
        "from google.colab import drive\n",
        "drive.mount('/content/gdrive')"
      ],
      "execution_count": 2,
      "outputs": [
        {
          "output_type": "stream",
          "text": [
            "Go to this URL in a browser: https://accounts.google.com/o/oauth2/auth?client_id=947318989803-6bn6qk8qdgf4n4g3pfee6491hc0brc4i.apps.googleusercontent.com&redirect_uri=urn%3Aietf%3Awg%3Aoauth%3A2.0%3Aoob&scope=email%20https%3A%2F%2Fwww.googleapis.com%2Fauth%2Fdocs.test%20https%3A%2F%2Fwww.googleapis.com%2Fauth%2Fdrive%20https%3A%2F%2Fwww.googleapis.com%2Fauth%2Fdrive.photos.readonly%20https%3A%2F%2Fwww.googleapis.com%2Fauth%2Fpeopleapi.readonly&response_type=code\n",
            "\n",
            "Enter your authorization code:\n",
            "··········\n",
            "Mounted at /content/gdrive\n"
          ],
          "name": "stdout"
        }
      ]
    },
    {
      "cell_type": "code",
      "metadata": {
        "id": "4TDHGzSzV3F0",
        "colab_type": "code",
        "colab": {}
      },
      "source": [
        "import re\n",
        "import numpy as np"
      ],
      "execution_count": 0,
      "outputs": []
    },
    {
      "cell_type": "code",
      "metadata": {
        "id": "bUcb8XvMs3vn",
        "colab_type": "code",
        "outputId": "098e69b1-aeb3-46bf-91d9-adeb151c43da",
        "colab": {
          "base_uri": "https://localhost:8080/",
          "height": 173
        }
      },
      "source": [
        "import os\n",
        "import pandas as pd\n",
        "DATA_SET_DIR = './gdrive/My Drive/NLP/Final-Project/data/'\n",
        "TRAINING_DATA_PATH = DATA_SET_DIR+'olid-training-clean.csv'\n",
        "TEST_PATH_DICT = {}\n",
        "TEST_A_DATA_PATH = DATA_SET_DIR+'testset-levela-clean.tsv'\n",
        "TEST_B_DATA_PATH = DATA_SET_DIR+'testset-levelb-clean.tsv'\n",
        "TEST_C_DATA_PATH = DATA_SET_DIR+'testset-levelc-clean.tsv'\n",
        "TEST_PATH_DICT['subtask_a'] = TEST_A_DATA_PATH\n",
        "TEST_PATH_DICT['subtask_b'] = TEST_B_DATA_PATH\n",
        "TEST_PATH_DICT['subtask_c'] = TEST_C_DATA_PATH\n",
        "\n",
        "data={}\n",
        "data['train'] = {}\n",
        "data['validation'] = {}\n",
        "data['test'] = {}\n",
        "task_list = ['subtask_a','subtask_b','subtask_c']\n",
        "train = pd.read_csv(TRAINING_DATA_PATH,sep='\\t', index_col='id')\n",
        "for subtask in task_list:\n",
        "    data['test'][subtask] = pd.read_csv(TEST_PATH_DICT[subtask],sep='\\t', index_col='id')\n",
        "train.head(3)"
      ],
      "execution_count": 110,
      "outputs": [
        {
          "output_type": "execute_result",
          "data": {
            "text/html": [
              "<div>\n",
              "<style scoped>\n",
              "    .dataframe tbody tr th:only-of-type {\n",
              "        vertical-align: middle;\n",
              "    }\n",
              "\n",
              "    .dataframe tbody tr th {\n",
              "        vertical-align: top;\n",
              "    }\n",
              "\n",
              "    .dataframe thead th {\n",
              "        text-align: right;\n",
              "    }\n",
              "</style>\n",
              "<table border=\"1\" class=\"dataframe\">\n",
              "  <thead>\n",
              "    <tr style=\"text-align: right;\">\n",
              "      <th></th>\n",
              "      <th>tweet_exp</th>\n",
              "      <th>subtask_a</th>\n",
              "      <th>subtask_b</th>\n",
              "      <th>subtask_c</th>\n",
              "    </tr>\n",
              "    <tr>\n",
              "      <th>id</th>\n",
              "      <th></th>\n",
              "      <th></th>\n",
              "      <th></th>\n",
              "      <th></th>\n",
              "    </tr>\n",
              "  </thead>\n",
              "  <tbody>\n",
              "    <tr>\n",
              "      <th>86426</th>\n",
              "      <td>@USER She should ask a few native Americans wh...</td>\n",
              "      <td>OFF</td>\n",
              "      <td>UNT</td>\n",
              "      <td>NaN</td>\n",
              "    </tr>\n",
              "    <tr>\n",
              "      <th>90194</th>\n",
              "      <td>@USER @USER Go home you are drunk!!! @USER #MA...</td>\n",
              "      <td>OFF</td>\n",
              "      <td>TIN</td>\n",
              "      <td>IND</td>\n",
              "    </tr>\n",
              "    <tr>\n",
              "      <th>16820</th>\n",
              "      <td>Amazon is investigating Chinese employees who ...</td>\n",
              "      <td>NOT</td>\n",
              "      <td>NaN</td>\n",
              "      <td>NaN</td>\n",
              "    </tr>\n",
              "  </tbody>\n",
              "</table>\n",
              "</div>"
            ],
            "text/plain": [
              "                                               tweet_exp  ... subtask_c\n",
              "id                                                        ...          \n",
              "86426  @USER She should ask a few native Americans wh...  ...       NaN\n",
              "90194  @USER @USER Go home you are drunk!!! @USER #MA...  ...       IND\n",
              "16820  Amazon is investigating Chinese employees who ...  ...       NaN\n",
              "\n",
              "[3 rows x 4 columns]"
            ]
          },
          "metadata": {
            "tags": []
          },
          "execution_count": 110
        }
      ]
    },
    {
      "cell_type": "code",
      "metadata": {
        "id": "QuXhTPyLuAS-",
        "colab_type": "code",
        "outputId": "eeabd28d-a4e1-4c3c-b27d-2ad04ad26ad8",
        "colab": {
          "base_uri": "https://localhost:8080/",
          "height": 289
        }
      },
      "source": [
        "print(train.isna().any())\n",
        "print('-'*10)\n",
        "print(train.subtask_a.value_counts())\n",
        "print(train.subtask_b.value_counts())\n",
        "print(train.subtask_c.value_counts())"
      ],
      "execution_count": 111,
      "outputs": [
        {
          "output_type": "stream",
          "text": [
            "tweet_exp    False\n",
            "subtask_a    False\n",
            "subtask_b     True\n",
            "subtask_c     True\n",
            "dtype: bool\n",
            "----------\n",
            "NOT    8840\n",
            "OFF    4400\n",
            "Name: subtask_a, dtype: int64\n",
            "TIN    3876\n",
            "UNT     524\n",
            "Name: subtask_b, dtype: int64\n",
            "IND    2407\n",
            "GRP    1074\n",
            "OTH     395\n",
            "Name: subtask_c, dtype: int64\n"
          ],
          "name": "stdout"
        }
      ]
    },
    {
      "cell_type": "code",
      "metadata": {
        "id": "ZoEKEdibT5VQ",
        "colab_type": "code",
        "colab": {}
      },
      "source": [
        "def clean_tweet(text):\n",
        "#     def handle_emoji(text):\n",
        "#       # Dictionnary of \"important\" emojis : \n",
        "#       emoji_dict =  {'♥️': ' love ',\n",
        "#                      '❤️' : ' love ',\n",
        "#                      '❤' : ' love ',\n",
        "#                      '😘' : ' kisses ',\n",
        "#                     '😭' : ' cry ',\n",
        "#                     '💪' : ' strong ',\n",
        "#                     '🌍' : ' earth ',\n",
        "#                     '💰' : ' money ',\n",
        "#                     '👍' : ' ok ',\n",
        "#                      '👌' : ' ok ',\n",
        "#                     '😡' : ' angry ',\n",
        "#                     '🍆' : ' dick ',\n",
        "#                     '🤣' : ' haha ',\n",
        "#                     '😂' : ' haha ',\n",
        "#                     '🖕' : ' fuck you '}\n",
        "\n",
        "#       for cha in emoji_dict:\n",
        "#           text = re.compile(str(cha)).sub(str(emoji_dict[cha]),text)\n",
        "#       # Remove ALL emojis\n",
        "#       text = emoji.get_emoji_regexp().sub(r' ',text) \n",
        "#       text = re.compile(\"([\\U0001f3fb-\\U0001f3ff])\").sub(r'',text) \n",
        "#       text = re.compile(\"([\\U00010000-\\U0010ffff])\").sub(r'',text) \n",
        "#       text = re.compile(\"(\\u00a9|\\u00ae|[\\u2000-\\u3300]|\\ud83c[\\ud000-\\udfff]|\\ud83d[\\ud000-\\udfff]|\\ud83e[\\ud000-\\udfff])\").sub(r'',text)\n",
        "\n",
        "#       # Add Space between  the Emoji Expressions : \n",
        "#       text = re.compile(\"([\\U00010000-\\U0010ffff])\").sub(r' \\1 ',text) \n",
        "#       return text\n",
        "    ''' Function that is applied to every to tweet in the dataset '''\n",
        "\n",
        "    # =========== TEXT ===========\n",
        "    # Replace @USER by <user>\n",
        "    text = re.compile(r'@USER').sub(r'<user>',text)\n",
        "\n",
        "    # Replace URL by <url>\n",
        "    text = re.compile(r'URL').sub(r'<url>',text)\n",
        "\n",
        "    # Remove numbers :\n",
        "    text = re.compile(r'[0-9]+').sub(r' ',text)\n",
        "\n",
        "    # Remove some special characters\n",
        "    text = re.compile(r'([\\xa0_\\{\\}\\[\\]¬•$,:;/@#|\\^*%().~`”\"“-])').sub(r' ',text) \n",
        "\n",
        "    # Space the special characters with white spaces\n",
        "    text = re.compile(r'([$&+,:;=?@#|.^*()%!\"’“-])').sub(r' \\1 ',text)\n",
        "\n",
        "    # Replace some special characters : \n",
        "    replace_dict = {r'&' : 'and' , \n",
        "                    r'\\+' : 'plus'}\n",
        "    for cha in replace_dict:\n",
        "        text = re.compile(str(cha)).sub(str(replace_dict[cha]),text)\n",
        "\n",
        "    # Handle Emoji : translate some and delete the others\n",
        "#     text = handle_emoji(text)\n",
        "\n",
        "    # Word delengthening : \n",
        "    text = re.compile(r'(.)\\1{3,}').sub(r'\\1\\1',text)\n",
        "\n",
        "    # Cut the words with caps in them : \n",
        "    text = re.compile(r'([a-z]+|[A-Z]+|[A-Z][a-z]+)([A-Z][a-z]+)').sub(r'\\1 \\2',text)\n",
        "    text = re.compile(r'([a-z]+|[A-Z]+|[A-Z][a-z]+)([A-Z][a-z]+)').sub(r'\\1 \\2',text)        \n",
        "    # =========== TOKENS ===========\n",
        "    # TOKENIZE \n",
        "    text = text.split(' ')\n",
        "\n",
        "    # Remove white spaces tokens\n",
        "    text = [text[i] for i in range(len(text)) if text[i] != ' ']\n",
        "\n",
        "    # Remove empty tokens\n",
        "    text = [text[i] for i in range(len(text)) if text[i] != '']\n",
        "\n",
        "    # Remove repetition in tokens (!!! => !)\n",
        "    text = [text[i] for i in range(len(text)) if text[i] != text[i-1]]\n",
        "\n",
        "    #  Handle the ALL CAPS Tweets \n",
        "    ### if ratio of caps in the word > 75% add allcaps tag <allcaps>\n",
        "    caps_r = np.mean([text[i].isupper() for i in range(len(text))])\n",
        "    if caps_r > 0.6 : \n",
        "        text.append('<allcaps>')\n",
        "\n",
        "    # Lower Case : \n",
        "    text = [text[i].lower() for i in range(len(text))]\n",
        "\n",
        "    return ' '.join(text)"
      ],
      "execution_count": 0,
      "outputs": []
    },
    {
      "cell_type": "code",
      "metadata": {
        "id": "ukLf23XBU2Tr",
        "colab_type": "code",
        "colab": {
          "base_uri": "https://localhost:8080/",
          "height": 34
        },
        "outputId": "7bdad82e-36ce-47f5-fccb-0b30df29df5e"
      },
      "source": [
        "# clean_tweet('@USER @USER Neither do conservatives with May at the helm')\n"
      ],
      "execution_count": 21,
      "outputs": [
        {
          "output_type": "execute_result",
          "data": {
            "text/plain": [
              "'<user> neither do conservatives with may at the helm'"
            ]
          },
          "metadata": {
            "tags": []
          },
          "execution_count": 21
        }
      ]
    },
    {
      "cell_type": "code",
      "metadata": {
        "id": "BIaYF1BJuDic",
        "colab_type": "code",
        "outputId": "51c94b9c-121e-409a-8efa-716db45e9958",
        "colab": {
          "base_uri": "https://localhost:8080/",
          "height": 34
        }
      },
      "source": [
        "import re, string\n",
        "def _run_split_on_punc(text):\n",
        "    \"\"\"Splits punctuation on a piece of text.\"\"\"\n",
        "    chars = list(text)\n",
        "    i = 0\n",
        "    start_new_word = True\n",
        "    output = []\n",
        "    def _is_punctuation(char):\n",
        "        # print('[%s]+' % re.escape(string.punctuation))\n",
        "        if re.match(r'[\\!\\\"\\$\\%\\&\\(\\)\\*\\+\\,\\-\\.\\/\\:\\;\\<\\=\\>\\?\\[\\\\\\]\\^_\\`\\{\\|\\}\\~]+',char):\n",
        "            return True\n",
        "        else:\n",
        "            return False\n",
        "    while i < len(chars):\n",
        "        char = chars[i]\n",
        "        if _is_punctuation(char):\n",
        "            output.append([char])\n",
        "            start_new_word = True\n",
        "        else:\n",
        "            if start_new_word:\n",
        "                output.append([])\n",
        "            start_new_word = False\n",
        "            output[-1].append(char)\n",
        "        i += 1\n",
        "    text_list = [\"\".join(x) for x in output]\n",
        "    text = ' '.join(text_list)\n",
        "    text = text.split(' ')\n",
        "    return ' '.join(text)\n",
        "print(_run_split_on_punc(\"@USER @USER @USER @USER LOL!!!   Throwing the BULLSHIT Flag on such nonsense!!  #PutUpOrShutUp\"))"
      ],
      "execution_count": 113,
      "outputs": [
        {
          "output_type": "stream",
          "text": [
            "@USER @USER @USER @USER LOL ! ! !    Throwing the BULLSHIT Flag on such nonsense ! !   #PutUpOrShutUp\n"
          ],
          "name": "stdout"
        }
      ]
    },
    {
      "cell_type": "code",
      "metadata": {
        "id": "Rum4FsOHuIJH",
        "colab_type": "code",
        "colab": {}
      },
      "source": [
        "train.tweet_exp = train.tweet_exp.apply(_run_split_on_punc)\n",
        "train.tweet_exp = train.tweet_exp.apply(clean_tweet)\n",
        "for subtask in task_list:\n",
        "    data['test'][subtask].tweet_exp = data['test'][subtask].tweet_exp.apply(_run_split_on_punc)\n",
        "    data['test'][subtask].tweet_exp = data['test'][subtask].tweet_exp.apply(clean_tweet)"
      ],
      "execution_count": 0,
      "outputs": []
    },
    {
      "cell_type": "code",
      "metadata": {
        "id": "bdO7G7-7XFy3",
        "colab_type": "code",
        "colab": {
          "base_uri": "https://localhost:8080/",
          "height": 34
        },
        "outputId": "a275a07f-158f-473a-b93c-08f263bd3754"
      },
      "source": [
        "train.loc[90194,'tweet_exp']"
      ],
      "execution_count": 35,
      "outputs": [
        {
          "output_type": "execute_result",
          "data": {
            "text/plain": [
              "'<user> go home you are drunk ! <user> maga trump <url>'"
            ]
          },
          "metadata": {
            "tags": []
          },
          "execution_count": 35
        }
      ]
    },
    {
      "cell_type": "code",
      "metadata": {
        "id": "quvIzipPmqQp",
        "colab_type": "code",
        "outputId": "5ef41715-5980-4f01-a0f8-d72475e822cb",
        "colab": {
          "base_uri": "https://localhost:8080/",
          "height": 340
        }
      },
      "source": [
        "classes_dict = {}\n",
        "classes_dict['subtask_a'] = {'NOT' : 0 ,'OFF' : 1}\n",
        "classes_dict['subtask_b'] = {'UNT' : 0 ,'TIN' : 1}\n",
        "classes_dict['subtask_c'] = {'IND' : 0 ,'OTH' : 1, 'GRP' : 2}\n",
        "for subtask in task_list:\n",
        "    data['train'][subtask]=pd.DataFrame()\n",
        "    for label in classes_dict[subtask]:\n",
        "        data_label = train[train[subtask]==label]\n",
        "        data['train'][subtask] = data['train'][subtask].append(train.loc[data_label.index])\n",
        "    print(subtask,\":\")\n",
        "    print(data['train'][subtask][subtask].value_counts())\n",
        "    print(len(data['train'][subtask]))\n",
        "    print('-'*10)"
      ],
      "execution_count": 115,
      "outputs": [
        {
          "output_type": "stream",
          "text": [
            "subtask_a :\n",
            "NOT    8840\n",
            "OFF    4400\n",
            "Name: subtask_a, dtype: int64\n",
            "13240\n",
            "----------\n",
            "subtask_b :\n",
            "TIN    3876\n",
            "UNT     524\n",
            "Name: subtask_b, dtype: int64\n",
            "4400\n",
            "----------\n",
            "subtask_c :\n",
            "IND    2407\n",
            "GRP    1074\n",
            "OTH     395\n",
            "Name: subtask_c, dtype: int64\n",
            "3876\n",
            "----------\n"
          ],
          "name": "stdout"
        }
      ]
    },
    {
      "cell_type": "code",
      "metadata": {
        "id": "R59KhvvZuK1I",
        "colab_type": "code",
        "outputId": "62609a43-d8d0-4fdc-cb14-f1db5181cdff",
        "colab": {
          "base_uri": "https://localhost:8080/",
          "height": 269
        }
      },
      "source": [
        "import numpy as np\n",
        "corpus_train = train.tweet_exp\n",
        "corpus = pd.concat([train.tweet_exp, data['test']['subtask_a'].tweet_exp,data['test']['subtask_b'].tweet_exp,data['test']['subtask_c'].tweet_exp])\n",
        "print(train.shape,corpus.shape)\n",
        "print(data['test']['subtask_a'].shape,data['test']['subtask_b'].shape,data['test']['subtask_c'].shape)\n",
        "pd.DataFrame(corpus.iloc[:5],columns=['tweet_exp'])"
      ],
      "execution_count": 116,
      "outputs": [
        {
          "output_type": "stream",
          "text": [
            "(13240, 4) (14553,)\n",
            "(860, 1) (240, 1) (213, 1)\n"
          ],
          "name": "stdout"
        },
        {
          "output_type": "execute_result",
          "data": {
            "text/html": [
              "<div>\n",
              "<style scoped>\n",
              "    .dataframe tbody tr th:only-of-type {\n",
              "        vertical-align: middle;\n",
              "    }\n",
              "\n",
              "    .dataframe tbody tr th {\n",
              "        vertical-align: top;\n",
              "    }\n",
              "\n",
              "    .dataframe thead th {\n",
              "        text-align: right;\n",
              "    }\n",
              "</style>\n",
              "<table border=\"1\" class=\"dataframe\">\n",
              "  <thead>\n",
              "    <tr style=\"text-align: right;\">\n",
              "      <th></th>\n",
              "      <th>tweet_exp</th>\n",
              "    </tr>\n",
              "    <tr>\n",
              "      <th>id</th>\n",
              "      <th></th>\n",
              "    </tr>\n",
              "  </thead>\n",
              "  <tbody>\n",
              "    <tr>\n",
              "      <th>86426</th>\n",
              "      <td>&lt;user&gt; she should ask a few native americans w...</td>\n",
              "    </tr>\n",
              "    <tr>\n",
              "      <th>90194</th>\n",
              "      <td>&lt;user&gt; go home you are drunk ! &lt;user&gt; maga tru...</td>\n",
              "    </tr>\n",
              "    <tr>\n",
              "      <th>16820</th>\n",
              "      <td>amazon is investigating chinese employees who ...</td>\n",
              "    </tr>\n",
              "    <tr>\n",
              "      <th>62688</th>\n",
              "      <td>&lt;user&gt; someone should've taken this piece of s...</td>\n",
              "    </tr>\n",
              "    <tr>\n",
              "      <th>43605</th>\n",
              "      <td>&lt;user&gt; obama wanted liberals and amp illegals ...</td>\n",
              "    </tr>\n",
              "  </tbody>\n",
              "</table>\n",
              "</div>"
            ],
            "text/plain": [
              "                                               tweet_exp\n",
              "id                                                      \n",
              "86426  <user> she should ask a few native americans w...\n",
              "90194  <user> go home you are drunk ! <user> maga tru...\n",
              "16820  amazon is investigating chinese employees who ...\n",
              "62688  <user> someone should've taken this piece of s...\n",
              "43605  <user> obama wanted liberals and amp illegals ..."
            ]
          },
          "metadata": {
            "tags": []
          },
          "execution_count": 116
        }
      ]
    },
    {
      "cell_type": "code",
      "metadata": {
        "id": "W7yAr3QMuRmN",
        "colab_type": "code",
        "outputId": "69e787bb-9557-4dbd-b6ac-192838f16f5d",
        "colab": {
          "base_uri": "https://localhost:8080/",
          "height": 51
        }
      },
      "source": [
        "from keras.preprocessing.text import Tokenizer\n",
        "from keras.preprocessing.sequence import pad_sequences\n",
        "MAX_NB_WORDS=10000\n",
        "tokenizer = Tokenizer(nb_words=None,filters='')\n",
        "tokenizer.fit_on_texts(corpus)\n",
        "X = tokenizer.texts_to_sequences(corpus_train)"
      ],
      "execution_count": 117,
      "outputs": [
        {
          "output_type": "stream",
          "text": [
            "/usr/local/lib/python3.6/dist-packages/keras_preprocessing/text.py:178: UserWarning: The `nb_words` argument in `Tokenizer` has been renamed `num_words`.\n",
            "  warnings.warn('The `nb_words` argument in `Tokenizer` '\n"
          ],
          "name": "stderr"
        }
      ]
    },
    {
      "cell_type": "code",
      "metadata": {
        "id": "ndpLrfW-ualu",
        "colab_type": "code",
        "outputId": "ad429f8e-0230-47f2-c4fd-8391e53b4248",
        "colab": {
          "base_uri": "https://localhost:8080/",
          "height": 193
        }
      },
      "source": [
        "for seq in X[:3]:\n",
        "    print(seq)\n",
        "    print([tokenizer.index_word[idx] for idx in seq])\n",
        "MAX_SEQUENCE_LENGTH = max([len(X[i]) for i in range(len(X))])\n",
        "print('MAX_SEQUENCE_LENGTH:',MAX_SEQUENCE_LENGTH)\n",
        "word_index = tokenizer.word_index\n",
        "print('Found %s unique tokens.' % len(word_index))"
      ],
      "execution_count": 118,
      "outputs": [
        {
          "output_type": "stream",
          "text": [
            "[1, 17, 80, 340, 7, 466, 2875, 303, 37, 67, 134, 24, 22, 3]\n",
            "['<user>', 'she', 'should', 'ask', 'a', 'few', 'native', 'americans', 'what', 'their', 'take', 'on', 'this', 'is']\n",
            "[1, 91, 308, 6, 8, 1043, 12, 1, 43, 63, 20]\n",
            "['<user>', 'go', 'home', 'you', 'are', 'drunk', '!', '<user>', 'maga', 'trump', '<url>']\n",
            "[1945, 3, 7009, 2072, 2646, 49, 8, 1755, 5503, 1455, 4, 1670, 130, 9658, 285, 19, 64, 2876, 15, 2, 2877, 5504, 20, 1945, 43, 317, 985, 475]\n",
            "['amazon', 'is', 'investigating', 'chinese', 'employees', 'who', 'are', 'selling', 'internal', 'data', 'to', 'third', 'party', 'sellers', 'looking', 'for', 'an', 'edge', 'in', 'the', 'competitive', 'marketplace', '<url>', 'amazon', 'maga', 'kag', 'china', 'tcot']\n",
            "MAX_SEQUENCE_LENGTH: 66\n",
            "Found 19638 unique tokens.\n"
          ],
          "name": "stdout"
        }
      ]
    },
    {
      "cell_type": "code",
      "metadata": {
        "id": "u1GBarY7ufrt",
        "colab_type": "code",
        "outputId": "4040035e-c8f9-4585-b6ac-df963111ab98",
        "colab": {
          "base_uri": "https://localhost:8080/",
          "height": 68
        }
      },
      "source": [
        "import keras\n",
        "from keras.preprocessing.sequence import pad_sequences\n",
        "def text2id(tokenizer,texts_pd,max_seq_length=MAX_SEQUENCE_LENGTH):\n",
        "  x_training = tokenizer.texts_to_sequences(texts_pd)\n",
        "  x_training = keras.preprocessing.sequence.pad_sequences(x_training,maxlen=max_seq_length)\n",
        "  for seq in x_training:\n",
        "      assert len(seq) == max_seq_length\n",
        "  print(\"all sequence length are \",max_seq_length)\n",
        "  return x_training\n",
        "for subtask in task_list:\n",
        "  data['train'][subtask+'_token_id'] = text2id(tokenizer, data['train'][subtask].tweet_exp)"
      ],
      "execution_count": 119,
      "outputs": [
        {
          "output_type": "stream",
          "text": [
            "all sequence length are  66\n",
            "all sequence length are  66\n",
            "all sequence length are  66\n"
          ],
          "name": "stdout"
        }
      ]
    },
    {
      "cell_type": "code",
      "metadata": {
        "id": "7HC4lrvluiVs",
        "colab_type": "code",
        "outputId": "ff3aa8de-7714-463f-fcbb-aa1a2ac8ded4",
        "colab": {
          "base_uri": "https://localhost:8080/",
          "height": 238
        }
      },
      "source": [
        "# 將分類標籤對應到剛定義的數字\n",
        "for subtask in task_list:\n",
        "  data['train'][subtask+'_y'] = data['train'][subtask][subtask].apply(lambda x: classes_dict[subtask][x])\n",
        "  print(data['train'][subtask+'_y'].value_counts())\n",
        "  data['train'][subtask+'_y'] = np.asarray(data['train'][subtask+'_y']).astype('float32')\n",
        "  print(data['train'][subtask+'_y'][:5])"
      ],
      "execution_count": 120,
      "outputs": [
        {
          "output_type": "stream",
          "text": [
            "0    8840\n",
            "1    4400\n",
            "Name: subtask_a, dtype: int64\n",
            "[0. 0. 0. 0. 0.]\n",
            "1    3876\n",
            "0     524\n",
            "Name: subtask_b, dtype: int64\n",
            "[0. 0. 0. 0. 0.]\n",
            "0    2407\n",
            "2    1074\n",
            "1     395\n",
            "Name: subtask_c, dtype: int64\n",
            "[0. 0. 0. 0. 0.]\n"
          ],
          "name": "stdout"
        }
      ]
    },
    {
      "cell_type": "code",
      "metadata": {
        "id": "tlG8kXsUvnL3",
        "colab_type": "code",
        "outputId": "2c648fd0-c265-4044-a76d-36f569ce644b",
        "colab": {
          "base_uri": "https://localhost:8080/",
          "height": 250
        }
      },
      "source": [
        "for key in data.keys():\n",
        "  print(key)\n",
        "  print('*'*10)\n",
        "  print(data[key].keys())\n",
        "#   for sub_key in data[key].keys():\n",
        "#     print(sub_key)"
      ],
      "execution_count": 41,
      "outputs": [
        {
          "output_type": "stream",
          "text": [
            "train\n",
            "**********\n",
            "dict_keys(['subtask_a', 'subtask_b', 'subtask_c', 'subtask_a_token_id', 'subtask_b_token_id', 'subtask_c_token_id', 'subtask_a_y', 'subtask_b_y', 'subtask_c_y'])\n",
            "validation\n",
            "**********\n",
            "dict_keys([])\n",
            "test\n",
            "**********\n",
            "dict_keys(['subtask_a', 'subtask_b', 'subtask_c'])\n"
          ],
          "name": "stdout"
        }
      ]
    },
    {
      "cell_type": "code",
      "metadata": {
        "id": "DJ2bYB1humkU",
        "colab_type": "code",
        "outputId": "0afb0a54-049b-4336-a571-accb411ba5ff",
        "colab": {
          "base_uri": "https://localhost:8080/",
          "height": 425
        }
      },
      "source": [
        "from sklearn.model_selection import train_test_split\n",
        "NUM_LSTM_UNITS = 128\n",
        "# y_train = keras.utils.to_categorical(y_train)\n",
        "\n",
        "VALIDATION_RATIO = 0.15\n",
        "# 小彩蛋\n",
        "RANDOM_STATE = 9527\n",
        "for subtask in task_list:\n",
        "#   if subtask == 'subtask_c':\n",
        "#     data['train'][subtask+'_y'] = keras.utils.to_categorical(data['train'][subtask+'_y'])\n",
        "  data['train'][subtask+'_x_train'], data['validation'][subtask+'_x_val'], \\\n",
        "  data['train'][subtask+'_y_train'], data['validation'][subtask+'_y_val'] =train_test_split(data['train'][subtask+'_token_id'],data['train'][subtask+'_y'],test_size=VALIDATION_RATIO,random_state=RANDOM_STATE)\n",
        "  print(\"Training Set\",'----',subtask)\n",
        "  print(\"-\" * 10)\n",
        "  print(\"x_train: \", data['train'][subtask+'_x_train'].shape)\n",
        "  print(\"y_train : \", data['train'][subtask+'_y_train'].shape)\n",
        "\n",
        "  print(\"-\" * 10)\n",
        "  print(\"x_val:   \", data['validation'][subtask+'_x_val'].shape)\n",
        "  print(\"y_val :   \", data['validation'][subtask+'_y_val'].shape)\n",
        "  print(\"#\" * 10)"
      ],
      "execution_count": 121,
      "outputs": [
        {
          "output_type": "stream",
          "text": [
            "Training Set ---- subtask_a\n",
            "----------\n",
            "x_train:  (11254, 66)\n",
            "y_train :  (11254,)\n",
            "----------\n",
            "x_val:    (1986, 66)\n",
            "y_val :    (1986,)\n",
            "##########\n",
            "Training Set ---- subtask_b\n",
            "----------\n",
            "x_train:  (3740, 66)\n",
            "y_train :  (3740,)\n",
            "----------\n",
            "x_val:    (660, 66)\n",
            "y_val :    (660,)\n",
            "##########\n",
            "Training Set ---- subtask_c\n",
            "----------\n",
            "x_train:  (3294, 66)\n",
            "y_train :  (3294,)\n",
            "----------\n",
            "x_val:    (582, 66)\n",
            "y_val :    (582,)\n",
            "##########\n"
          ],
          "name": "stdout"
        }
      ]
    },
    {
      "cell_type": "code",
      "metadata": {
        "id": "yrlQ-iDEx_LG",
        "colab_type": "code",
        "outputId": "cdabb483-9fde-40d5-ea1c-f41caf9a43ba",
        "colab": {
          "base_uri": "https://localhost:8080/",
          "height": 250
        }
      },
      "source": [
        "for key in data.keys():\n",
        "  print(key,' ---------->')\n",
        "  print(data[key].keys())\n",
        "#   for sub_key in data[key].keys():\n",
        "#     print(sub_key)\n",
        "  print('*'*10)"
      ],
      "execution_count": 16,
      "outputs": [
        {
          "output_type": "stream",
          "text": [
            "train  ---------->\n",
            "dict_keys(['subtask_a', 'subtask_b', 'subtask_c', 'subtask_a_token_id', 'subtask_b_token_id', 'subtask_c_token_id', 'subtask_a_y', 'subtask_b_y', 'subtask_c_y', 'subtask_a_x_train', 'subtask_a_y_train', 'subtask_b_x_train', 'subtask_b_y_train', 'subtask_c_x_train', 'subtask_c_y_train'])\n",
            "**********\n",
            "validation  ---------->\n",
            "dict_keys(['subtask_a_x_val', 'subtask_a_y_val', 'subtask_b_x_val', 'subtask_b_y_val', 'subtask_c_x_val', 'subtask_c_y_val'])\n",
            "**********\n",
            "test  ---------->\n",
            "dict_keys(['subtask_a', 'subtask_b', 'subtask_c'])\n",
            "**********\n"
          ],
          "name": "stdout"
        }
      ]
    },
    {
      "cell_type": "code",
      "metadata": {
        "id": "959Ur_Zxurh6",
        "colab_type": "code",
        "outputId": "07a015da-9784-4b44-a736-14878d54a6fd",
        "colab": {
          "base_uri": "https://localhost:8080/",
          "height": 34
        }
      },
      "source": [
        "GLOVE_DIR='./gdrive/My Drive/NLP/Final-Project/WordEmb'\n",
        "embeddings_index = {}\n",
        "f = open(os.path.join(GLOVE_DIR, 'glove.twitter.27B.100d.txt'))\n",
        "for line in f:\n",
        "    values = line.split()\n",
        "    word = values[0]\n",
        "    coefs = np.asarray(values[1:], dtype='float32')\n",
        "    embeddings_index[word] = coefs\n",
        "f.close()\n",
        "\n",
        "print('Found %s word vectors.' % len(embeddings_index))"
      ],
      "execution_count": 17,
      "outputs": [
        {
          "output_type": "stream",
          "text": [
            "Found 1193514 word vectors.\n"
          ],
          "name": "stdout"
        }
      ]
    },
    {
      "cell_type": "code",
      "metadata": {
        "id": "z3tvlwqDu1uY",
        "colab_type": "code",
        "outputId": "b9cdf38c-7e52-49ce-d990-c42358610a9d",
        "colab": {
          "base_uri": "https://localhost:8080/",
          "height": 34
        }
      },
      "source": [
        "EMBEDDING_DIM = 100\n",
        "embedding_matrix = np.zeros((len(word_index) + 1, EMBEDDING_DIM))\n",
        "null_words = open('./output/null-word.txt', 'w', encoding='utf-8')\n",
        "for word, i in word_index.items():\n",
        "    embedding_vector = embeddings_index.get(word)\n",
        "    if embedding_vector is not None:\n",
        "        # words not found in embedding index will be all-zeros.\n",
        "        embedding_matrix[i] = embedding_vector\n",
        "    else:\n",
        "        null_words.write(word + '\\n')\n",
        "print('###[EMB] Null word embeddings: %d' % np.sum(np.sum(embedding_matrix, axis=1) == 0))\n",
        "###[EMB] Null word embeddings: 5696"
      ],
      "execution_count": 18,
      "outputs": [
        {
          "output_type": "stream",
          "text": [
            "###[EMB] Null word embeddings: 2710\n"
          ],
          "name": "stdout"
        }
      ]
    },
    {
      "cell_type": "code",
      "metadata": {
        "id": "op9Swvrw4SuH",
        "colab_type": "code",
        "colab": {}
      },
      "source": [
        "for subtask in task_list:\n",
        "  if subtask == 'subtask_c':\n",
        "    data['train'][subtask+'_y'] = keras.utils.to_categorical(data['train'][subtask+'_y'])\n",
        "  data['train'][subtask+'_x_train'], data['validation'][subtask+'_x_val'], \\\n",
        "  data['train'][subtask+'_y_train'], data['validation'][subtask+'_y_val'] =train_test_split(data['train'][subtask+'_token_id'],data['train'][subtask+'_y'],test_size=VALIDATION_RATIO,random_state=RANDOM_STATE)"
      ],
      "execution_count": 0,
      "outputs": []
    },
    {
      "cell_type": "code",
      "metadata": {
        "id": "UcrW-eJd_5QW",
        "colab_type": "code",
        "colab": {
          "base_uri": "https://localhost:8080/",
          "height": 34
        },
        "outputId": "113cfcaf-e261-409f-9224-f08705df05bc"
      },
      "source": [
        "a=np.where(data['train']['subtask_b'+'_y_train']==classes_dict[\"subtask_b\"]['UNT'])\n",
        "print(a[0].shape)"
      ],
      "execution_count": 129,
      "outputs": [
        {
          "output_type": "stream",
          "text": [
            "(444,)\n"
          ],
          "name": "stdout"
        }
      ]
    },
    {
      "cell_type": "code",
      "metadata": {
        "id": "T0vOzk0i4EYC",
        "colab_type": "code",
        "colab": {
          "base_uri": "https://localhost:8080/",
          "height": 391
        },
        "outputId": "93561504-a76c-4683-8f56-d0a6ebb8f3cd"
      },
      "source": [
        "def balanceData(subtask):\n",
        "    ''' Augments the Data given in input in order to balance the dataset'''\n",
        "    class_size = {}\n",
        "    for label in classes_dict[subtask]:\n",
        "        class_size[label] = len(data['train'][subtask+'_x_train'][data['train'][subtask+'_y_train']==classes_dict[subtask][label]])\n",
        "        print(classes_dict[subtask][label])\n",
        "    largest_class = max(class_size, key=class_size.get)\n",
        "    print(largest_class)\n",
        "    print('---- Augmenting the Data : ')\n",
        "    print('Before Augmentation : ',class_size)\n",
        "\n",
        "    for label in classes_dict[subtask]:  \n",
        "        if label != largest_class:\n",
        "            id_list = np.where(data['train'][subtask+'_y_train']==classes_dict[subtask][label])[0]\n",
        "            nb_augmentation = class_size[largest_class] - class_size[label]\n",
        "            id_augmentation = np.random.choice(id_list, (nb_augmentation,))\n",
        "            data['train'][subtask+'_x_train']=np.append(data['train'][subtask+'_x_train'],data['train'][subtask+'_x_train'][id_augmentation],axis=0)\n",
        "            data['train'][subtask+'_y_train']=np.append(data['train'][subtask+'_y_train'],data['train'][subtask+'_y_train'][id_augmentation],axis=0)\n",
        "    # Check if it went well\n",
        "    for label in classes_dict[subtask]:\n",
        "        class_size[label] = len(data['train'][subtask+'_x_train'][data['train'][subtask+'_y_train']==classes_dict[subtask][label]])\n",
        "\n",
        "    print('After Augmentation : ',class_size)\n",
        "    return data\n",
        "for subtask in task_list:\n",
        "  balanceData(subtask)\n",
        "#   balanceData(data['train'][subtask],subtask)\n",
        "  class_size = {}\n",
        "  for label in classes_dict[subtask]:\n",
        "    class_size[label] = len(data['train'][subtask+'_y_train'][data['train'][subtask+'_y_train']==classes_dict[subtask][label]])\n",
        "  print('**After Augmentation : ',class_size)\n",
        "# # # 將分類標籤對應到剛定義的數字\n",
        "# for subtask in task_list:\n",
        "#   data['train'][subtask+'_y'] = data['train'][subtask][subtask].apply(lambda x: classes_dict[subtask][x])\n",
        "#   print(data['train'][subtask+'_y'].value_counts())\n",
        "#   data['train'][subtask+'_y'] = np.asarray(data['train'][subtask+'_y']).astype('float32')\n",
        "#   print(data['train'][subtask+'_y'][:5])"
      ],
      "execution_count": 130,
      "outputs": [
        {
          "output_type": "stream",
          "text": [
            "0\n",
            "1\n",
            "NOT\n",
            "---- Augmenting the Data : \n",
            "Before Augmentation :  {'NOT': 7542, 'OFF': 3712}\n",
            "After Augmentation :  {'NOT': 7542, 'OFF': 7542}\n",
            "**After Augmentation :  {'NOT': 7542, 'OFF': 7542}\n",
            "0\n",
            "1\n",
            "TIN\n",
            "---- Augmenting the Data : \n",
            "Before Augmentation :  {'UNT': 444, 'TIN': 3296}\n",
            "After Augmentation :  {'UNT': 3296, 'TIN': 3296}\n",
            "**After Augmentation :  {'UNT': 3296, 'TIN': 3296}\n",
            "0\n",
            "1\n",
            "2\n",
            "IND\n",
            "---- Augmenting the Data : \n",
            "Before Augmentation :  {'IND': 2043, 'OTH': 334, 'GRP': 917}\n",
            "After Augmentation :  {'IND': 2043, 'OTH': 2043, 'GRP': 2043}\n",
            "**After Augmentation :  {'IND': 2043, 'OTH': 2043, 'GRP': 2043}\n"
          ],
          "name": "stdout"
        }
      ]
    },
    {
      "cell_type": "code",
      "metadata": {
        "id": "ANszWySmDd4o",
        "colab_type": "code",
        "colab": {}
      },
      "source": [
        "data['train']['subtask_c'+'_y_train'] = keras.utils.to_categorical(data['train']['subtask_c'+'_y_train'])\n",
        "data['validation']['subtask_c'+'_y_val'] = keras.utils.to_categorical(data['validation']['subtask_c'+'_y_val'])"
      ],
      "execution_count": 0,
      "outputs": []
    },
    {
      "cell_type": "code",
      "metadata": {
        "id": "DOodASkVnH4a",
        "colab_type": "code",
        "colab": {
          "base_uri": "https://localhost:8080/",
          "height": 612
        },
        "outputId": "9c3e37cf-32fc-442c-dd43-990b0c1bcd4f"
      },
      "source": [
        "def balanceData(data,subtask):\n",
        "    ''' Augments the Data given in input in order to balance the dataset'''\n",
        "    class_size = {}\n",
        "    for label in classes_dict[subtask]:\n",
        "        class_size[label] = len(data[data[subtask]==label])\n",
        "        print(classes_dict[subtask][label])\n",
        "    largest_class = max(class_size, key=class_size.get)\n",
        "    print(largest_class)\n",
        "    print('---- Augmenting the Data : ')\n",
        "    print('Before Augmentation : ',class_size)\n",
        "\n",
        "    for label in classes_dict[subtask]:  \n",
        "        if label != largest_class:\n",
        "            id_list = data[data[subtask]==label].index\n",
        "            nb_augmentation = class_size[largest_class] - class_size[label]\n",
        "            id_augmentation = np.random.choice(id_list, (nb_augmentation,))\n",
        "            data = data.append(data.loc[id_augmentation,:])\n",
        "    # Check if it went well\n",
        "    for label in classes_dict[subtask]:\n",
        "        class_size[label] = len(data[data[subtask]==label])\n",
        "\n",
        "    print('After Augmentation : ',class_size)\n",
        "    return data\n",
        "for subtask in task_list:\n",
        "  data['train'][subtask] = balanceData(data['train'][subtask],subtask)\n",
        "#   balanceData(data['train'][subtask],subtask)\n",
        "  class_size = {}\n",
        "  for label in classes_dict[subtask]:\n",
        "    class_size[label] = len(data['train'][subtask][data['train'][subtask][subtask]==label])\n",
        "  print('**After Augmentation : ',class_size)\n",
        "# # 將分類標籤對應到剛定義的數字\n",
        "for subtask in task_list:\n",
        "  data['train'][subtask+'_y'] = data['train'][subtask][subtask].apply(lambda x: classes_dict[subtask][x])\n",
        "  print(data['train'][subtask+'_y'].value_counts())\n",
        "  data['train'][subtask+'_y'] = np.asarray(data['train'][subtask+'_y']).astype('float32')\n",
        "  print(data['train'][subtask+'_y'][:5])"
      ],
      "execution_count": 44,
      "outputs": [
        {
          "output_type": "stream",
          "text": [
            "0\n",
            "1\n",
            "NOT\n",
            "---- Augmenting the Data : \n",
            "Before Augmentation :  {'NOT': 8840, 'OFF': 4400}\n",
            "After Augmentation :  {'NOT': 8840, 'OFF': 8840}\n",
            "**After Augmentation :  {'NOT': 8840, 'OFF': 8840}\n",
            "0\n",
            "1\n",
            "TIN\n",
            "---- Augmenting the Data : \n",
            "Before Augmentation :  {'UNT': 524, 'TIN': 3876}\n",
            "After Augmentation :  {'UNT': 3876, 'TIN': 3876}\n",
            "**After Augmentation :  {'UNT': 3876, 'TIN': 3876}\n",
            "0\n",
            "1\n",
            "2\n",
            "IND\n",
            "---- Augmenting the Data : \n",
            "Before Augmentation :  {'IND': 2407, 'OTH': 395, 'GRP': 1074}\n",
            "After Augmentation :  {'IND': 2407, 'OTH': 2407, 'GRP': 2407}\n",
            "**After Augmentation :  {'IND': 2407, 'OTH': 2407, 'GRP': 2407}\n",
            "1    8840\n",
            "0    8840\n",
            "Name: subtask_a, dtype: int64\n",
            "[0. 0. 0. 0. 0.]\n",
            "1    3876\n",
            "0    3876\n",
            "Name: subtask_b, dtype: int64\n",
            "[0. 0. 0. 0. 0.]\n",
            "2    2407\n",
            "1    2407\n",
            "0    2407\n",
            "Name: subtask_c, dtype: int64\n",
            "[0. 0. 0. 0. 0.]\n"
          ],
          "name": "stdout"
        }
      ]
    },
    {
      "cell_type": "code",
      "metadata": {
        "id": "Xtt7c_3dqxc3",
        "colab_type": "code",
        "colab": {
          "base_uri": "https://localhost:8080/",
          "height": 68
        },
        "outputId": "2f402884-7675-4074-e9b0-89a6a7df29b6"
      },
      "source": [
        "data['train']['subtask_a']['subtask_a'].value_counts()"
      ],
      "execution_count": 25,
      "outputs": [
        {
          "output_type": "execute_result",
          "data": {
            "text/plain": [
              "NOT    8840\n",
              "OFF    4400\n",
              "Name: subtask_a, dtype: int64"
            ]
          },
          "metadata": {
            "tags": []
          },
          "execution_count": 25
        }
      ]
    },
    {
      "cell_type": "code",
      "metadata": {
        "id": "5MFt_nW_u8or",
        "colab_type": "code",
        "colab": {}
      },
      "source": [
        "from keras.optimizers import Adam\n",
        "import pickle\n",
        "from keras.models import *\n",
        "from keras.layers import *\n",
        "from keras.callbacks import ModelCheckpoint"
      ],
      "execution_count": 0,
      "outputs": []
    },
    {
      "cell_type": "code",
      "metadata": {
        "id": "7X9M7HFhvBbF",
        "colab_type": "code",
        "colab": {}
      },
      "source": [
        "from keras.callbacks import Callback\n",
        "from sklearn.metrics import confusion_matrix, f1_score, precision_score, recall_score,accuracy_score\n",
        "class Metrics(Callback):\n",
        "    def __init__(self, filepath,validation_data=(),IsBinaryClass=True):\n",
        "        self.file_path = filepath\n",
        "        self.X_val, self.y_val = validation_data\n",
        "        if not IsBinaryClass:\n",
        "          self.y_val = np.argmax(self.y_val,axis=1)\n",
        "        self.IsBinaryClass_ = IsBinaryClass\n",
        "    def on_train_begin(self, logs={}):\n",
        "        self.val_f1s = []\n",
        "        self.best_val_f1 = 0\n",
        "        self.val_recalls = []\n",
        "        self.val_precisions = []\n",
        "\n",
        "    def on_epoch_end(self, epoch, logs={}):\n",
        "        if self.IsBinaryClass_:\n",
        "          val_predict = (np.asarray(self.model.predict(self.X_val))).round().astype('int').reshape(-1)\n",
        "        else:\n",
        "          val_predict = np.argmax(self.model.predict(self.X_val),axis=1)\n",
        "        val_targ = self.y_val\n",
        "        _val_f1 = f1_score(val_targ, val_predict,average='macro')\n",
        "#         _val_recall = recall_score(val_targ, val_predict)\n",
        "#         _val_precision = precision_score(val_targ, val_predict)\n",
        "        self.val_f1s.append(_val_f1)\n",
        "#         self.val_recalls.append(_val_recall)\n",
        "#         self.val_precisions.append(_val_precision)\n",
        "#         print(' — val_f1: %f — val_precision: %f — val_recall %f' %(_val_f1, _val_precision, _val_recall))\n",
        "        \n",
        "        print(' — val_f1: %f' %(_val_f1))\n",
        "        print(\"max f1; \",max(self.val_f1s))\n",
        "        if _val_f1 > self.best_val_f1:\n",
        "            self.model.save(self.file_path, overwrite=True)\n",
        "            self.best_val_f1 = _val_f1\n",
        "            print(\"best f1: {}\".format(self.best_val_f1))\n",
        "        else:\n",
        "            print(\"val f1: {}, but not the best f1\".format(_val_f1))\n",
        "        return"
      ],
      "execution_count": 0,
      "outputs": []
    },
    {
      "cell_type": "code",
      "metadata": {
        "id": "nkXCAGBru-MP",
        "colab_type": "code",
        "colab": {}
      },
      "source": [
        "def LSTM_model(IsBinaryClass=True):\n",
        "  input_data = Input(shape=(MAX_SEQUENCE_LENGTH,),dtype='int32')\n",
        "  emb_x = Embedding(len(word_index) + 1,\n",
        "                              EMBEDDING_DIM,\n",
        "                              weights=[embedding_matrix],\n",
        "                              input_length=MAX_SEQUENCE_LENGTH,\n",
        "                              trainable=True)(input_data)\n",
        "  merged = LSTM(100)(emb_x)\n",
        "\n",
        "#   merged = Dense(units=128,kernel_initializer='random_normal')(merged)\n",
        "#   merged=PReLU()(merged)\n",
        "#   merged = Dropout(0.2)(merged)\n",
        "  merged=BatchNormalization()(merged)\n",
        "  if IsBinaryClass:\n",
        "    predictions = Dense(1, activation='sigmoid', kernel_initializer='random_normal')(merged)\n",
        "  else:\n",
        "    predictions = Dense(3, activation='softmax', kernel_initializer='random_normal')(merged)\n",
        "\n",
        "  model = Model(\n",
        "      inputs=input_data,\n",
        "      outputs=predictions)\n",
        "  return model"
      ],
      "execution_count": 0,
      "outputs": []
    },
    {
      "cell_type": "code",
      "metadata": {
        "id": "qejOh0gcXD0-",
        "colab_type": "code",
        "colab": {}
      },
      "source": [
        "def CNN_binary_class(IsBinaryClass=True):\n",
        "  input_data = Input(shape=(MAX_SEQUENCE_LENGTH,),dtype='int32')\n",
        "  emb_x = Embedding(len(word_index) + 1,\n",
        "                              EMBEDDING_DIM,\n",
        "                              weights=[embedding_matrix],\n",
        "                              input_length=MAX_SEQUENCE_LENGTH,\n",
        "                              trainable=True)(input_data)\n",
        "  conv1_x = Conv1D(100, 3, activation='relu')(emb_x)\n",
        "  x_1 =GlobalMaxPooling1D()(conv1_x)\n",
        "  conv2_x = Conv1D(100, 4, activation='relu')(emb_x)\n",
        "  x_2 = GlobalMaxPooling1D()(conv2_x)\n",
        "  conv3_x = Conv1D(100, 5, activation='relu')(emb_x)\n",
        "  x_3 = GlobalMaxPooling1D()(conv3_x)\n",
        "\n",
        "  merged = concatenate([x_1, x_2,x_3],axis=-1)\n",
        "#   merged = Dropout(0.2)(merged)\n",
        "  merged=BatchNormalization()(merged)\n",
        "  merged = Dense(units=128,kernel_initializer='random_normal')(merged)\n",
        "  merged=PReLU()(merged)\n",
        "#   merged = Dropout(0.2)(merged)\n",
        "  merged=BatchNormalization()(merged)\n",
        "  if IsBinaryClass:\n",
        "    predictions = Dense(1, activation='sigmoid', kernel_initializer='random_normal')(merged)\n",
        "  else:\n",
        "    predictions = Dense(3, activation='softmax', kernel_initializer='random_normal')(merged)\n",
        "\n",
        "  model = Model(\n",
        "      inputs=input_data,\n",
        "      outputs=predictions)\n",
        "  return model"
      ],
      "execution_count": 0,
      "outputs": []
    },
    {
      "cell_type": "markdown",
      "metadata": {
        "id": "8pVS8IQjY8L4",
        "colab_type": "text"
      },
      "source": [
        "TARGET_TASK = 'subtask_a'  ----->  train subtask a"
      ]
    },
    {
      "cell_type": "code",
      "metadata": {
        "id": "RtJWwAXUqVQZ",
        "colab_type": "code",
        "colab": {}
      },
      "source": [
        "# def MLP_model(IsBinaryClass=True):\n",
        "#   input_data = Input(shape=(MAX_SEQUENCE_LENGTH,),dtype='int32')\n",
        "#   emb_x = Embedding(len(word_index) + 1,\n",
        "#                               EMBEDDING_DIM,\n",
        "#                               weights=[embedding_matrix],\n",
        "#                               input_length=MAX_SEQUENCE_LENGTH,\n",
        "#                               trainable=True)(input_data)\n",
        "#   emb_x = Dense(units=128,input_shape=(len(word_index) + 1,),kernel_initializer='random_normal')(emb_x)\n",
        "#   emb_x=PReLU()(emb_x)\n",
        "#   emb_x = Dense(units=64,kernel_initializer='random_normal')(emb_x)\n",
        "#   emb_x=PReLU()(emb_x)\n",
        "#   if IsBinaryClass:\n",
        "#     predictions = Dense(1, activation='sigmoid', kernel_initializer='random_normal')(emb_x)\n",
        "#   else:\n",
        "#     predictions = Dense(3, activation='softmax', kernel_initializer='random_normal')(emb_x)\n",
        "\n",
        "#   model = Model(\n",
        "#       inputs=input_data,\n",
        "#       outputs=predictions)\n",
        "#   return model"
      ],
      "execution_count": 0,
      "outputs": []
    },
    {
      "cell_type": "code",
      "metadata": {
        "id": "iUJalxyV-ONA",
        "colab_type": "code",
        "outputId": "27b9902d-1d15-4381-cb9a-03a3e92d55ec",
        "colab": {
          "base_uri": "https://localhost:8080/",
          "height": 306
        }
      },
      "source": [
        "TARGET_TASK = 'subtask_c'\n",
        "# data['validation'][TARGET_TASK+'_y_val'] = np.argmax(data['validation'][TARGET_TASK+'_y_val'],axis=1)\n",
        "Is_Binary_Class = True\n",
        "if TARGET_TASK == 'subtask_c':\n",
        "  Is_Binary_Class = False\n",
        "MODEL_SAVE_PATH='./output/CNN_Train_'+TARGET_TASK+'.hdf5' \n",
        "metrics = Metrics(MODEL_SAVE_PATH,\n",
        "                  validation_data=(data['validation'][TARGET_TASK+'_x_val'],data['validation'][TARGET_TASK+'_y_val']),\n",
        "                  IsBinaryClass=Is_Binary_Class)\n",
        "\n",
        "model=LSTM_model(IsBinaryClass=Is_Binary_Class)\n",
        "model.summary()\n",
        "# adam1 = keras.optimizers.Adam(lr=0.0001,decay=0.01) #for CNN model\n",
        "adam1 = keras.optimizers.Adam(lr=0.001,decay=0.0001) #for LSTM model\n",
        "model.compile(loss='binary_crossentropy',\n",
        "          optimizer= adam1,\n",
        "          metrics=['accuracy'])"
      ],
      "execution_count": 276,
      "outputs": [
        {
          "output_type": "stream",
          "text": [
            "_________________________________________________________________\n",
            "Layer (type)                 Output Shape              Param #   \n",
            "=================================================================\n",
            "input_24 (InputLayer)        (None, 66)                0         \n",
            "_________________________________________________________________\n",
            "embedding_24 (Embedding)     (None, 66, 100)           1963900   \n",
            "_________________________________________________________________\n",
            "lstm_3 (LSTM)                (None, 100)               80400     \n",
            "_________________________________________________________________\n",
            "batch_normalization_45 (Batc (None, 100)               400       \n",
            "_________________________________________________________________\n",
            "dense_45 (Dense)             (None, 3)                 303       \n",
            "=================================================================\n",
            "Total params: 2,045,003\n",
            "Trainable params: 2,044,803\n",
            "Non-trainable params: 200\n",
            "_________________________________________________________________\n"
          ],
          "name": "stdout"
        }
      ]
    },
    {
      "cell_type": "code",
      "metadata": {
        "id": "i4JVVcNsvK8R",
        "colab_type": "code",
        "outputId": "88645bda-224a-4092-c2c2-ff63637d3c97",
        "colab": {
          "base_uri": "https://localhost:8080/",
          "height": 459
        }
      },
      "source": [
        "BATCH_SIZE = 50\n",
        "NUM_EPOCHS = 5\n",
        "class_weight = {0: 1.,\n",
        "                1: 2.}\n",
        "# class_weight = {0: 7.3,\n",
        "#                 1: 1.}\n",
        "# class_weight = {0: 1.,\n",
        "#                 1: 6.1,\n",
        "#                 2: 2.24\n",
        "#                }\n",
        "history = model.fit(\n",
        "    x=data['train'][TARGET_TASK+'_x_train'],\n",
        "    y=data['train'][TARGET_TASK+'_y_train'],\n",
        "    batch_size=BATCH_SIZE,\n",
        "    epochs=NUM_EPOCHS,\n",
        "    callbacks=[metrics],\n",
        "    # 每個 epoch 完後計算驗證資料集\n",
        "    # 上的 Loss 以及準確度\n",
        "    validation_data=(data['validation'][TARGET_TASK+'_x_val'],data['validation'][TARGET_TASK+'_y_val']),\n",
        "    # 每個 epoch 隨機調整訓練資料集\n",
        "    # 裡頭的數據以讓訓練過程更穩定\n",
        "    shuffle=True\n",
        ")\n",
        "#     class_weight=class_weight"
      ],
      "execution_count": 265,
      "outputs": [
        {
          "output_type": "stream",
          "text": [
            "Train on 6592 samples, validate on 660 samples\n",
            "Epoch 1/5\n",
            "6592/6592 [==============================] - 28s 4ms/step - loss: 0.5601 - acc: 0.7081 - val_loss: 0.4535 - val_acc: 0.7985\n",
            " — val_f1: 0.596434\n",
            "max f1;  0.5964342033276478\n",
            "best f1: 0.5964342033276478\n",
            "Epoch 2/5\n",
            "6592/6592 [==============================] - 15s 2ms/step - loss: 0.3025 - acc: 0.8762 - val_loss: 0.8172 - val_acc: 0.6636\n",
            " — val_f1: 0.527787\n",
            "max f1;  0.5964342033276478\n",
            "val f1: 0.5277874463394825, but not the best f1\n",
            "Epoch 3/5\n",
            "6592/6592 [==============================] - 15s 2ms/step - loss: 0.1168 - acc: 0.9612 - val_loss: 0.6947 - val_acc: 0.8667\n",
            " — val_f1: 0.584145\n",
            "max f1;  0.5964342033276478\n",
            "val f1: 0.5841448046740749, but not the best f1\n",
            "Epoch 4/5\n",
            "6592/6592 [==============================] - 15s 2ms/step - loss: 0.0531 - acc: 0.9826 - val_loss: 0.7744 - val_acc: 0.8439\n",
            " — val_f1: 0.580554\n",
            "max f1;  0.5964342033276478\n",
            "val f1: 0.58055420155364, but not the best f1\n",
            "Epoch 5/5\n",
            "6592/6592 [==============================] - 15s 2ms/step - loss: 0.0325 - acc: 0.9918 - val_loss: 0.8345 - val_acc: 0.8409\n",
            " — val_f1: 0.588262\n",
            "max f1;  0.5964342033276478\n",
            "val f1: 0.588262205084635, but not the best f1\n"
          ],
          "name": "stdout"
        }
      ]
    },
    {
      "cell_type": "code",
      "metadata": {
        "id": "jk5y1kcP7WoL",
        "colab_type": "code",
        "colab": {}
      },
      "source": [
        "file_his = open('./output/CNNV5_train_hist_'+TARGET_TASK+'lstm_1.pickle', 'wb')\n",
        "pickle.dump(history.history, file_his)\n",
        "file_his.close()"
      ],
      "execution_count": 0,
      "outputs": []
    },
    {
      "cell_type": "code",
      "metadata": {
        "id": "KMnswtAle7r6",
        "colab_type": "code",
        "outputId": "59a90939-36e9-49bb-9b4d-12c42c511314",
        "colab": {
          "base_uri": "https://localhost:8080/",
          "height": 215
        }
      },
      "source": [
        "history.history.keys()\n",
        "history.history['f-score']=metrics.val_f1s\n",
        "# history.history['best-fscore']=metrics.val_f1s\n",
        "history.history.keys()"
      ],
      "execution_count": 284,
      "outputs": [
        {
          "output_type": "error",
          "ename": "AttributeError",
          "evalue": "ignored",
          "traceback": [
            "\u001b[0;31m---------------------------------------------------------------------------\u001b[0m",
            "\u001b[0;31mAttributeError\u001b[0m                            Traceback (most recent call last)",
            "\u001b[0;32m<ipython-input-284-f979c612cd48>\u001b[0m in \u001b[0;36m<module>\u001b[0;34m()\u001b[0m\n\u001b[1;32m      1\u001b[0m \u001b[0mhistory\u001b[0m\u001b[0;34m.\u001b[0m\u001b[0mhistory\u001b[0m\u001b[0;34m.\u001b[0m\u001b[0mkeys\u001b[0m\u001b[0;34m(\u001b[0m\u001b[0;34m)\u001b[0m\u001b[0;34m\u001b[0m\u001b[0;34m\u001b[0m\u001b[0m\n\u001b[0;32m----> 2\u001b[0;31m \u001b[0mhistory\u001b[0m\u001b[0;34m.\u001b[0m\u001b[0mhistory\u001b[0m\u001b[0;34m[\u001b[0m\u001b[0;34m'f-score'\u001b[0m\u001b[0;34m]\u001b[0m\u001b[0;34m=\u001b[0m\u001b[0mmetrics\u001b[0m\u001b[0;34m.\u001b[0m\u001b[0mval_f1s\u001b[0m\u001b[0;34m\u001b[0m\u001b[0;34m\u001b[0m\u001b[0m\n\u001b[0m\u001b[1;32m      3\u001b[0m \u001b[0;31m# history.history['best-fscore']=metrics.val_f1s\u001b[0m\u001b[0;34m\u001b[0m\u001b[0;34m\u001b[0m\u001b[0;34m\u001b[0m\u001b[0m\n\u001b[1;32m      4\u001b[0m \u001b[0mhistory\u001b[0m\u001b[0;34m.\u001b[0m\u001b[0mhistory\u001b[0m\u001b[0;34m.\u001b[0m\u001b[0mkeys\u001b[0m\u001b[0;34m(\u001b[0m\u001b[0;34m)\u001b[0m\u001b[0;34m\u001b[0m\u001b[0;34m\u001b[0m\u001b[0m\n",
            "\u001b[0;31mAttributeError\u001b[0m: 'Metrics' object has no attribute 'val_f1s'"
          ]
        }
      ]
    },
    {
      "cell_type": "code",
      "metadata": {
        "id": "9W7GnTgBvRCi",
        "colab_type": "code",
        "outputId": "941b2f5c-08b0-472c-fea1-b2ace0881b90",
        "colab": {
          "base_uri": "https://localhost:8080/",
          "height": 34
        }
      },
      "source": [
        "data['test'][TARGET_TASK+'_x_test'] = text2id(tokenizer, data['test'][TARGET_TASK].tweet_exp)"
      ],
      "execution_count": 277,
      "outputs": [
        {
          "output_type": "stream",
          "text": [
            "all sequence length are  66\n"
          ],
          "name": "stdout"
        }
      ]
    },
    {
      "cell_type": "code",
      "metadata": {
        "id": "TsLt1LJIxKQ0",
        "colab_type": "code",
        "outputId": "1dd0583d-3a0c-4a9d-a40e-f62c0d36341d",
        "colab": {
          "base_uri": "https://localhost:8080/",
          "height": 34
        }
      },
      "source": [
        "from keras.models import load_model\n",
        "if os.path.exists(MODEL_SAVE_PATH):\n",
        "      model=load_model(MODEL_SAVE_PATH)\n",
        "    # 若成功加载前面保存的参数，输出下列信息\n",
        "      print(\"checkpoint_loaded\")\n",
        "predictions = model.predict(data['test'][TARGET_TASK+'_x_test'])"
      ],
      "execution_count": 278,
      "outputs": [
        {
          "output_type": "stream",
          "text": [
            "checkpoint_loaded\n"
          ],
          "name": "stdout"
        }
      ]
    },
    {
      "cell_type": "code",
      "metadata": {
        "id": "LIIIkwP8xWTt",
        "colab_type": "code",
        "outputId": "966d2ed1-cdb8-4365-d714-3886352ce898",
        "colab": {
          "base_uri": "https://localhost:8080/",
          "height": 34
        }
      },
      "source": [
        "#run this block if TARGET_TASK = 'subtask_c'\n",
        "predictions = np.argmax(predictions,axis=1)\n",
        "predictions[:5]"
      ],
      "execution_count": 279,
      "outputs": [
        {
          "output_type": "execute_result",
          "data": {
            "text/plain": [
              "array([2, 1, 0, 0, 0])"
            ]
          },
          "metadata": {
            "tags": []
          },
          "execution_count": 279
        }
      ]
    },
    {
      "cell_type": "code",
      "metadata": {
        "id": "Gm3xO2YrIFxt",
        "colab_type": "code",
        "outputId": "c3192692-1fb3-4cfc-82d1-05c55a5eb6df",
        "colab": {
          "base_uri": "https://localhost:8080/",
          "height": 34
        }
      },
      "source": [
        "#run this block if TARGET_TASK = 'subtask_a' or 'subtask_b'\n",
        "predictions=predictions.round().astype('int').reshape(-1)\n",
        "predictions[:5]\n"
      ],
      "execution_count": 267,
      "outputs": [
        {
          "output_type": "execute_result",
          "data": {
            "text/plain": [
              "array([1, 1, 0, 1, 0])"
            ]
          },
          "metadata": {
            "tags": []
          },
          "execution_count": 267
        }
      ]
    },
    {
      "cell_type": "code",
      "metadata": {
        "id": "vWAWcDSP2lPc",
        "colab_type": "code",
        "outputId": "563fd6b1-29b1-4d64-d30c-43e6aad888d7",
        "colab": {
          "base_uri": "https://localhost:8080/",
          "height": 142
        }
      },
      "source": [
        "TEST_A_LABEL_PATH = DATA_SET_DIR+'labels-levela.csv'\n",
        "TEST_B_LABEL_PATH = DATA_SET_DIR+'labels-levelb.csv'\n",
        "TEST_C_LABEL_PATH = DATA_SET_DIR+'labels-levelc.csv'\n",
        "TEST_LABEL_PATH_DICT = {}\n",
        "TEST_LABEL_PATH_DICT['subtask_a'] = TEST_A_LABEL_PATH\n",
        "TEST_LABEL_PATH_DICT['subtask_b'] = TEST_B_LABEL_PATH\n",
        "TEST_LABEL_PATH_DICT['subtask_c'] = TEST_C_LABEL_PATH\n",
        "\n",
        "true_label = pd.read_csv(TEST_LABEL_PATH_DICT[TARGET_TASK],sep=',',header=None)\n",
        "true_label.head(3)"
      ],
      "execution_count": 280,
      "outputs": [
        {
          "output_type": "execute_result",
          "data": {
            "text/html": [
              "<div>\n",
              "<style scoped>\n",
              "    .dataframe tbody tr th:only-of-type {\n",
              "        vertical-align: middle;\n",
              "    }\n",
              "\n",
              "    .dataframe tbody tr th {\n",
              "        vertical-align: top;\n",
              "    }\n",
              "\n",
              "    .dataframe thead th {\n",
              "        text-align: right;\n",
              "    }\n",
              "</style>\n",
              "<table border=\"1\" class=\"dataframe\">\n",
              "  <thead>\n",
              "    <tr style=\"text-align: right;\">\n",
              "      <th></th>\n",
              "      <th>0</th>\n",
              "      <th>1</th>\n",
              "    </tr>\n",
              "  </thead>\n",
              "  <tbody>\n",
              "    <tr>\n",
              "      <th>0</th>\n",
              "      <td>15923</td>\n",
              "      <td>OTH</td>\n",
              "    </tr>\n",
              "    <tr>\n",
              "      <th>1</th>\n",
              "      <td>60133</td>\n",
              "      <td>GRP</td>\n",
              "    </tr>\n",
              "    <tr>\n",
              "      <th>2</th>\n",
              "      <td>83681</td>\n",
              "      <td>IND</td>\n",
              "    </tr>\n",
              "  </tbody>\n",
              "</table>\n",
              "</div>"
            ],
            "text/plain": [
              "       0    1\n",
              "0  15923  OTH\n",
              "1  60133  GRP\n",
              "2  83681  IND"
            ]
          },
          "metadata": {
            "tags": []
          },
          "execution_count": 280
        }
      ]
    },
    {
      "cell_type": "code",
      "metadata": {
        "id": "klJx224b5zOp",
        "colab_type": "code",
        "outputId": "3a6c3ddf-5ac8-4b5b-e913-08bf6ffe5179",
        "colab": {
          "base_uri": "https://localhost:8080/",
          "height": 34
        }
      },
      "source": [
        "y_test = true_label[1].apply(lambda x: classes_dict[TARGET_TASK][x])\n",
        "y_test = np.asarray(y_test).astype('int')\n",
        "y_test[:5]"
      ],
      "execution_count": 281,
      "outputs": [
        {
          "output_type": "execute_result",
          "data": {
            "text/plain": [
              "array([1, 2, 0, 1, 0])"
            ]
          },
          "metadata": {
            "tags": []
          },
          "execution_count": 281
        }
      ]
    },
    {
      "cell_type": "code",
      "metadata": {
        "id": "LFi4R08y56v3",
        "colab_type": "code",
        "outputId": "16fe54a7-c0fc-4b86-9003-563567140db4",
        "colab": {
          "base_uri": "https://localhost:8080/",
          "height": 51
        }
      },
      "source": [
        "testing_f1 = f1_score(y_test, predictions,average='macro')\n",
        "testing_acc = accuracy_score(y_test, predictions)\n",
        "print('testing data f1-score:',testing_f1)\n",
        "print('testing data accuracy:',testing_acc)\n",
        "# testing data f1-score: 0.4489635185344832\n",
        "# testing data accuracy: 0.49765258215962443\n",
        "# testing data f1-score: 0.5304134439163793\n",
        "# testing data accuracy: 0.6150234741784038"
      ],
      "execution_count": 282,
      "outputs": [
        {
          "output_type": "stream",
          "text": [
            "testing data f1-score: 0.5773644118175659\n",
            "testing data accuracy: 0.6291079812206573\n"
          ],
          "name": "stdout"
        }
      ]
    },
    {
      "cell_type": "code",
      "metadata": {
        "id": "y2rGkHZQ7eGi",
        "colab_type": "code",
        "outputId": "05a62512-b6a3-41dc-a74c-0969b614fee8",
        "colab": {
          "base_uri": "https://localhost:8080/",
          "height": 182
        }
      },
      "source": [
        "!zip cnn_outputt3_lstm_1 output/*"
      ],
      "execution_count": 285,
      "outputs": [
        {
          "output_type": "stream",
          "text": [
            "  adding: output/CNN_Train_subtask_a.hdf5 (deflated 15%)\n",
            "  adding: output/CNN_Train_subtask_b.hdf5 (deflated 41%)\n",
            "  adding: output/CNN_Train_subtask_c.hdf5 (deflated 42%)\n",
            "  adding: output/CNNV5_train_hist_subtask_a.pickle (deflated 42%)\n",
            "  adding: output/CNNV5_train_hist_subtask_b_2.pickle (deflated 43%)\n",
            "  adding: output/CNNV5_train_hist_subtask_blstm_1.pickle (deflated 22%)\n",
            "  adding: output/CNNV5_train_hist_subtask_c_1.pickle (deflated 40%)\n",
            "  adding: output/null-word.txt (deflated 48%)\n"
          ],
          "name": "stdout"
        }
      ]
    },
    {
      "cell_type": "code",
      "metadata": {
        "id": "OtusFN2IRtc-",
        "colab_type": "code",
        "colab": {}
      },
      "source": [
        "!mv cnn_outputt3_lstm_1.zip './gdrive/My Drive/NLP/Final-Project/output/'"
      ],
      "execution_count": 0,
      "outputs": []
    },
    {
      "cell_type": "code",
      "metadata": {
        "id": "dmsBEwPRWg-n",
        "colab_type": "code",
        "colab": {}
      },
      "source": [
        "!mv output/CNNV5_train_hist_subtask_b.pickle output/CNNV5_train_hist_subtask_b_2.pickle"
      ],
      "execution_count": 0,
      "outputs": []
    },
    {
      "cell_type": "code",
      "metadata": {
        "id": "8kMxKCK-SDCL",
        "colab_type": "code",
        "colab": {}
      },
      "source": [
        "from tqdm import tqdm_notebook"
      ],
      "execution_count": 0,
      "outputs": []
    },
    {
      "cell_type": "code",
      "metadata": {
        "id": "5gS7kWX8Yl8E",
        "colab_type": "code",
        "colab": {}
      },
      "source": [
        ""
      ],
      "execution_count": 0,
      "outputs": []
    }
  ]
}