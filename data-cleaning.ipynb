{
 "cells": [
  {
   "cell_type": "code",
   "execution_count": 1,
   "metadata": {},
   "outputs": [
    {
     "data": {
      "text/html": [
       "<div>\n",
       "<style scoped>\n",
       "    .dataframe tbody tr th:only-of-type {\n",
       "        vertical-align: middle;\n",
       "    }\n",
       "\n",
       "    .dataframe tbody tr th {\n",
       "        vertical-align: top;\n",
       "    }\n",
       "\n",
       "    .dataframe thead th {\n",
       "        text-align: right;\n",
       "    }\n",
       "</style>\n",
       "<table border=\"1\" class=\"dataframe\">\n",
       "  <thead>\n",
       "    <tr style=\"text-align: right;\">\n",
       "      <th></th>\n",
       "      <th>tweet</th>\n",
       "      <th>subtask_a</th>\n",
       "      <th>subtask_b</th>\n",
       "      <th>subtask_c</th>\n",
       "    </tr>\n",
       "    <tr>\n",
       "      <th>id</th>\n",
       "      <th></th>\n",
       "      <th></th>\n",
       "      <th></th>\n",
       "      <th></th>\n",
       "    </tr>\n",
       "  </thead>\n",
       "  <tbody>\n",
       "    <tr>\n",
       "      <th>86426</th>\n",
       "      <td>@USER She should ask a few native Americans wh...</td>\n",
       "      <td>OFF</td>\n",
       "      <td>UNT</td>\n",
       "      <td>NaN</td>\n",
       "    </tr>\n",
       "    <tr>\n",
       "      <th>90194</th>\n",
       "      <td>@USER @USER Go home you’re drunk!!! @USER #MAG...</td>\n",
       "      <td>OFF</td>\n",
       "      <td>TIN</td>\n",
       "      <td>IND</td>\n",
       "    </tr>\n",
       "    <tr>\n",
       "      <th>16820</th>\n",
       "      <td>Amazon is investigating Chinese employees who ...</td>\n",
       "      <td>NOT</td>\n",
       "      <td>NaN</td>\n",
       "      <td>NaN</td>\n",
       "    </tr>\n",
       "  </tbody>\n",
       "</table>\n",
       "</div>"
      ],
      "text/plain": [
       "                                                   tweet subtask_a subtask_b  \\\n",
       "id                                                                             \n",
       "86426  @USER She should ask a few native Americans wh...       OFF       UNT   \n",
       "90194  @USER @USER Go home you’re drunk!!! @USER #MAG...       OFF       TIN   \n",
       "16820  Amazon is investigating Chinese employees who ...       NOT       NaN   \n",
       "\n",
       "      subtask_c  \n",
       "id               \n",
       "86426       NaN  \n",
       "90194       IND  \n",
       "16820       NaN  "
      ]
     },
     "execution_count": 1,
     "metadata": {},
     "output_type": "execute_result"
    }
   ],
   "source": [
    "import os\n",
    "import pandas as pd\n",
    "\n",
    "DATA_SET_DIR = './project2_data/'\n",
    "TRAINING_DATA_PATH = DATA_SET_DIR+'olid-training-v1_0.csv'\n",
    "TEST_A_DATA_PATH = DATA_SET_DIR+'testset-levela.tsv'\n",
    "\n",
    "train = pd.read_csv(TRAINING_DATA_PATH,sep='\\t', index_col='id')\n",
    "train.head(3)"
   ]
  },
  {
   "cell_type": "code",
   "execution_count": 2,
   "metadata": {},
   "outputs": [
    {
     "name": "stdout",
     "output_type": "stream",
     "text": [
      "NOT    8840\n",
      "OFF    4400\n",
      "Name: subtask_a, dtype: int64\n"
     ]
    }
   ],
   "source": [
    "taskA_describe = train.subtask_a.value_counts()\n",
    "print(taskA_describe)"
   ]
  },
  {
   "cell_type": "code",
   "execution_count": 3,
   "metadata": {},
   "outputs": [
    {
     "name": "stdout",
     "output_type": "stream",
     "text": [
      "                                                   tweet\n",
      "id                                                      \n",
      "15923  #WhoIsQ #WheresTheServer #DumpNike #DECLASFISA...\n",
      "27014  #ConstitutionDay is revered by Conservatives, ...\n",
      "30530  #FOXNews #NRA #MAGA #POTUS #TRUMP #2ndAmendmen...\n"
     ]
    }
   ],
   "source": [
    "test = pd.read_csv(TEST_A_DATA_PATH,sep='\\t', index_col='id')\n",
    "print(test.head(3))"
   ]
  },
  {
   "cell_type": "code",
   "execution_count": 4,
   "metadata": {},
   "outputs": [
    {
     "name": "stdout",
     "output_type": "stream",
     "text": [
      "tweet        False\n",
      "subtask_a    False\n",
      "subtask_b     True\n",
      "subtask_c     True\n",
      "dtype: bool\n",
      "tweet    False\n",
      "dtype: bool\n"
     ]
    }
   ],
   "source": [
    "print(train.isna().any())\n",
    "print(test.isna().any())"
   ]
  },
  {
   "cell_type": "code",
   "execution_count": 5,
   "metadata": {},
   "outputs": [],
   "source": [
    "from pycontractions import Contractions\n",
    "cont = Contractions(api_key=\"glove-twitter-25\")"
   ]
  },
  {
   "cell_type": "code",
   "execution_count": 6,
   "metadata": {},
   "outputs": [
    {
     "ename": "NameError",
     "evalue": "name 'str_list' is not defined",
     "output_type": "error",
     "traceback": [
      "\u001b[0;31m---------------------------------------------------------------------------\u001b[0m",
      "\u001b[0;31mNameError\u001b[0m                                 Traceback (most recent call last)",
      "\u001b[0;32m<ipython-input-6-2d588e932f8b>\u001b[0m in \u001b[0;36m<module>\u001b[0;34m()\u001b[0m\n\u001b[1;32m      1\u001b[0m \u001b[0;32mimport\u001b[0m \u001b[0mtime\u001b[0m\u001b[0;34m\u001b[0m\u001b[0m\n\u001b[1;32m      2\u001b[0m \u001b[0mstart_t\u001b[0m\u001b[0;34m=\u001b[0m\u001b[0mtime\u001b[0m\u001b[0;34m.\u001b[0m\u001b[0mtime\u001b[0m\u001b[0;34m(\u001b[0m\u001b[0;34m)\u001b[0m\u001b[0;34m\u001b[0m\u001b[0m\n\u001b[0;32m----> 3\u001b[0;31m \u001b[0mprint\u001b[0m\u001b[0;34m(\u001b[0m\u001b[0mlist\u001b[0m\u001b[0;34m(\u001b[0m\u001b[0mcont\u001b[0m\u001b[0;34m.\u001b[0m\u001b[0mexpand_texts\u001b[0m\u001b[0;34m(\u001b[0m\u001b[0;34m[\u001b[0m\u001b[0mstr_list\u001b[0m\u001b[0;34m[\u001b[0m\u001b[0;36m0\u001b[0m\u001b[0;34m]\u001b[0m\u001b[0;34m]\u001b[0m\u001b[0;34m,\u001b[0m\u001b[0mprecise\u001b[0m\u001b[0;34m=\u001b[0m\u001b[0;32mTrue\u001b[0m\u001b[0;34m)\u001b[0m\u001b[0;34m)\u001b[0m\u001b[0;34m)\u001b[0m\u001b[0;34m\u001b[0m\u001b[0m\n\u001b[0m\u001b[1;32m      4\u001b[0m \u001b[0mend_t\u001b[0m\u001b[0;34m=\u001b[0m\u001b[0mtime\u001b[0m\u001b[0;34m.\u001b[0m\u001b[0mtime\u001b[0m\u001b[0;34m(\u001b[0m\u001b[0;34m)\u001b[0m\u001b[0;34m\u001b[0m\u001b[0m\n\u001b[1;32m      5\u001b[0m \u001b[0mprint\u001b[0m\u001b[0;34m(\u001b[0m\u001b[0mend_t\u001b[0m\u001b[0;34m-\u001b[0m\u001b[0mstart_t\u001b[0m\u001b[0;34m)\u001b[0m\u001b[0;34m\u001b[0m\u001b[0m\n",
      "\u001b[0;31mNameError\u001b[0m: name 'str_list' is not defined"
     ]
    }
   ],
   "source": [
    "import time\n",
    "start_t=time.time()\n",
    "print(list(cont.expand_texts([str_list[0]],precise=True)))\n",
    "end_t=time.time()\n",
    "print(end_t-start_t)"
   ]
  },
  {
   "cell_type": "code",
   "execution_count": 7,
   "metadata": {},
   "outputs": [
    {
     "name": "stdout",
     "output_type": "stream",
     "text": [
      "                                                   tweet subtask_a subtask_b  \\\n",
      "id                                                                             \n",
      "86426  @USER She should ask a few native Americans wh...       OFF       UNT   \n",
      "90194  @USER @USER Go home you're drunk!!! @USER #MAG...       OFF       TIN   \n",
      "16820  Amazon is investigating Chinese employees who ...       NOT       NaN   \n",
      "62688  @USER Someone should'veTaken\" this piece of sh...       OFF       UNT   \n",
      "43605  @USER @USER Obama wanted liberals &amp; illega...       NOT       NaN   \n",
      "\n",
      "      subtask_c  \n",
      "id               \n",
      "86426       NaN  \n",
      "90194       IND  \n",
      "16820       NaN  \n",
      "62688       NaN  \n",
      "43605       NaN  \n",
      "                                                   tweet subtask_a subtask_b  \\\n",
      "id                                                                             \n",
      "86426  @USER She should ask a few native Americans wh...       OFF       UNT   \n",
      "90194  @USER @USER Go home you're drunk!!! @USER #MAG...       OFF       TIN   \n",
      "16820  Amazon is investigating Chinese employees who ...       NOT       NaN   \n",
      "62688  @USER Someone should'veTaken\" this piece of sh...       OFF       UNT   \n",
      "43605  @USER @USER Obama wanted liberals &amp; illega...       NOT       NaN   \n",
      "\n",
      "      subtask_c  \n",
      "id               \n",
      "86426       NaN  \n",
      "90194       IND  \n",
      "16820       NaN  \n",
      "62688       NaN  \n",
      "43605       NaN  \n",
      "tweet        False\n",
      "subtask_a    False\n",
      "subtask_b     True\n",
      "subtask_c     True\n",
      "dtype: bool\n",
      "tweet    False\n",
      "dtype: bool\n"
     ]
    }
   ],
   "source": [
    "import re, string\n",
    "legal_chars = string.printable\n",
    "tmp_re = re.compile('[’]')\n",
    "regex = re.compile('[^%s]' % re.escape(legal_chars))\n",
    "# def test_re(s):  # From Vinko's solution, with fix.\n",
    "#     return regex.sub('', s)\n",
    "# str1='@USER @USER Go home you’re drunk!!! @USER #MAGA #Trump2020 👊🇺🇸👊'\n",
    "# test_re(str1)\n",
    "tmp_re = re.compile('[’]')\n",
    "train.tweet = train.tweet.apply(lambda x: tmp_re.sub(\"'\", x))\n",
    "test.tweet = test.tweet.apply(lambda x: tmp_re.sub(\"'\", x))\n",
    "train.tweet = train.tweet.apply(lambda x: regex.sub(' ', x))\n",
    "test.tweet = test.tweet.apply(lambda x: regex.sub(' ', x))\n",
    "print(pd.DataFrame(train.head(5)))\n",
    "print(pd.DataFrame(train.head(5)))\n",
    "print(train.isna().any())\n",
    "print(test.isna().any())"
   ]
  },
  {
   "cell_type": "code",
   "execution_count": 56,
   "metadata": {},
   "outputs": [],
   "source": [
    "import numpy as np\n",
    "def expand_contra(text):\n",
    "    text_list = list(cont.expand_texts([text],precise=True))\n",
    "    assert (len(text_list)==1),'error!'\n",
    "    return text_list[0]\n",
    "def process(data):\n",
    "    res = data.apply(expand_contra)\n",
    "    return res\n",
    "\n",
    "def check_merge_idx(data, res):\n",
    "    assert (data.index == res.index).all(), 'Something error when merge data'\n",
    "\n",
    "def parallelize(data, func):\n",
    "    from multiprocessing import cpu_count, Pool\n",
    "    cores = partitions = cpu_count()\n",
    "    data_split = np.array_split(data, partitions)\n",
    "    pool = Pool(cores)\n",
    "    res = pd.concat(pool.map(func, data_split))\n",
    "    pool.close()\n",
    "    pool.join()\n",
    "    check_merge_idx(data, res)\n",
    "    return res"
   ]
  },
  {
   "cell_type": "code",
   "execution_count": 57,
   "metadata": {},
   "outputs": [
    {
     "name": "stdout",
     "output_type": "stream",
     "text": [
      "start to training\n"
     ]
    }
   ],
   "source": [
    "print(\"start to training\")\n",
    "train['tweet_exp'] = parallelize(train.loc[:,\"tweet\"], process)"
   ]
  },
  {
   "cell_type": "code",
   "execution_count": 65,
   "metadata": {},
   "outputs": [
    {
     "name": "stdout",
     "output_type": "stream",
     "text": [
      "start to training\n"
     ]
    }
   ],
   "source": [
    "print(\"start to training\")\n",
    "test['tweet_exp'] = parallelize(test.loc[:,\"tweet\"], process)"
   ]
  },
  {
   "cell_type": "code",
   "execution_count": 74,
   "metadata": {},
   "outputs": [
    {
     "name": "stdout",
     "output_type": "stream",
     "text": [
      "                                                   tweet\n",
      "id                                                      \n",
      "15923  #WhoIsQ #WheresTheServer #DumpNike #DECLASFISA...\n",
      "60133  #NoPasaran: Unity demo to oppose the far-right...\n",
      "83681           . . . What the fuck did he do this time?\n",
      "tweet    False\n",
      "dtype: bool\n"
     ]
    }
   ],
   "source": [
    "DATA_PATH = DATA_SET_DIR+'testset-levelc.tsv'\n",
    "data = pd.read_csv(DATA_PATH,sep='\\t', index_col='id')\n",
    "print(data.head(3))\n",
    "print(data.isna().any())"
   ]
  },
  {
   "cell_type": "code",
   "execution_count": 75,
   "metadata": {},
   "outputs": [
    {
     "name": "stdout",
     "output_type": "stream",
     "text": [
      "start to training\n"
     ]
    }
   ],
   "source": [
    "data.tweet = data.tweet.apply(lambda x: tmp_re.sub(\"'\", x))\n",
    "data.tweet = data.tweet.apply(lambda x: regex.sub(' ', x))\n",
    "print(\"start to training\")\n",
    "data['tweet_exp'] = parallelize(data.loc[:,\"tweet\"], process)\n",
    "cols = ['tweet_exp']\n",
    "data = data.loc[:, cols]\n",
    "data.to_csv(DATA_SET_DIR+'testset-levelc-clean.tsv',sep='\\t',index=True)"
   ]
  },
  {
   "cell_type": "code",
   "execution_count": 68,
   "metadata": {},
   "outputs": [
    {
     "data": {
      "text/html": [
       "<div>\n",
       "<style scoped>\n",
       "    .dataframe tbody tr th:only-of-type {\n",
       "        vertical-align: middle;\n",
       "    }\n",
       "\n",
       "    .dataframe tbody tr th {\n",
       "        vertical-align: top;\n",
       "    }\n",
       "\n",
       "    .dataframe thead th {\n",
       "        text-align: right;\n",
       "    }\n",
       "</style>\n",
       "<table border=\"1\" class=\"dataframe\">\n",
       "  <thead>\n",
       "    <tr style=\"text-align: right;\">\n",
       "      <th></th>\n",
       "      <th>tweet_exp</th>\n",
       "      <th>subtask_a</th>\n",
       "      <th>subtask_b</th>\n",
       "      <th>subtask_c</th>\n",
       "    </tr>\n",
       "    <tr>\n",
       "      <th>id</th>\n",
       "      <th></th>\n",
       "      <th></th>\n",
       "      <th></th>\n",
       "      <th></th>\n",
       "    </tr>\n",
       "  </thead>\n",
       "  <tbody>\n",
       "    <tr>\n",
       "      <th>86426</th>\n",
       "      <td>@USER She should ask a few native Americans wh...</td>\n",
       "      <td>OFF</td>\n",
       "      <td>UNT</td>\n",
       "      <td>NaN</td>\n",
       "    </tr>\n",
       "    <tr>\n",
       "      <th>90194</th>\n",
       "      <td>@USER @USER Go home you are drunk!!! @USER #MA...</td>\n",
       "      <td>OFF</td>\n",
       "      <td>TIN</td>\n",
       "      <td>IND</td>\n",
       "    </tr>\n",
       "    <tr>\n",
       "      <th>16820</th>\n",
       "      <td>Amazon is investigating Chinese employees who ...</td>\n",
       "      <td>NOT</td>\n",
       "      <td>NaN</td>\n",
       "      <td>NaN</td>\n",
       "    </tr>\n",
       "    <tr>\n",
       "      <th>62688</th>\n",
       "      <td>@USER Someone should'veTaken\" this piece of sh...</td>\n",
       "      <td>OFF</td>\n",
       "      <td>UNT</td>\n",
       "      <td>NaN</td>\n",
       "    </tr>\n",
       "    <tr>\n",
       "      <th>43605</th>\n",
       "      <td>@USER @USER Obama wanted liberals &amp;amp; illega...</td>\n",
       "      <td>NOT</td>\n",
       "      <td>NaN</td>\n",
       "      <td>NaN</td>\n",
       "    </tr>\n",
       "    <tr>\n",
       "      <th>97670</th>\n",
       "      <td>@USER Liberals are all Kookoo !!!</td>\n",
       "      <td>OFF</td>\n",
       "      <td>TIN</td>\n",
       "      <td>OTH</td>\n",
       "    </tr>\n",
       "    <tr>\n",
       "      <th>77444</th>\n",
       "      <td>@USER @USER Oh noes! Tough shit.</td>\n",
       "      <td>OFF</td>\n",
       "      <td>UNT</td>\n",
       "      <td>NaN</td>\n",
       "    </tr>\n",
       "    <tr>\n",
       "      <th>52415</th>\n",
       "      <td>@USER was literally just talking about this lo...</td>\n",
       "      <td>OFF</td>\n",
       "      <td>TIN</td>\n",
       "      <td>GRP</td>\n",
       "    </tr>\n",
       "    <tr>\n",
       "      <th>45157</th>\n",
       "      <td>@USER Buy more icecream!!!</td>\n",
       "      <td>NOT</td>\n",
       "      <td>NaN</td>\n",
       "      <td>NaN</td>\n",
       "    </tr>\n",
       "    <tr>\n",
       "      <th>13384</th>\n",
       "      <td>@USER Canada does not need another CUCK! We al...</td>\n",
       "      <td>OFF</td>\n",
       "      <td>TIN</td>\n",
       "      <td>IND</td>\n",
       "    </tr>\n",
       "  </tbody>\n",
       "</table>\n",
       "</div>"
      ],
      "text/plain": [
       "                                               tweet_exp subtask_a subtask_b  \\\n",
       "id                                                                             \n",
       "86426  @USER She should ask a few native Americans wh...       OFF       UNT   \n",
       "90194  @USER @USER Go home you are drunk!!! @USER #MA...       OFF       TIN   \n",
       "16820  Amazon is investigating Chinese employees who ...       NOT       NaN   \n",
       "62688  @USER Someone should'veTaken\" this piece of sh...       OFF       UNT   \n",
       "43605  @USER @USER Obama wanted liberals &amp; illega...       NOT       NaN   \n",
       "97670                  @USER Liberals are all Kookoo !!!       OFF       TIN   \n",
       "77444                   @USER @USER Oh noes! Tough shit.       OFF       UNT   \n",
       "52415  @USER was literally just talking about this lo...       OFF       TIN   \n",
       "45157                         @USER Buy more icecream!!!       NOT       NaN   \n",
       "13384  @USER Canada does not need another CUCK! We al...       OFF       TIN   \n",
       "\n",
       "      subtask_c  \n",
       "id               \n",
       "86426       NaN  \n",
       "90194       IND  \n",
       "16820       NaN  \n",
       "62688       NaN  \n",
       "43605       NaN  \n",
       "97670       OTH  \n",
       "77444       NaN  \n",
       "52415       GRP  \n",
       "45157       NaN  \n",
       "13384       IND  "
      ]
     },
     "execution_count": 68,
     "metadata": {},
     "output_type": "execute_result"
    }
   ],
   "source": [
    "TESTing_PATH = DATA_SET_DIR+'olid-training-clean.csv'\n",
    "\n",
    "train_t = pd.read_csv(TESTing_PATH,sep='\\t', index_col='id')\n",
    "train_t.head(10)"
   ]
  },
  {
   "cell_type": "code",
   "execution_count": null,
   "metadata": {},
   "outputs": [],
   "source": []
  }
 ],
 "metadata": {
  "kernelspec": {
   "display_name": "Python 3",
   "language": "python",
   "name": "python3"
  },
  "language_info": {
   "codemirror_mode": {
    "name": "ipython",
    "version": 3
   },
   "file_extension": ".py",
   "mimetype": "text/x-python",
   "name": "python",
   "nbconvert_exporter": "python",
   "pygments_lexer": "ipython3",
   "version": "3.6.5"
  }
 },
 "nbformat": 4,
 "nbformat_minor": 2
}
