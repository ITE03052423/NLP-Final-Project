{
  "nbformat": 4,
  "nbformat_minor": 0,
  "metadata": {
    "colab": {
      "name": "NLP-Final-Plot.ipynb",
      "version": "0.3.2",
      "provenance": []
    },
    "kernelspec": {
      "name": "python3",
      "display_name": "Python 3"
    },
    "accelerator": "GPU"
  },
  "cells": [
    {
      "cell_type": "code",
      "metadata": {
        "id": "pBVS_S9hXJki",
        "colab_type": "code",
        "outputId": "2e52473c-d245-420e-8ced-f1b7cce174b9",
        "colab": {
          "base_uri": "https://localhost:8080/",
          "height": 189
        }
      },
      "source": [
        "# Save model to your Drive\n",
        "from google.colab import drive\n",
        "drive.mount('/content/gdrive')"
      ],
      "execution_count": 0,
      "outputs": [
        {
          "output_type": "stream",
          "text": [
            "Go to this URL in a browser: https://accounts.google.com/o/oauth2/auth?client_id=947318989803-6bn6qk8qdgf4n4g3pfee6491hc0brc4i.apps.googleusercontent.com&redirect_uri=urn%3Aietf%3Awg%3Aoauth%3A2.0%3Aoob&scope=email%20https%3A%2F%2Fwww.googleapis.com%2Fauth%2Fdocs.test%20https%3A%2F%2Fwww.googleapis.com%2Fauth%2Fdrive%20https%3A%2F%2Fwww.googleapis.com%2Fauth%2Fdrive.photos.readonly%20https%3A%2F%2Fwww.googleapis.com%2Fauth%2Fpeopleapi.readonly&response_type=code\n",
            "\n",
            "Enter your authorization code:\n",
            "··········\n",
            "Mounted at /content/gdrive\n"
          ],
          "name": "stdout"
        }
      ]
    },
    {
      "cell_type": "code",
      "metadata": {
        "id": "kwaeCmOOXW9A",
        "colab_type": "code",
        "colab": {}
      },
      "source": [
        "!unzip -q './gdrive/My Drive/NLP/Final-Project/output/lstm_bert_output_c4.zip' -d ./lstm_bert_c"
      ],
      "execution_count": 0,
      "outputs": []
    },
    {
      "cell_type": "code",
      "metadata": {
        "id": "x_D7fJFiYoI-",
        "colab_type": "code",
        "colab": {}
      },
      "source": [
        "import os\n",
        "import pandas as pd\n",
        "import numpy as np\n",
        "import re, string"
      ],
      "execution_count": 0,
      "outputs": []
    },
    {
      "cell_type": "code",
      "metadata": {
        "id": "AZy_8ygn44kc",
        "colab_type": "code",
        "colab": {}
      },
      "source": [
        "DATA_SET_DIR = './gdrive/My Drive/NLP/Final-Project/data/'\n",
        "# TRAINING_DATA_PATH = DATA_SET_DIR+'train_bert_vector.npy'\n",
        "TEST_PATH_DICT = {}\n",
        "TEST_A_DATA_PATH = DATA_SET_DIR+'test_bert_vector_subtask_a.npy'\n",
        "TEST_B_DATA_PATH = DATA_SET_DIR+'test_bert_vector_subtask_b.npy'\n",
        "TEST_C_DATA_PATH = DATA_SET_DIR+'test_bert_vector_subtask_c.npy'\n",
        "TEST_PATH_DICT['subtask_a'] = TEST_A_DATA_PATH\n",
        "TEST_PATH_DICT['subtask_b'] = TEST_B_DATA_PATH\n",
        "TEST_PATH_DICT['subtask_c'] = TEST_C_DATA_PATH\n",
        "\n",
        "bert_data={}\n",
        "# bert_data['train'] = {}\n",
        "# bert_data['validation'] = {}\n",
        "bert_data['test'] = {}\n",
        "task_list = ['subtask_a','subtask_b','subtask_c']\n",
        "# bert_data['train'] = np.load(TRAINING_DATA_PATH)\n",
        "for subtask in task_list:\n",
        "    bert_data['test'][subtask] = np.load(TEST_PATH_DICT[subtask])"
      ],
      "execution_count": 0,
      "outputs": []
    },
    {
      "cell_type": "code",
      "metadata": {
        "id": "vk1b5Nrw5pdP",
        "colab_type": "code",
        "colab": {}
      },
      "source": [
        "TEST_A_LABEL_PATH = DATA_SET_DIR+'labels-levela.csv'\n",
        "TEST_B_LABEL_PATH = DATA_SET_DIR+'labels-levelb.csv'\n",
        "TEST_C_LABEL_PATH = DATA_SET_DIR+'labels-levelc.csv'\n",
        "TEST_LABEL_PATH_DICT = {}\n",
        "TEST_LABEL_PATH_DICT['subtask_a'] = TEST_A_LABEL_PATH\n",
        "TEST_LABEL_PATH_DICT['subtask_b'] = TEST_B_LABEL_PATH\n",
        "TEST_LABEL_PATH_DICT['subtask_c'] = TEST_C_LABEL_PATH\n",
        "classes_dict = {}\n",
        "classes_dict['subtask_a'] = {'NOT' : 0 ,'OFF' : 1}\n",
        "classes_dict['subtask_b'] = {'UNT' : 0 ,'TIN' : 1}\n",
        "classes_dict['subtask_c'] = {'IND' : 0 ,'OTH' : 1, 'GRP' : 2}\n",
        "test_label={}\n",
        "for subtask in task_list:\n",
        "    temp_df = pd.read_csv(TEST_LABEL_PATH_DICT[subtask],sep=',',header=None)\n",
        "    test_label[subtask] =np.asarray(temp_df[1].apply(lambda x: classes_dict[subtask][x])).astype('int')"
      ],
      "execution_count": 0,
      "outputs": []
    },
    {
      "cell_type": "code",
      "metadata": {
        "id": "j36jNPem-bAU",
        "colab_type": "code",
        "colab": {}
      },
      "source": [
        "import matplotlib.pyplot as plt\n",
        "from sklearn.metrics import confusion_matrix\n",
        "from sklearn.utils.multiclass import unique_labels\n",
        "def plot_confusion_matrix(y_true, y_pred, classes,subtask,\n",
        "                          normalize=False,\n",
        "                          title=None,\n",
        "                          cmap=plt.cm.Blues):\n",
        "    \"\"\"\n",
        "    This function prints and plots the confusion matrix.\n",
        "    Normalization can be applied by setting `normalize=True`.\n",
        "    \"\"\"\n",
        "    if not title:\n",
        "        if normalize:\n",
        "            title = 'Normalized confusion matrix'\n",
        "        else:\n",
        "            title = 'Confusion matrix, without normalization'\n",
        "\n",
        "    # Compute confusion matrix\n",
        "    cm = confusion_matrix(y_true, y_pred)\n",
        "    # Only use the labels that appear in the data\n",
        "    classes = classes[unique_labels(y_true, y_pred)]\n",
        "    if normalize:\n",
        "        cm = cm.astype('float') / cm.sum(axis=1)[:, np.newaxis]\n",
        "        print(\"Normalized confusion matrix\")\n",
        "    else:\n",
        "        print('Confusion matrix, without normalization')\n",
        "\n",
        "    print(cm)\n",
        "\n",
        "    fig, ax = plt.subplots()\n",
        "    im = ax.imshow(cm, interpolation='nearest', cmap=cmap)\n",
        "    ax.figure.colorbar(im, ax=ax)\n",
        "    # We want to show all ticks...\n",
        "    ax.set(xticks=np.arange(cm.shape[1]),\n",
        "           yticks=np.arange(cm.shape[0]),\n",
        "           # ... and label them with the respective list entries\n",
        "           xticklabels=list(classes_dict[subtask].keys()), yticklabels=list(classes_dict[subtask].keys()),\n",
        "           title=title,\n",
        "           ylabel='True label',\n",
        "           xlabel='Predicted label')\n",
        "\n",
        "    # Rotate the tick labels and set their alignment.\n",
        "    plt.setp(ax.get_xticklabels(), rotation=45, ha=\"right\",\n",
        "             rotation_mode=\"anchor\")\n",
        "\n",
        "    # Loop over data dimensions and create text annotations.\n",
        "    fmt = '.2f' if normalize else 'd'\n",
        "    thresh = cm.max() / 2.\n",
        "    for i in range(cm.shape[0]):\n",
        "        for j in range(cm.shape[1]):\n",
        "            ax.text(j, i, format(cm[i, j], fmt),\n",
        "                    ha=\"center\", va=\"center\",\n",
        "                    color=\"white\" if cm[i, j] > thresh else \"black\")\n",
        "    fig.tight_layout()\n",
        "    return ax"
      ],
      "execution_count": 0,
      "outputs": []
    },
    {
      "cell_type": "code",
      "metadata": {
        "id": "25fZp6sVFHOF",
        "colab_type": "code",
        "colab": {}
      },
      "source": [
        "from keras.models import load_model\n",
        "from sklearn.metrics import confusion_matrix, f1_score, precision_score, recall_score,accuracy_score\n",
        "def test_model(MODEL_PATH,subtask):\n",
        "  if os.path.exists(MODEL_PATH):\n",
        "        model=load_model(MODEL_PATH)\n",
        "      # 若成功加载前面保存的参数，输出下列信息\n",
        "        print(\"checkpoint_loaded\")\n",
        "  predictions = model.predict(bert_data['test'][subtask])\n",
        "  if subtask == 'subtask_c':\n",
        "    print(predictions.shape)\n",
        "    predictions=np.argmax(predictions,axis=1)\n",
        "  else:\n",
        "    predictions=predictions.round().astype('int').reshape(-1)\n",
        "  testing_f1 = f1_score(test_label[subtask], predictions,average='macro')\n",
        "  testing_acc = accuracy_score(test_label[subtask], predictions)\n",
        "  print('testing data f1-score:',testing_f1)\n",
        "  print('testing data accuracy:',testing_acc)\n",
        "  return predictions"
      ],
      "execution_count": 0,
      "outputs": []
    },
    {
      "cell_type": "markdown",
      "metadata": {
        "id": "O9hSo05L2lhS",
        "colab_type": "text"
      },
      "source": [
        "#Performance of Bert Embeddings and CNN on Task A"
      ]
    },
    {
      "cell_type": "code",
      "metadata": {
        "id": "0Eat60AD6l6Z",
        "colab_type": "code",
        "outputId": "5fdc65f6-4b53-4580-a5ce-055ea21806e7",
        "colab": {
          "base_uri": "https://localhost:8080/",
          "height": 68
        }
      },
      "source": [
        "TARGET_TASK = 'subtask_a'\n",
        "predictions = test_model('./output2/CNN_Train_subtask_a_4.hdf5',TARGET_TASK)"
      ],
      "execution_count": 0,
      "outputs": [
        {
          "output_type": "stream",
          "text": [
            "checkpoint_loaded\n",
            "testing data f1-score: 0.7518655008042515\n",
            "testing data accuracy: 0.8058139534883721\n"
          ],
          "name": "stdout"
        }
      ]
    },
    {
      "cell_type": "code",
      "metadata": {
        "id": "iDCGu5sC8av0",
        "colab_type": "code",
        "outputId": "a8e6af25-12dd-49a3-f0de-659a324d4259",
        "colab": {
          "base_uri": "https://localhost:8080/",
          "height": 348
        }
      },
      "source": [
        "np.set_printoptions(precision=2)\n",
        "\n",
        "# # Plot non-normalized confusion matrix\n",
        "# plot_confusion_matrix(y_test, y_pred, classes=class_names,\n",
        "#                       title='Confusion matrix, without normalization')\n",
        "\n",
        "# Plot normalized confusion matrix\n",
        "plot_confusion_matrix(test_label[TARGET_TASK], predictions,subtask=TARGET_TASK, classes=np.array([0,1]), normalize=True,\n",
        "                      title='Normalized confusion matrix')\n",
        "plt.savefig('cfm_cnn_bert_a.png')\n",
        "plt.show()"
      ],
      "execution_count": 0,
      "outputs": [
        {
          "output_type": "stream",
          "text": [
            "Normalized confusion matrix\n",
            "[[0.88 0.12]\n",
            " [0.39 0.61]]\n"
          ],
          "name": "stdout"
        },
        {
          "output_type": "display_data",
          "data": {
            "image/png": "[encoded data removed]",
            "text/plain": [
              "<Figure size 432x288 with 2 Axes>"
            ]
          },
          "metadata": {
            "tags": []
          }
        }
      ]
    },
    {
      "cell_type": "markdown",
      "metadata": {
        "id": "kB2FMO7o2wUL",
        "colab_type": "text"
      },
      "source": [
        "#Performance of Bert Embeddings and CNN on Task B"
      ]
    },
    {
      "cell_type": "code",
      "metadata": {
        "id": "gscpBXix8esR",
        "colab_type": "code",
        "outputId": "ff7e14ab-cd62-4e43-b515-89e3761c4388",
        "colab": {
          "base_uri": "https://localhost:8080/",
          "height": 68
        }
      },
      "source": [
        "TARGET_TASK = 'subtask_b'\n",
        "predictions = test_model('./output/CNN_Train_subtask_b_3_TRUE.hdf5',TARGET_TASK)"
      ],
      "execution_count": 0,
      "outputs": [
        {
          "output_type": "stream",
          "text": [
            "checkpoint_loaded\n",
            "testing data f1-score: 0.7063948100092678\n",
            "testing data accuracy: 0.8625\n"
          ],
          "name": "stdout"
        }
      ]
    },
    {
      "cell_type": "code",
      "metadata": {
        "id": "u6oIn5M3_Be6",
        "colab_type": "code",
        "outputId": "a54c8ef7-636e-4dac-a04c-880ae1b336fa",
        "colab": {
          "base_uri": "https://localhost:8080/",
          "height": 348
        }
      },
      "source": [
        "np.set_printoptions(precision=2)\n",
        "plot_confusion_matrix(test_label[TARGET_TASK], predictions,subtask=TARGET_TASK, classes=np.array([0,1]), normalize=True,\n",
        "                      title='Normalized confusion matrix')\n",
        "plt.savefig('cfm_cnn_bert_b.png')\n",
        "plt.show()"
      ],
      "execution_count": 0,
      "outputs": [
        {
          "output_type": "stream",
          "text": [
            "Normalized confusion matrix\n",
            "[[0.59 0.41]\n",
            " [0.1  0.9 ]]\n"
          ],
          "name": "stdout"
        },
        {
          "output_type": "display_data",
          "data": {
            "image/png": "[encoded data removed]",
            "text/plain": [
              "<Figure size 432x288 with 2 Axes>"
            ]
          },
          "metadata": {
            "tags": []
          }
        }
      ]
    },
    {
      "cell_type": "markdown",
      "metadata": {
        "id": "mtsB70nc20BY",
        "colab_type": "text"
      },
      "source": [
        "#Performance of Bert Embeddings and CNN on Task C"
      ]
    },
    {
      "cell_type": "code",
      "metadata": {
        "id": "gzxaZe_nB5wd",
        "colab_type": "code",
        "outputId": "3249ea1c-1036-4922-9d6e-4ec1272d3d3b",
        "colab": {
          "base_uri": "https://localhost:8080/",
          "height": 433
        }
      },
      "source": [
        "TARGET_TASK = 'subtask_c'\n",
        "predictions = test_model('./output2/CNN_Train_subtask_c_4.hdf5',TARGET_TASK)\n",
        "np.set_printoptions(precision=2)\n",
        "plot_confusion_matrix(test_label[TARGET_TASK], predictions,subtask=TARGET_TASK, classes=np.array([0,1,2]), normalize=True,\n",
        "                      title='Normalized confusion matrix')\n",
        "plt.savefig('cfm_cnn_bert_c.png')\n",
        "plt.show()"
      ],
      "execution_count": 0,
      "outputs": [
        {
          "output_type": "stream",
          "text": [
            "checkpoint_loaded\n",
            "(213, 3)\n",
            "testing data f1-score: 0.6077566713017322\n",
            "testing data accuracy: 0.6807511737089202\n",
            "Normalized confusion matrix\n",
            "[[0.76 0.07 0.17]\n",
            " [0.31 0.31 0.37]\n",
            " [0.15 0.1  0.74]]\n"
          ],
          "name": "stdout"
        },
        {
          "output_type": "display_data",
          "data": {
            "image/png": "[encoded data removed]",
            "text/plain": [
              "<Figure size 432x288 with 2 Axes>"
            ]
          },
          "metadata": {
            "tags": []
          }
        }
      ]
    },
    {
      "cell_type": "code",
      "metadata": {
        "id": "YsYyiNpLDGYZ",
        "colab_type": "code",
        "outputId": "8a67af8d-352f-48a1-810d-52e92b3ec5db",
        "colab": {
          "base_uri": "https://localhost:8080/",
          "height": 173
        }
      },
      "source": [
        "import os\n",
        "import pandas as pd\n",
        "DATA_SET_DIR = './gdrive/My Drive/NLP/Final-Project/data/'\n",
        "TRAINING_DATA_PATH = DATA_SET_DIR+'olid-training-clean.csv'\n",
        "TEST_PATH_DICT = {}\n",
        "TEST_A_DATA_PATH = DATA_SET_DIR+'testset-levela-clean.tsv'\n",
        "TEST_B_DATA_PATH = DATA_SET_DIR+'testset-levelb-clean.tsv'\n",
        "TEST_C_DATA_PATH = DATA_SET_DIR+'testset-levelc-clean.tsv'\n",
        "TEST_PATH_DICT['subtask_a'] = TEST_A_DATA_PATH\n",
        "TEST_PATH_DICT['subtask_b'] = TEST_B_DATA_PATH\n",
        "TEST_PATH_DICT['subtask_c'] = TEST_C_DATA_PATH\n",
        "\n",
        "data={}\n",
        "data['train'] = {}\n",
        "data['validation'] = {}\n",
        "data['test'] = {}\n",
        "task_list = ['subtask_a','subtask_b','subtask_c']\n",
        "train = pd.read_csv(TRAINING_DATA_PATH,sep='\\t', index_col='id')\n",
        "for subtask in task_list:\n",
        "    data['test'][subtask] = pd.read_csv(TEST_PATH_DICT[subtask],sep='\\t', index_col='id')\n",
        "train.head(3)"
      ],
      "execution_count": 0,
      "outputs": [
        {
          "output_type": "execute_result",
          "data": {
            "text/html": [
              "<div>\n",
              "<style scoped>\n",
              "    .dataframe tbody tr th:only-of-type {\n",
              "        vertical-align: middle;\n",
              "    }\n",
              "\n",
              "    .dataframe tbody tr th {\n",
              "        vertical-align: top;\n",
              "    }\n",
              "\n",
              "    .dataframe thead th {\n",
              "        text-align: right;\n",
              "    }\n",
              "</style>\n",
              "<table border=\"1\" class=\"dataframe\">\n",
              "  <thead>\n",
              "    <tr style=\"text-align: right;\">\n",
              "      <th></th>\n",
              "      <th>tweet_exp</th>\n",
              "      <th>subtask_a</th>\n",
              "      <th>subtask_b</th>\n",
              "      <th>subtask_c</th>\n",
              "    </tr>\n",
              "    <tr>\n",
              "      <th>id</th>\n",
              "      <th></th>\n",
              "      <th></th>\n",
              "      <th></th>\n",
              "      <th></th>\n",
              "    </tr>\n",
              "  </thead>\n",
              "  <tbody>\n",
              "    <tr>\n",
              "      <th>86426</th>\n",
              "      <td>@USER She should ask a few native Americans wh...</td>\n",
              "      <td>OFF</td>\n",
              "      <td>UNT</td>\n",
              "      <td>NaN</td>\n",
              "    </tr>\n",
              "    <tr>\n",
              "      <th>90194</th>\n",
              "      <td>@USER @USER Go home you are drunk!!! @USER #MA...</td>\n",
              "      <td>OFF</td>\n",
              "      <td>TIN</td>\n",
              "      <td>IND</td>\n",
              "    </tr>\n",
              "    <tr>\n",
              "      <th>16820</th>\n",
              "      <td>Amazon is investigating Chinese employees who ...</td>\n",
              "      <td>NOT</td>\n",
              "      <td>NaN</td>\n",
              "      <td>NaN</td>\n",
              "    </tr>\n",
              "  </tbody>\n",
              "</table>\n",
              "</div>"
            ],
            "text/plain": [
              "                                               tweet_exp  ... subtask_c\n",
              "id                                                        ...          \n",
              "86426  @USER She should ask a few native Americans wh...  ...       NaN\n",
              "90194  @USER @USER Go home you are drunk!!! @USER #MA...  ...       IND\n",
              "16820  Amazon is investigating Chinese employees who ...  ...       NaN\n",
              "\n",
              "[3 rows x 4 columns]"
            ]
          },
          "metadata": {
            "tags": []
          },
          "execution_count": 10
        }
      ]
    },
    {
      "cell_type": "code",
      "metadata": {
        "id": "m0S1oDabYbnn",
        "colab_type": "code",
        "colab": {}
      },
      "source": [
        "def clean_tweet(text):\n",
        "#     def handle_emoji(text):\n",
        "#       # Dictionnary of \"important\" emojis : \n",
        "#       emoji_dict =  {'♥️': ' love ',\n",
        "#                      '❤️' : ' love ',\n",
        "#                      '❤' : ' love ',\n",
        "#                      '😘' : ' kisses ',\n",
        "#                     '😭' : ' cry ',\n",
        "#                     '💪' : ' strong ',\n",
        "#                     '🌍' : ' earth ',\n",
        "#                     '💰' : ' money ',\n",
        "#                     '👍' : ' ok ',\n",
        "#                      '👌' : ' ok ',\n",
        "#                     '😡' : ' angry ',\n",
        "#                     '🍆' : ' dick ',\n",
        "#                     '🤣' : ' haha ',\n",
        "#                     '😂' : ' haha ',\n",
        "#                     '🖕' : ' fuck you '}\n",
        "\n",
        "#       for cha in emoji_dict:\n",
        "#           text = re.compile(str(cha)).sub(str(emoji_dict[cha]),text)\n",
        "#       # Remove ALL emojis\n",
        "#       text = emoji.get_emoji_regexp().sub(r' ',text) \n",
        "#       text = re.compile(\"([\\U0001f3fb-\\U0001f3ff])\").sub(r'',text) \n",
        "#       text = re.compile(\"([\\U00010000-\\U0010ffff])\").sub(r'',text) \n",
        "#       text = re.compile(\"(\\u00a9|\\u00ae|[\\u2000-\\u3300]|\\ud83c[\\ud000-\\udfff]|\\ud83d[\\ud000-\\udfff]|\\ud83e[\\ud000-\\udfff])\").sub(r'',text)\n",
        "\n",
        "#       # Add Space between  the Emoji Expressions : \n",
        "#       text = re.compile(\"([\\U00010000-\\U0010ffff])\").sub(r' \\1 ',text) \n",
        "#       return text\n",
        "    ''' Function that is applied to every to tweet in the dataset '''\n",
        "\n",
        "    # =========== TEXT ===========\n",
        "    # Replace @USER by <user>\n",
        "    text = re.compile(r'@USER').sub(r'<user>',text)\n",
        "\n",
        "    # Replace URL by <url>\n",
        "    text = re.compile(r'URL').sub(r'<url>',text)\n",
        "\n",
        "    # Remove numbers :\n",
        "    text = re.compile(r'[0-9]+').sub(r' ',text)\n",
        "\n",
        "    # Remove some special characters\n",
        "    text = re.compile(r'([\\xa0_\\{\\}\\[\\]¬•$,:;/@#|\\^*%().~`”\"“-])').sub(r' ',text) \n",
        "\n",
        "    # Space the special characters with white spaces\n",
        "    text = re.compile(r'([$&+,:;=?@#|.^*()%!\"’“-])').sub(r' \\1 ',text)\n",
        "\n",
        "    # Replace some special characters : \n",
        "    replace_dict = {r'&' : 'and' , \n",
        "                    r'\\+' : 'plus'}\n",
        "    for cha in replace_dict:\n",
        "        text = re.compile(str(cha)).sub(str(replace_dict[cha]),text)\n",
        "\n",
        "    # Handle Emoji : translate some and delete the others\n",
        "#     text = handle_emoji(text)\n",
        "\n",
        "    # Word delengthening : \n",
        "    text = re.compile(r'(.)\\1{3,}').sub(r'\\1\\1',text)\n",
        "\n",
        "    # Cut the words with caps in them : \n",
        "    text = re.compile(r'([a-z]+|[A-Z]+|[A-Z][a-z]+)([A-Z][a-z]+)').sub(r'\\1 \\2',text)\n",
        "    text = re.compile(r'([a-z]+|[A-Z]+|[A-Z][a-z]+)([A-Z][a-z]+)').sub(r'\\1 \\2',text)        \n",
        "    # =========== TOKENS ===========\n",
        "    # TOKENIZE \n",
        "    text = text.split(' ')\n",
        "\n",
        "    # Remove white spaces tokens\n",
        "    text = [text[i] for i in range(len(text)) if text[i] != ' ']\n",
        "\n",
        "    # Remove empty tokens\n",
        "    text = [text[i] for i in range(len(text)) if text[i] != '']\n",
        "\n",
        "    # Remove repetition in tokens (!!! => !)\n",
        "    text = [text[i] for i in range(len(text)) if text[i] != text[i-1]]\n",
        "\n",
        "    #  Handle the ALL CAPS Tweets \n",
        "    ### if ratio of caps in the word > 75% add allcaps tag <allcaps>\n",
        "    caps_r = np.mean([text[i].isupper() for i in range(len(text))])\n",
        "    if caps_r > 0.6 : \n",
        "        text.append('<allcaps>')\n",
        "\n",
        "    # Lower Case : \n",
        "    text = [text[i].lower() for i in range(len(text))]\n",
        "\n",
        "    return ' '.join(text)"
      ],
      "execution_count": 0,
      "outputs": []
    },
    {
      "cell_type": "code",
      "metadata": {
        "id": "x5DUviwHZOCm",
        "colab_type": "code",
        "outputId": "27fd99d5-a36b-43d1-ed32-c06e81ab396e",
        "colab": {
          "base_uri": "https://localhost:8080/",
          "height": 34
        }
      },
      "source": [
        "def _run_split_on_punc(text):\n",
        "    \"\"\"Splits punctuation on a piece of text.\"\"\"\n",
        "    chars = list(text)\n",
        "    i = 0\n",
        "    start_new_word = True\n",
        "    output = []\n",
        "    def _is_punctuation(char):\n",
        "        # print('[%s]+' % re.escape(string.punctuation))\n",
        "        if re.match(r'[\\!\\\"\\$\\%\\&\\(\\)\\*\\+\\,\\-\\.\\/\\:\\;\\<\\=\\>\\?\\[\\\\\\]\\^_\\`\\{\\|\\}\\~]+',char):\n",
        "            return True\n",
        "        else:\n",
        "            return False\n",
        "    while i < len(chars):\n",
        "        char = chars[i]\n",
        "        if _is_punctuation(char):\n",
        "            output.append([char])\n",
        "            start_new_word = True\n",
        "        else:\n",
        "            if start_new_word:\n",
        "                output.append([])\n",
        "            start_new_word = False\n",
        "            output[-1].append(char)\n",
        "        i += 1\n",
        "    text_list = [\"\".join(x) for x in output]\n",
        "    text = ' '.join(text_list)\n",
        "    text = text.split(' ')\n",
        "    return ' '.join(text)\n",
        "print(_run_split_on_punc(\"@USER @USER @USER @USER LOL!!!   Throwing the BULLSHIT Flag on such nonsense!!  #PutUpOrShutUp\"))"
      ],
      "execution_count": 0,
      "outputs": [
        {
          "output_type": "stream",
          "text": [
            "@USER @USER @USER @USER LOL ! ! !    Throwing the BULLSHIT Flag on such nonsense ! !   #PutUpOrShutUp\n"
          ],
          "name": "stdout"
        }
      ]
    },
    {
      "cell_type": "code",
      "metadata": {
        "id": "zuso6wL7ZRYg",
        "colab_type": "code",
        "colab": {}
      },
      "source": [
        "train.tweet_exp = train.tweet_exp.apply(_run_split_on_punc)\n",
        "train.tweet_exp = train.tweet_exp.apply(clean_tweet)\n",
        "for subtask in task_list:\n",
        "    data['test'][subtask].tweet_exp = data['test'][subtask].tweet_exp.apply(_run_split_on_punc)\n",
        "    data['test'][subtask].tweet_exp = data['test'][subtask].tweet_exp.apply(clean_tweet)"
      ],
      "execution_count": 0,
      "outputs": []
    },
    {
      "cell_type": "code",
      "metadata": {
        "id": "BFHUGyZdZVZR",
        "colab_type": "code",
        "outputId": "90a44f85-c909-42d2-f25b-22627c9eb768",
        "colab": {
          "base_uri": "https://localhost:8080/",
          "height": 269
        }
      },
      "source": [
        "import numpy as np\n",
        "corpus_train = train.tweet_exp\n",
        "corpus = pd.concat([train.tweet_exp, data['test']['subtask_a'].tweet_exp,data['test']['subtask_b'].tweet_exp,data['test']['subtask_c'].tweet_exp])\n",
        "print(train.shape,corpus.shape)\n",
        "print(data['test']['subtask_a'].shape,data['test']['subtask_b'].shape,data['test']['subtask_c'].shape)\n",
        "pd.DataFrame(corpus.iloc[:5],columns=['tweet_exp'])"
      ],
      "execution_count": 0,
      "outputs": [
        {
          "output_type": "stream",
          "text": [
            "(13240, 4) (14553,)\n",
            "(860, 1) (240, 1) (213, 1)\n"
          ],
          "name": "stdout"
        },
        {
          "output_type": "execute_result",
          "data": {
            "text/html": [
              "<div>\n",
              "<style scoped>\n",
              "    .dataframe tbody tr th:only-of-type {\n",
              "        vertical-align: middle;\n",
              "    }\n",
              "\n",
              "    .dataframe tbody tr th {\n",
              "        vertical-align: top;\n",
              "    }\n",
              "\n",
              "    .dataframe thead th {\n",
              "        text-align: right;\n",
              "    }\n",
              "</style>\n",
              "<table border=\"1\" class=\"dataframe\">\n",
              "  <thead>\n",
              "    <tr style=\"text-align: right;\">\n",
              "      <th></th>\n",
              "      <th>tweet_exp</th>\n",
              "    </tr>\n",
              "    <tr>\n",
              "      <th>id</th>\n",
              "      <th></th>\n",
              "    </tr>\n",
              "  </thead>\n",
              "  <tbody>\n",
              "    <tr>\n",
              "      <th>86426</th>\n",
              "      <td>&lt;user&gt; she should ask a few native americans w...</td>\n",
              "    </tr>\n",
              "    <tr>\n",
              "      <th>90194</th>\n",
              "      <td>&lt;user&gt; go home you are drunk ! &lt;user&gt; maga tru...</td>\n",
              "    </tr>\n",
              "    <tr>\n",
              "      <th>16820</th>\n",
              "      <td>amazon is investigating chinese employees who ...</td>\n",
              "    </tr>\n",
              "    <tr>\n",
              "      <th>62688</th>\n",
              "      <td>&lt;user&gt; someone should've taken this piece of s...</td>\n",
              "    </tr>\n",
              "    <tr>\n",
              "      <th>43605</th>\n",
              "      <td>&lt;user&gt; obama wanted liberals and amp illegals ...</td>\n",
              "    </tr>\n",
              "  </tbody>\n",
              "</table>\n",
              "</div>"
            ],
            "text/plain": [
              "                                               tweet_exp\n",
              "id                                                      \n",
              "86426  <user> she should ask a few native americans w...\n",
              "90194  <user> go home you are drunk ! <user> maga tru...\n",
              "16820  amazon is investigating chinese employees who ...\n",
              "62688  <user> someone should've taken this piece of s...\n",
              "43605  <user> obama wanted liberals and amp illegals ..."
            ]
          },
          "metadata": {
            "tags": []
          },
          "execution_count": 12
        }
      ]
    },
    {
      "cell_type": "code",
      "metadata": {
        "id": "VT7_f98nbQmm",
        "colab_type": "code",
        "outputId": "c0fbc43d-319e-4ec0-fdea-fd50835b1329",
        "colab": {
          "base_uri": "https://localhost:8080/",
          "height": 108
        }
      },
      "source": [
        "from keras.preprocessing.text import Tokenizer\n",
        "from keras.preprocessing.sequence import pad_sequences\n",
        "MAX_NB_WORDS=10000\n",
        "tokenizer = Tokenizer(nb_words=None,filters='')\n",
        "tokenizer.fit_on_texts(corpus)\n",
        "X = tokenizer.texts_to_sequences(corpus_train)"
      ],
      "execution_count": 0,
      "outputs": [
        {
          "output_type": "stream",
          "text": [
            "Using TensorFlow backend.\n",
            "/usr/local/lib/python3.6/dist-packages/keras_preprocessing/text.py:178: UserWarning: The `nb_words` argument in `Tokenizer` has been renamed `num_words`.\n",
            "  warnings.warn('The `nb_words` argument in `Tokenizer` '\n"
          ],
          "name": "stderr"
        }
      ]
    },
    {
      "cell_type": "code",
      "metadata": {
        "id": "1sT8cXLcbT6Y",
        "colab_type": "code",
        "outputId": "98a18a81-1248-4281-f0d5-f68032e41910",
        "colab": {
          "base_uri": "https://localhost:8080/",
          "height": 193
        }
      },
      "source": [
        "for seq in X[:3]:\n",
        "    print(seq)\n",
        "    print([tokenizer.index_word[idx] for idx in seq])\n",
        "MAX_SEQUENCE_LENGTH = max([len(X[i]) for i in range(len(X))])\n",
        "print('MAX_SEQUENCE_LENGTH:',MAX_SEQUENCE_LENGTH)\n",
        "word_index = tokenizer.word_index\n",
        "print('Found %s unique tokens.' % len(word_index))"
      ],
      "execution_count": 0,
      "outputs": [
        {
          "output_type": "stream",
          "text": [
            "[1, 17, 80, 340, 7, 466, 2875, 303, 37, 67, 134, 24, 22, 3]\n",
            "['<user>', 'she', 'should', 'ask', 'a', 'few', 'native', 'americans', 'what', 'their', 'take', 'on', 'this', 'is']\n",
            "[1, 91, 308, 6, 8, 1043, 12, 1, 43, 63, 20]\n",
            "['<user>', 'go', 'home', 'you', 'are', 'drunk', '!', '<user>', 'maga', 'trump', '<url>']\n",
            "[1945, 3, 7009, 2072, 2646, 49, 8, 1755, 5503, 1455, 4, 1670, 130, 9658, 285, 19, 64, 2876, 15, 2, 2877, 5504, 20, 1945, 43, 317, 985, 475]\n",
            "['amazon', 'is', 'investigating', 'chinese', 'employees', 'who', 'are', 'selling', 'internal', 'data', 'to', 'third', 'party', 'sellers', 'looking', 'for', 'an', 'edge', 'in', 'the', 'competitive', 'marketplace', '<url>', 'amazon', 'maga', 'kag', 'china', 'tcot']\n",
            "MAX_SEQUENCE_LENGTH: 66\n",
            "Found 19638 unique tokens.\n"
          ],
          "name": "stdout"
        }
      ]
    },
    {
      "cell_type": "code",
      "metadata": {
        "id": "NFaf9rkgbWDi",
        "colab_type": "code",
        "colab": {}
      },
      "source": [
        "import keras\n",
        "from keras.preprocessing.sequence import pad_sequences\n",
        "def text2id(tokenizer,texts_pd,max_seq_length=MAX_SEQUENCE_LENGTH):\n",
        "  x_training = tokenizer.texts_to_sequences(texts_pd)\n",
        "  x_training = keras.preprocessing.sequence.pad_sequences(x_training,maxlen=max_seq_length)\n",
        "  for seq in x_training:\n",
        "      assert len(seq) == max_seq_length\n",
        "  print(\"all sequence length are \",max_seq_length)\n",
        "  return x_training"
      ],
      "execution_count": 0,
      "outputs": []
    },
    {
      "cell_type": "code",
      "metadata": {
        "id": "QDW9iPRGbhSd",
        "colab_type": "code",
        "outputId": "3dbbd45c-189e-4c82-d170-9114e979fdc3",
        "colab": {
          "base_uri": "https://localhost:8080/",
          "height": 34
        }
      },
      "source": [
        "GLOVE_DIR='./gdrive/My Drive/NLP/Final-Project/WordEmb'\n",
        "embeddings_index = {}\n",
        "f = open(os.path.join(GLOVE_DIR, 'glove.twitter.27B.100d.txt'))\n",
        "for line in f:\n",
        "    values = line.split()\n",
        "    word = values[0]\n",
        "    coefs = np.asarray(values[1:], dtype='float32')\n",
        "    embeddings_index[word] = coefs\n",
        "f.close()\n",
        "\n",
        "print('Found %s word vectors.' % len(embeddings_index))"
      ],
      "execution_count": 0,
      "outputs": [
        {
          "output_type": "stream",
          "text": [
            "Found 1193514 word vectors.\n"
          ],
          "name": "stdout"
        }
      ]
    },
    {
      "cell_type": "code",
      "metadata": {
        "id": "saSAHn-XbsLy",
        "colab_type": "code",
        "outputId": "ae02c47e-64ac-4b20-87d0-1e8adbc7ab9b",
        "colab": {
          "base_uri": "https://localhost:8080/",
          "height": 34
        }
      },
      "source": [
        "EMBEDDING_DIM = 100\n",
        "embedding_matrix = np.zeros((len(word_index) + 1, EMBEDDING_DIM))\n",
        "null_words = open('./output2/null-word.txt', 'w', encoding='utf-8')\n",
        "for word, i in word_index.items():\n",
        "    embedding_vector = embeddings_index.get(word)\n",
        "    if embedding_vector is not None:\n",
        "        # words not found in embedding index will be all-zeros.\n",
        "        embedding_matrix[i] = embedding_vector\n",
        "    else:\n",
        "        null_words.write(word + '\\n')\n",
        "print('###[EMB] Null word embeddings: %d' % np.sum(np.sum(embedding_matrix, axis=1) == 0))\n",
        "###[EMB] Null word embeddings: 5696"
      ],
      "execution_count": 0,
      "outputs": [
        {
          "output_type": "stream",
          "text": [
            "###[EMB] Null word embeddings: 2710\n"
          ],
          "name": "stdout"
        }
      ]
    },
    {
      "cell_type": "code",
      "metadata": {
        "id": "PLcguXDWbvQg",
        "colab_type": "code",
        "outputId": "83d1e221-6b57-46a3-e196-449100afefd4",
        "colab": {
          "base_uri": "https://localhost:8080/",
          "height": 68
        }
      },
      "source": [
        "for subtask in task_list:\n",
        "  data['test'][subtask+'_x_test'] = text2id(tokenizer, data['test'][subtask].tweet_exp)"
      ],
      "execution_count": 0,
      "outputs": [
        {
          "output_type": "stream",
          "text": [
            "all sequence length are  66\n",
            "all sequence length are  66\n",
            "all sequence length are  66\n"
          ],
          "name": "stdout"
        }
      ]
    },
    {
      "cell_type": "code",
      "metadata": {
        "id": "algj575ucvav",
        "colab_type": "code",
        "colab": {}
      },
      "source": [
        "def test_base_model(MODEL_PATH,subtask):\n",
        "  if os.path.exists(MODEL_PATH):\n",
        "        model=load_model(MODEL_PATH)\n",
        "      # 若成功加载前面保存的参数，输出下列信息\n",
        "        print(\"checkpoint_loaded\")\n",
        "  predictions = model.predict(data['test'][subtask+'_x_test'])\n",
        "  if subtask == 'subtask_c':\n",
        "    print(predictions.shape)\n",
        "    predictions=np.argmax(predictions,axis=1)\n",
        "  else:\n",
        "    predictions=predictions.round().astype('int').reshape(-1)\n",
        "  testing_f1 = f1_score(test_label[subtask], predictions,average='macro')\n",
        "  testing_acc = accuracy_score(test_label[subtask], predictions)\n",
        "  print('testing data f1-score:',testing_f1)\n",
        "  print('testing data accuracy:',testing_acc)\n",
        "  return predictions"
      ],
      "execution_count": 0,
      "outputs": []
    },
    {
      "cell_type": "markdown",
      "metadata": {
        "id": "ePgv4ZBV248x",
        "colab_type": "text"
      },
      "source": [
        "#Performance of Glov Embeddings and CNN on Task A"
      ]
    },
    {
      "cell_type": "code",
      "metadata": {
        "id": "5nv4bsG6cNTj",
        "colab_type": "code",
        "outputId": "0cd8675d-1c21-460a-fbe7-c1c3c823f517",
        "colab": {
          "base_uri": "https://localhost:8080/",
          "height": 399
        }
      },
      "source": [
        "TARGET_TASK = 'subtask_a'\n",
        "predictions = test_base_model('./output2/output/CNN_Train_subtask_a.hdf5',TARGET_TASK)\n",
        "np.set_printoptions(precision=2)\n",
        "plot_confusion_matrix(test_label[TARGET_TASK], predictions,subtask=TARGET_TASK, classes=np.array([0,1]), normalize=True,\n",
        "                      title='Normalized confusion matrix')\n",
        "plt.savefig('cfm_cnn_base_a.png')\n",
        "plt.show()"
      ],
      "execution_count": 0,
      "outputs": [
        {
          "output_type": "stream",
          "text": [
            "checkpoint_loaded\n",
            "testing data f1-score: 0.7654669414935785\n",
            "testing data accuracy: 0.8\n",
            "Normalized confusion matrix\n",
            "[[0.82 0.18]\n",
            " [0.25 0.75]]\n"
          ],
          "name": "stdout"
        },
        {
          "output_type": "display_data",
          "data": {
            "image/png": "[encoded data removed]",
            "text/plain": [
              "<Figure size 432x288 with 2 Axes>"
            ]
          },
          "metadata": {
            "tags": []
          }
        }
      ]
    },
    {
      "cell_type": "markdown",
      "metadata": {
        "id": "7qFpfw3L2-a0",
        "colab_type": "text"
      },
      "source": [
        "#Performance of Glov Embeddings and CNN on Task B"
      ]
    },
    {
      "cell_type": "code",
      "metadata": {
        "id": "PzycJWTFcdvA",
        "colab_type": "code",
        "outputId": "7e78f924-d1c9-400a-c3e0-6e8e55197a5d",
        "colab": {
          "base_uri": "https://localhost:8080/",
          "height": 399
        }
      },
      "source": [
        "TARGET_TASK = 'subtask_b'\n",
        "predictions = test_base_model('./output_b/output/CNN_Train_subtask_b.hdf5',TARGET_TASK)\n",
        "np.set_printoptions(precision=2)\n",
        "plot_confusion_matrix(test_label[TARGET_TASK], predictions,subtask=TARGET_TASK, classes=np.array([0,1]), normalize=True,\n",
        "                      title='Normalized confusion matrix')\n",
        "plt.savefig('cfm_cnn_base_b.png')\n",
        "plt.show()"
      ],
      "execution_count": 0,
      "outputs": [
        {
          "output_type": "stream",
          "text": [
            "checkpoint_loaded\n",
            "testing data f1-score: 0.6862232390913547\n",
            "testing data accuracy: 0.8666666666666667\n",
            "Normalized confusion matrix\n",
            "[[0.48 0.52]\n",
            " [0.08 0.92]]\n"
          ],
          "name": "stdout"
        },
        {
          "output_type": "display_data",
          "data": {
            "image/png": "[encoded data removed]",
            "text/plain": [
              "<Figure size 432x288 with 2 Axes>"
            ]
          },
          "metadata": {
            "tags": []
          }
        }
      ]
    },
    {
      "cell_type": "markdown",
      "metadata": {
        "id": "rgS7R0fL3A3O",
        "colab_type": "text"
      },
      "source": [
        "#Performance of Glov Embeddings and CNN on Task C"
      ]
    },
    {
      "cell_type": "code",
      "metadata": {
        "id": "VE-wu3xXeU_Z",
        "colab_type": "code",
        "outputId": "57964f8f-81c6-4c23-b521-7e17ae8436e4",
        "colab": {
          "base_uri": "https://localhost:8080/",
          "height": 433
        }
      },
      "source": [
        "TARGET_TASK = 'subtask_c'\n",
        "predictions = test_base_model('./output_c/output/CNN_Train_subtask_c.hdf5',TARGET_TASK)\n",
        "np.set_printoptions(precision=2)\n",
        "plot_confusion_matrix(test_label[TARGET_TASK], predictions,subtask=TARGET_TASK, classes=np.array([0,1,2]), normalize=True,\n",
        "                      title='Normalized confusion matrix')\n",
        "plt.savefig('cfm_cnn_base_c.png')\n",
        "plt.show()"
      ],
      "execution_count": 0,
      "outputs": [
        {
          "output_type": "stream",
          "text": [
            "checkpoint_loaded\n",
            "(213, 3)\n",
            "testing data f1-score: 0.5878947678019647\n",
            "testing data accuracy: 0.6572769953051644\n",
            "Normalized confusion matrix\n",
            "[[0.72 0.12 0.16]\n",
            " [0.34 0.31 0.34]\n",
            " [0.17 0.1  0.73]]\n"
          ],
          "name": "stdout"
        },
        {
          "output_type": "display_data",
          "data": {
            "image/png": "[encoded data removed]",
            "text/plain": [
              "<Figure size 432x288 with 2 Axes>"
            ]
          },
          "metadata": {
            "tags": []
          }
        }
      ]
    },
    {
      "cell_type": "markdown",
      "metadata": {
        "id": "bPHRZseO33fW",
        "colab_type": "text"
      },
      "source": [
        "#Performance of Glov Embeddings and LSTM on Task A"
      ]
    },
    {
      "cell_type": "code",
      "metadata": {
        "id": "i3tfjjL6ezyA",
        "colab_type": "code",
        "outputId": "00597809-29a6-47da-e935-9e56f34efd8c",
        "colab": {
          "base_uri": "https://localhost:8080/",
          "height": 399
        }
      },
      "source": [
        "TARGET_TASK = 'subtask_a'\n",
        "predictions = test_base_model('./lstm_a/output/CNN_Train_subtask_a.hdf5',TARGET_TASK)\n",
        "np.set_printoptions(precision=2)\n",
        "plot_confusion_matrix(test_label[TARGET_TASK], predictions,subtask=TARGET_TASK, classes=np.array([0,1]), normalize=True,\n",
        "                      title='Normalized confusion matrix')\n",
        "plt.savefig('cfm_lstm_base_a.png')\n",
        "plt.show()"
      ],
      "execution_count": 0,
      "outputs": [
        {
          "output_type": "stream",
          "text": [
            "checkpoint_loaded\n",
            "testing data f1-score: 0.755839967293912\n",
            "testing data accuracy: 0.7965116279069767\n",
            "Normalized confusion matrix\n",
            "[[0.84 0.16]\n",
            " [0.3  0.7 ]]\n"
          ],
          "name": "stdout"
        },
        {
          "output_type": "display_data",
          "data": {
            "image/png": "[encoded data removed]",
            "text/plain": [
              "<Figure size 432x288 with 2 Axes>"
            ]
          },
          "metadata": {
            "tags": []
          }
        }
      ]
    },
    {
      "cell_type": "markdown",
      "metadata": {
        "id": "4wUrscCR38Fh",
        "colab_type": "text"
      },
      "source": [
        "#Performance of Glov Embeddings and LSTM on Task B"
      ]
    },
    {
      "cell_type": "code",
      "metadata": {
        "id": "M_4sKZD6gA8S",
        "colab_type": "code",
        "outputId": "ece0bd0f-e18a-4973-c9b4-9cb781114ea6",
        "colab": {
          "base_uri": "https://localhost:8080/",
          "height": 399
        }
      },
      "source": [
        "TARGET_TASK = 'subtask_b'\n",
        "predictions = test_base_model('./lstm_b/output/CNN_Train_subtask_b.hdf5',TARGET_TASK)\n",
        "np.set_printoptions(precision=2)\n",
        "plot_confusion_matrix(test_label[TARGET_TASK], predictions,subtask=TARGET_TASK, classes=np.array([0,1]), normalize=True,\n",
        "                      title='Normalized confusion matrix')\n",
        "plt.savefig('cfm_lstm_base_b.png')\n",
        "plt.show()"
      ],
      "execution_count": 0,
      "outputs": [
        {
          "output_type": "stream",
          "text": [
            "checkpoint_loaded\n",
            "testing data f1-score: 0.6530202052258542\n",
            "testing data accuracy: 0.8291666666666667\n",
            "Normalized confusion matrix\n",
            "[[0.52 0.48]\n",
            " [0.13 0.87]]\n"
          ],
          "name": "stdout"
        },
        {
          "output_type": "display_data",
          "data": {
            "image/png": "[encoded data removed]",
            "text/plain": [
              "<Figure size 432x288 with 2 Axes>"
            ]
          },
          "metadata": {
            "tags": []
          }
        }
      ]
    },
    {
      "cell_type": "markdown",
      "metadata": {
        "id": "B7vX4J2r39uH",
        "colab_type": "text"
      },
      "source": [
        "#Performance of Glov Embeddings and LSTM on Task C"
      ]
    },
    {
      "cell_type": "code",
      "metadata": {
        "id": "5cxtZUTohQM6",
        "colab_type": "code",
        "outputId": "4a1d529f-1eba-4e12-bf60-8454aac82e6e",
        "colab": {
          "base_uri": "https://localhost:8080/",
          "height": 433
        }
      },
      "source": [
        "TARGET_TASK = 'subtask_c'\n",
        "predictions = test_base_model('./lstm_c/output/CNN_Train_subtask_c.hdf5',TARGET_TASK)\n",
        "np.set_printoptions(precision=2)\n",
        "plot_confusion_matrix(test_label[TARGET_TASK], predictions,subtask=TARGET_TASK, classes=np.array([0,1,2]), normalize=True,\n",
        "                      title='Normalized confusion matrix')\n",
        "plt.savefig('cfm_lstm_base_c.png')\n",
        "plt.show()"
      ],
      "execution_count": 0,
      "outputs": [
        {
          "output_type": "stream",
          "text": [
            "checkpoint_loaded\n",
            "(213, 3)\n",
            "testing data f1-score: 0.5773644118175659\n",
            "testing data accuracy: 0.6291079812206573\n",
            "Normalized confusion matrix\n",
            "[[0.69 0.12 0.19]\n",
            " [0.2  0.4  0.4 ]\n",
            " [0.15 0.19 0.65]]\n"
          ],
          "name": "stdout"
        },
        {
          "output_type": "display_data",
          "data": {
            "image/png": "[encoded data removed]",
            "text/plain": [
              "<Figure size 432x288 with 2 Axes>"
            ]
          },
          "metadata": {
            "tags": []
          }
        }
      ]
    },
    {
      "cell_type": "markdown",
      "metadata": {
        "id": "J2EP5SAh3_iU",
        "colab_type": "text"
      },
      "source": [
        "#Performance of Bert Embeddings and LSTM on Task A"
      ]
    },
    {
      "cell_type": "code",
      "metadata": {
        "id": "Xga0DacuhdUo",
        "colab_type": "code",
        "outputId": "40cf7c1e-0fab-454f-8a5f-452aa6f80ee4",
        "colab": {
          "base_uri": "https://localhost:8080/",
          "height": 399
        }
      },
      "source": [
        "TARGET_TASK = 'subtask_a'\n",
        "predictions = test_model('./lstm_bert_a/output3/CNN_Train_subtask_a_4.hdf5',TARGET_TASK)\n",
        "np.set_printoptions(precision=2)\n",
        "plot_confusion_matrix(test_label[TARGET_TASK], predictions,subtask=TARGET_TASK, classes=np.array([0,1]), normalize=True,\n",
        "                      title='Normalized confusion matrix')\n",
        "plt.savefig('cfm_lstm_bert_a.png')\n",
        "plt.show()"
      ],
      "execution_count": 0,
      "outputs": [
        {
          "output_type": "stream",
          "text": [
            "checkpoint_loaded\n",
            "testing data f1-score: 0.7341427085968018\n",
            "testing data accuracy: 0.7825581395348837\n",
            "Normalized confusion matrix\n",
            "[[0.84 0.16]\n",
            " [0.36 0.64]]\n"
          ],
          "name": "stdout"
        },
        {
          "output_type": "display_data",
          "data": {
            "image/png": "[encoded data removed]",
            "text/plain": [
              "<Figure size 432x288 with 2 Axes>"
            ]
          },
          "metadata": {
            "tags": []
          }
        }
      ]
    },
    {
      "cell_type": "markdown",
      "metadata": {
        "id": "W8AC7ZM94Huv",
        "colab_type": "text"
      },
      "source": [
        "#Performance of Bert Embeddings and LSTM on Task B"
      ]
    },
    {
      "cell_type": "code",
      "metadata": {
        "id": "kaFo1ksgjEE-",
        "colab_type": "code",
        "outputId": "8ceb93a9-fe59-4c1b-99f5-ff61c90f4c98",
        "colab": {
          "base_uri": "https://localhost:8080/",
          "height": 399
        }
      },
      "source": [
        "TARGET_TASK = 'subtask_b'\n",
        "predictions = test_model('./lstm_bert_b/output4/CNN_Train_subtask_b_4.hdf5',TARGET_TASK)\n",
        "np.set_printoptions(precision=2)\n",
        "plot_confusion_matrix(test_label[TARGET_TASK], predictions,subtask=TARGET_TASK, classes=np.array([0,1]), normalize=True,\n",
        "                      title='Normalized confusion matrix')\n",
        "plt.savefig('cfm_lstm_bert_b.png')\n",
        "plt.show()"
      ],
      "execution_count": 0,
      "outputs": [
        {
          "output_type": "stream",
          "text": [
            "checkpoint_loaded\n",
            "testing data f1-score: 0.6210241371531694\n",
            "testing data accuracy: 0.7958333333333333\n",
            "Normalized confusion matrix\n",
            "[[0.52 0.48]\n",
            " [0.17 0.83]]\n"
          ],
          "name": "stdout"
        },
        {
          "output_type": "display_data",
          "data": {
            "image/png": "[encoded data removed]",
            "text/plain": [
              "<Figure size 432x288 with 2 Axes>"
            ]
          },
          "metadata": {
            "tags": []
          }
        }
      ]
    },
    {
      "cell_type": "markdown",
      "metadata": {
        "id": "5HEPZUsX4L_d",
        "colab_type": "text"
      },
      "source": [
        "#Performance of Bert Embeddings and LSTM on Task C"
      ]
    },
    {
      "cell_type": "code",
      "metadata": {
        "id": "cOX1sMAhjVAE",
        "colab_type": "code",
        "outputId": "f559d046-afed-43cb-f89d-167de0d7d96d",
        "colab": {
          "base_uri": "https://localhost:8080/",
          "height": 433
        }
      },
      "source": [
        "TARGET_TASK = 'subtask_c'\n",
        "predictions = test_model('./lstm_bert_c/output5/CNN_Train_subtask_c_4.hdf5',TARGET_TASK)\n",
        "np.set_printoptions(precision=2)\n",
        "plot_confusion_matrix(test_label[TARGET_TASK], predictions,subtask=TARGET_TASK, classes=np.array([0,1,2]), normalize=True,\n",
        "                      title='Normalized confusion matrix')\n",
        "plt.savefig('cfm_lstm_bert_c.png')\n",
        "plt.show()"
      ],
      "execution_count": 0,
      "outputs": [
        {
          "output_type": "stream",
          "text": [
            "checkpoint_loaded\n",
            "(213, 3)\n",
            "testing data f1-score: 0.54145361088442\n",
            "testing data accuracy: 0.6009389671361502\n",
            "Normalized confusion matrix\n",
            "[[0.72 0.14 0.14]\n",
            " [0.29 0.34 0.37]\n",
            " [0.1  0.33 0.56]]\n"
          ],
          "name": "stdout"
        },
        {
          "output_type": "display_data",
          "data": {
            "image/png": "[encoded data removed]",
            "text/plain": [
              "<Figure size 432x288 with 2 Axes>"
            ]
          },
          "metadata": {
            "tags": []
          }
        }
      ]
    },
    {
      "cell_type": "code",
      "metadata": {
        "id": "Ofyf7HJbjmU1",
        "colab_type": "code",
        "colab": {}
      },
      "source": [
        ""
      ],
      "execution_count": 0,
      "outputs": []
    }
  ]
}